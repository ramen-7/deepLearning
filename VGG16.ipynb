{
 "cells": [
  {
   "cell_type": "code",
   "execution_count": 12,
   "id": "caa1f93c",
   "metadata": {},
   "outputs": [],
   "source": [
    "from tensorflow.keras.layers import Input, Lambda, Dense, Flatten\n",
    "from tensorflow.keras.models import Model\n",
    "from tensorflow.keras.applications.vgg16 import VGG16\n",
    "from tensorflow.keras.applications.vgg16 import preprocess_input\n",
    "from tensorflow.keras.preprocessing import image\n",
    "from tensorflow.keras.preprocessing.image import ImageDataGenerator\n",
    "from tensorflow.keras.models import Sequential\n",
    "from tensorflow.keras.optimizers import Adam\n",
    "import numpy as np\n",
    "from glob import glob\n",
    "import matplotlib.pyplot as pltb"
   ]
  },
  {
   "cell_type": "code",
   "execution_count": 13,
   "id": "d0f41f2c",
   "metadata": {},
   "outputs": [],
   "source": [
    "IMAGE_SIZE = [224, 224]"
   ]
  },
  {
   "cell_type": "code",
   "execution_count": 14,
   "id": "3a2ced12",
   "metadata": {},
   "outputs": [],
   "source": [
    "train_path = \"C://Users//shvmt//Documents//GitHub//deepLearning//Transfer Learning//data//train\"\n",
    "test_path = \"C://Users//shvmt//Documents//GitHub//deepLearning//Transfer Learning//data//test\""
   ]
  },
  {
   "cell_type": "code",
   "execution_count": 15,
   "id": "1076e9ee",
   "metadata": {},
   "outputs": [],
   "source": [
    "vgg = VGG16(input_shape= IMAGE_SIZE + [3], weights= 'imagenet', include_top= False)\n"
   ]
  },
  {
   "cell_type": "code",
   "execution_count": 16,
   "id": "5f6b7fd0",
   "metadata": {},
   "outputs": [],
   "source": [
    "for layer in vgg.layers:\n",
    "    layer.trainable = False"
   ]
  },
  {
   "cell_type": "code",
   "execution_count": 17,
   "id": "6ced7497",
   "metadata": {},
   "outputs": [
    {
     "name": "stdout",
     "output_type": "stream",
     "text": [
      "Model: \"model_1\"\n",
      "_________________________________________________________________\n",
      " Layer (type)                Output Shape              Param #   \n",
      "=================================================================\n",
      " input_2 (InputLayer)        [(None, 224, 224, 3)]     0         \n",
      "                                                                 \n",
      " block1_conv1 (Conv2D)       (None, 224, 224, 64)      1792      \n",
      "                                                                 \n",
      " block1_conv2 (Conv2D)       (None, 224, 224, 64)      36928     \n",
      "                                                                 \n",
      " block1_pool (MaxPooling2D)  (None, 112, 112, 64)      0         \n",
      "                                                                 \n",
      " block2_conv1 (Conv2D)       (None, 112, 112, 128)     73856     \n",
      "                                                                 \n",
      " block2_conv2 (Conv2D)       (None, 112, 112, 128)     147584    \n",
      "                                                                 \n",
      " block2_pool (MaxPooling2D)  (None, 56, 56, 128)       0         \n",
      "                                                                 \n",
      " block3_conv1 (Conv2D)       (None, 56, 56, 256)       295168    \n",
      "                                                                 \n",
      " block3_conv2 (Conv2D)       (None, 56, 56, 256)       590080    \n",
      "                                                                 \n",
      " block3_conv3 (Conv2D)       (None, 56, 56, 256)       590080    \n",
      "                                                                 \n",
      " block3_pool (MaxPooling2D)  (None, 28, 28, 256)       0         \n",
      "                                                                 \n",
      " block4_conv1 (Conv2D)       (None, 28, 28, 512)       1180160   \n",
      "                                                                 \n",
      " block4_conv2 (Conv2D)       (None, 28, 28, 512)       2359808   \n",
      "                                                                 \n",
      " block4_conv3 (Conv2D)       (None, 28, 28, 512)       2359808   \n",
      "                                                                 \n",
      " block4_pool (MaxPooling2D)  (None, 14, 14, 512)       0         \n",
      "                                                                 \n",
      " block5_conv1 (Conv2D)       (None, 14, 14, 512)       2359808   \n",
      "                                                                 \n",
      " block5_conv2 (Conv2D)       (None, 14, 14, 512)       2359808   \n",
      "                                                                 \n",
      " block5_conv3 (Conv2D)       (None, 14, 14, 512)       2359808   \n",
      "                                                                 \n",
      " block5_pool (MaxPooling2D)  (None, 7, 7, 512)         0         \n",
      "                                                                 \n",
      " flatten_1 (Flatten)         (None, 25088)             0         \n",
      "                                                                 \n",
      " dense_1 (Dense)             (None, 2)                 50178     \n",
      "                                                                 \n",
      "=================================================================\n",
      "Total params: 14,764,866\n",
      "Trainable params: 50,178\n",
      "Non-trainable params: 14,714,688\n",
      "_________________________________________________________________\n"
     ]
    }
   ],
   "source": [
    "x = Flatten()(vgg.output)\n",
    "prediction = Dense(len(folders), activation='softmax')(x)\n",
    "model = Model(inputs= vgg.input, outputs= prediction)\n",
    "model.summary()"
   ]
  },
  {
   "cell_type": "code",
   "execution_count": 20,
   "id": "ec5811c8",
   "metadata": {},
   "outputs": [],
   "source": [
    "model.compile(loss='binary_crossentropy', optimizer=Adam(), metrics=['accuracy'])"
   ]
  },
  {
   "cell_type": "code",
   "execution_count": 23,
   "id": "c720ada5",
   "metadata": {},
   "outputs": [],
   "source": [
    "datagen = ImageDataGenerator(\n",
    "    preprocessing_function = preprocess_input,\n",
    "    rotation_range = 360,\n",
    "    width_shift_range = 0.2,\n",
    "    height_shift_range = 0.2,\n",
    "    shear_range = 0.2,\n",
    "    zoom_range = 0.2,\n",
    "    horizontal_flip = True,\n",
    "    fill_mode = 'nearest')"
   ]
  },
  {
   "cell_type": "code",
   "execution_count": 24,
   "id": "24a33a1c",
   "metadata": {},
   "outputs": [
    {
     "name": "stdout",
     "output_type": "stream",
     "text": [
      "Found 2637 images belonging to 2 classes.\n"
     ]
    }
   ],
   "source": [
    "train_df = datagen.flow_from_directory(train_path,\n",
    "                                      target_size=(224, 224),\n",
    "                                      batch_size=32, \n",
    "                                      class_mode='categorical')"
   ]
  },
  {
   "cell_type": "code",
   "execution_count": 25,
   "id": "2b280dd9",
   "metadata": {},
   "outputs": [],
   "source": [
    "from keras.callbacks import ModelCheckpoint\n",
    "\n",
    "checkpoint = ModelCheckpoint(filepath='mymodel.h5', verbose=1, save_best_only=True)"
   ]
  },
  {
   "cell_type": "code",
   "execution_count": 27,
   "id": "b43b2301",
   "metadata": {},
   "outputs": [
    {
     "name": "stdout",
     "output_type": "stream",
     "text": [
      "Epoch 1/15\n",
      "83/83 [==============================] - ETA: 0s - loss: 1.7221 - accuracy: 0.8020WARNING:tensorflow:Can save best model only with val_loss available, skipping.\n",
      "83/83 [==============================] - 319s 4s/step - loss: 1.7221 - accuracy: 0.8020\n",
      "Epoch 2/15\n",
      "83/83 [==============================] - ETA: 0s - loss: 1.6889 - accuracy: 0.8108WARNING:tensorflow:Can save best model only with val_loss available, skipping.\n",
      "83/83 [==============================] - 325s 4s/step - loss: 1.6889 - accuracy: 0.8108\n",
      "Epoch 3/15\n",
      "83/83 [==============================] - ETA: 0s - loss: 1.6060 - accuracy: 0.8244WARNING:tensorflow:Can save best model only with val_loss available, skipping.\n",
      "83/83 [==============================] - 323s 4s/step - loss: 1.6060 - accuracy: 0.8244\n",
      "Epoch 4/15\n",
      "83/83 [==============================] - ETA: 0s - loss: 1.7340 - accuracy: 0.8214WARNING:tensorflow:Can save best model only with val_loss available, skipping.\n",
      "83/83 [==============================] - 326s 4s/step - loss: 1.7340 - accuracy: 0.8214\n",
      "Epoch 5/15\n",
      "83/83 [==============================] - ETA: 0s - loss: 2.2704 - accuracy: 0.8074WARNING:tensorflow:Can save best model only with val_loss available, skipping.\n",
      "83/83 [==============================] - 323s 4s/step - loss: 2.2704 - accuracy: 0.8074\n",
      "Epoch 6/15\n",
      "83/83 [==============================] - ETA: 0s - loss: 1.6884 - accuracy: 0.8309WARNING:tensorflow:Can save best model only with val_loss available, skipping.\n",
      "83/83 [==============================] - 326s 4s/step - loss: 1.6884 - accuracy: 0.8309\n",
      "Epoch 7/15\n",
      "83/83 [==============================] - ETA: 0s - loss: 1.7635 - accuracy: 0.8392WARNING:tensorflow:Can save best model only with val_loss available, skipping.\n",
      "83/83 [==============================] - 324s 4s/step - loss: 1.7635 - accuracy: 0.8392\n",
      "Epoch 8/15\n",
      "83/83 [==============================] - ETA: 0s - loss: 1.7564 - accuracy: 0.8335WARNING:tensorflow:Can save best model only with val_loss available, skipping.\n",
      "83/83 [==============================] - 331s 4s/step - loss: 1.7564 - accuracy: 0.8335\n",
      "Epoch 9/15\n",
      "83/83 [==============================] - ETA: 0s - loss: 1.9320 - accuracy: 0.8328WARNING:tensorflow:Can save best model only with val_loss available, skipping.\n",
      "83/83 [==============================] - 326s 4s/step - loss: 1.9320 - accuracy: 0.8328\n",
      "Epoch 10/15\n",
      "83/83 [==============================] - ETA: 0s - loss: 1.6983 - accuracy: 0.8411WARNING:tensorflow:Can save best model only with val_loss available, skipping.\n",
      "83/83 [==============================] - 327s 4s/step - loss: 1.6983 - accuracy: 0.8411\n",
      "Epoch 11/15\n",
      "83/83 [==============================] - ETA: 0s - loss: 1.7550 - accuracy: 0.8453WARNING:tensorflow:Can save best model only with val_loss available, skipping.\n",
      "83/83 [==============================] - 324s 4s/step - loss: 1.7550 - accuracy: 0.8453\n",
      "Epoch 12/15\n",
      "83/83 [==============================] - ETA: 0s - loss: 1.6533 - accuracy: 0.8388WARNING:tensorflow:Can save best model only with val_loss available, skipping.\n",
      "83/83 [==============================] - 324s 4s/step - loss: 1.6533 - accuracy: 0.8388\n",
      "Epoch 13/15\n",
      "83/83 [==============================] - ETA: 0s - loss: 1.8519 - accuracy: 0.8392WARNING:tensorflow:Can save best model only with val_loss available, skipping.\n",
      "83/83 [==============================] - 326s 4s/step - loss: 1.8519 - accuracy: 0.8392\n",
      "Epoch 14/15\n",
      "83/83 [==============================] - ETA: 0s - loss: 1.7822 - accuracy: 0.8487WARNING:tensorflow:Can save best model only with val_loss available, skipping.\n",
      "83/83 [==============================] - 323s 4s/step - loss: 1.7822 - accuracy: 0.8487\n",
      "Epoch 15/15\n",
      "83/83 [==============================] - ETA: 0s - loss: 1.9914 - accuracy: 0.8354WARNING:tensorflow:Can save best model only with val_loss available, skipping.\n",
      "83/83 [==============================] - 323s 4s/step - loss: 1.9914 - accuracy: 0.8354\n"
     ]
    }
   ],
   "source": [
    "history = model.fit(train_df, epochs=15, batch_size=32, callbacks=[checkpoint], verbose=1)"
   ]
  }
 ],
 "metadata": {
  "kernelspec": {
   "display_name": "Python 3 (ipykernel)",
   "language": "python",
   "name": "python3"
  },
  "language_info": {
   "codemirror_mode": {
    "name": "ipython",
    "version": 3
   },
   "file_extension": ".py",
   "mimetype": "text/x-python",
   "name": "python",
   "nbconvert_exporter": "python",
   "pygments_lexer": "ipython3",
   "version": "3.9.7"
  }
 },
 "nbformat": 4,
 "nbformat_minor": 5
}
