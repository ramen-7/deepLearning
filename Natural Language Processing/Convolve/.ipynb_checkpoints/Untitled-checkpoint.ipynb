{
 "cells": [
  {
   "cell_type": "code",
   "execution_count": 2,
   "id": "fda7e6bb",
   "metadata": {},
   "outputs": [],
   "source": [
    "import pandas as pd\n",
    "import numpy as np\n",
    "import json\n",
    "import seaborn as sns\n",
    "from collections import Counter\n",
    "\n",
    "with open('train.json', 'r') as f:\n",
    "    data = json.load(f)\n",
    "    \n",
    "test = pd.read_csv('test.csv')\n",
    "testlog = list(test[' Log'])\n",
    "keys = [key for key in data.keys()]\n",
    "values = [value for value in data.values()]\n",
    "keysStripped = []\n",
    "for i in keys:\n",
    "    keysStripped.append(i.strip())\n",
    "keysF = []\n",
    "for i in keysStripped:\n",
    "    keysF.append(i.split(\" \", 5))\n",
    "df = pd.DataFrame(keysF, columns=['1', 'Date', 'Info' ,'UID', 'Info2', 'Error'])\n",
    "df['Target'] =  values"
   ]
  },
  {
   "cell_type": "code",
   "execution_count": 3,
   "id": "48fad23c",
   "metadata": {},
   "outputs": [
    {
     "data": {
      "text/html": [
       "<div>\n",
       "<style scoped>\n",
       "    .dataframe tbody tr th:only-of-type {\n",
       "        vertical-align: middle;\n",
       "    }\n",
       "\n",
       "    .dataframe tbody tr th {\n",
       "        vertical-align: top;\n",
       "    }\n",
       "\n",
       "    .dataframe thead th {\n",
       "        text-align: right;\n",
       "    }\n",
       "</style>\n",
       "<table border=\"1\" class=\"dataframe\">\n",
       "  <thead>\n",
       "    <tr style=\"text-align: right;\">\n",
       "      <th></th>\n",
       "      <th>1</th>\n",
       "      <th>Date</th>\n",
       "      <th>Info</th>\n",
       "      <th>UID</th>\n",
       "      <th>Info2</th>\n",
       "      <th>Error</th>\n",
       "      <th>Target</th>\n",
       "    </tr>\n",
       "  </thead>\n",
       "  <tbody>\n",
       "    <tr>\n",
       "      <th>0</th>\n",
       "      <td>1117838570</td>\n",
       "      <td>2005.06.03</td>\n",
       "      <td>R02-M1-N0-C:J12-U11</td>\n",
       "      <td>2005-06-03-15.42.50.363779</td>\n",
       "      <td>R02-M1-N0-C:J12-U11</td>\n",
       "      <td>RAS KERNEL INFO instruction cache parity error...</td>\n",
       "      <td>normal</td>\n",
       "    </tr>\n",
       "    <tr>\n",
       "      <th>1</th>\n",
       "      <td>1117838570</td>\n",
       "      <td>2005.06.03</td>\n",
       "      <td>R02-M1-N0-C:J12-U11</td>\n",
       "      <td>2005-06-03-15.42.50.527847</td>\n",
       "      <td>R02-M1-N0-C:J12-U11</td>\n",
       "      <td>RAS KERNEL INFO instruction cache parity error...</td>\n",
       "      <td>normal</td>\n",
       "    </tr>\n",
       "    <tr>\n",
       "      <th>2</th>\n",
       "      <td>1117838570</td>\n",
       "      <td>2005.06.03</td>\n",
       "      <td>R02-M1-N0-C:J12-U11</td>\n",
       "      <td>2005-06-03-15.42.50.675872</td>\n",
       "      <td>R02-M1-N0-C:J12-U11</td>\n",
       "      <td>RAS KERNEL INFO instruction cache parity error...</td>\n",
       "      <td>normal</td>\n",
       "    </tr>\n",
       "    <tr>\n",
       "      <th>3</th>\n",
       "      <td>1117838570</td>\n",
       "      <td>2005.06.03</td>\n",
       "      <td>R02-M1-N0-C:J12-U11</td>\n",
       "      <td>2005-06-03-15.42.50.823719</td>\n",
       "      <td>R02-M1-N0-C:J12-U11</td>\n",
       "      <td>RAS KERNEL INFO instruction cache parity error...</td>\n",
       "      <td>normal</td>\n",
       "    </tr>\n",
       "    <tr>\n",
       "      <th>4</th>\n",
       "      <td>1117838570</td>\n",
       "      <td>2005.06.03</td>\n",
       "      <td>R02-M1-N0-C:J12-U11</td>\n",
       "      <td>2005-06-03-15.42.50.982731</td>\n",
       "      <td>R02-M1-N0-C:J12-U11</td>\n",
       "      <td>RAS KERNEL INFO instruction cache parity error...</td>\n",
       "      <td>normal</td>\n",
       "    </tr>\n",
       "    <tr>\n",
       "      <th>...</th>\n",
       "      <td>...</td>\n",
       "      <td>...</td>\n",
       "      <td>...</td>\n",
       "      <td>...</td>\n",
       "      <td>...</td>\n",
       "      <td>...</td>\n",
       "      <td>...</td>\n",
       "    </tr>\n",
       "    <tr>\n",
       "      <th>4152654</th>\n",
       "      <td>1118545530</td>\n",
       "      <td>2005.06.11</td>\n",
       "      <td>R30-M0-N9-C:J16-U01</td>\n",
       "      <td>2005-06-11-20.05.30.386651</td>\n",
       "      <td>R30-M0-N9-C:J16-U01</td>\n",
       "      <td>RAS KERNEL FATAL data TLB error interrupt</td>\n",
       "      <td>abnormal</td>\n",
       "    </tr>\n",
       "    <tr>\n",
       "      <th>4152655</th>\n",
       "      <td>1118545530</td>\n",
       "      <td>2005.06.11</td>\n",
       "      <td>R30-M0-N9-C:J16-U01</td>\n",
       "      <td>2005-06-11-20.05.30.558220</td>\n",
       "      <td>R30-M0-N9-C:J16-U01</td>\n",
       "      <td>RAS KERNEL FATAL data TLB error interrupt</td>\n",
       "      <td>abnormal</td>\n",
       "    </tr>\n",
       "    <tr>\n",
       "      <th>4152656</th>\n",
       "      <td>1118545530</td>\n",
       "      <td>2005.06.11</td>\n",
       "      <td>R30-M0-N9-C:J16-U01</td>\n",
       "      <td>2005-06-11-20.05.30.675784</td>\n",
       "      <td>R30-M0-N9-C:J16-U01</td>\n",
       "      <td>RAS KERNEL FATAL data TLB error interrupt</td>\n",
       "      <td>abnormal</td>\n",
       "    </tr>\n",
       "    <tr>\n",
       "      <th>4152657</th>\n",
       "      <td>1118545530</td>\n",
       "      <td>2005.06.11</td>\n",
       "      <td>R30-M0-N9-C:J16-U01</td>\n",
       "      <td>2005-06-11-20.05.30.777307</td>\n",
       "      <td>R30-M0-N9-C:J16-U01</td>\n",
       "      <td>RAS KERNEL FATAL data TLB error interrupt</td>\n",
       "      <td>abnormal</td>\n",
       "    </tr>\n",
       "    <tr>\n",
       "      <th>4152658</th>\n",
       "      <td>1118545530</td>\n",
       "      <td>2005.06.11</td>\n",
       "      <td>R30-M0-N9-C:J16-U01</td>\n",
       "      <td>2005-06-11-20.05.30.937080</td>\n",
       "      <td>R30-M0-N9-C:J16-U01</td>\n",
       "      <td>RAS KERNEL FATAL data TLB error interrupt</td>\n",
       "      <td>abnormal</td>\n",
       "    </tr>\n",
       "  </tbody>\n",
       "</table>\n",
       "<p>4152659 rows × 7 columns</p>\n",
       "</div>"
      ],
      "text/plain": [
       "                  1        Date                 Info  \\\n",
       "0        1117838570  2005.06.03  R02-M1-N0-C:J12-U11   \n",
       "1        1117838570  2005.06.03  R02-M1-N0-C:J12-U11   \n",
       "2        1117838570  2005.06.03  R02-M1-N0-C:J12-U11   \n",
       "3        1117838570  2005.06.03  R02-M1-N0-C:J12-U11   \n",
       "4        1117838570  2005.06.03  R02-M1-N0-C:J12-U11   \n",
       "...             ...         ...                  ...   \n",
       "4152654  1118545530  2005.06.11  R30-M0-N9-C:J16-U01   \n",
       "4152655  1118545530  2005.06.11  R30-M0-N9-C:J16-U01   \n",
       "4152656  1118545530  2005.06.11  R30-M0-N9-C:J16-U01   \n",
       "4152657  1118545530  2005.06.11  R30-M0-N9-C:J16-U01   \n",
       "4152658  1118545530  2005.06.11  R30-M0-N9-C:J16-U01   \n",
       "\n",
       "                                UID                Info2  \\\n",
       "0        2005-06-03-15.42.50.363779  R02-M1-N0-C:J12-U11   \n",
       "1        2005-06-03-15.42.50.527847  R02-M1-N0-C:J12-U11   \n",
       "2        2005-06-03-15.42.50.675872  R02-M1-N0-C:J12-U11   \n",
       "3        2005-06-03-15.42.50.823719  R02-M1-N0-C:J12-U11   \n",
       "4        2005-06-03-15.42.50.982731  R02-M1-N0-C:J12-U11   \n",
       "...                             ...                  ...   \n",
       "4152654  2005-06-11-20.05.30.386651  R30-M0-N9-C:J16-U01   \n",
       "4152655  2005-06-11-20.05.30.558220  R30-M0-N9-C:J16-U01   \n",
       "4152656  2005-06-11-20.05.30.675784  R30-M0-N9-C:J16-U01   \n",
       "4152657  2005-06-11-20.05.30.777307  R30-M0-N9-C:J16-U01   \n",
       "4152658  2005-06-11-20.05.30.937080  R30-M0-N9-C:J16-U01   \n",
       "\n",
       "                                                     Error    Target  \n",
       "0        RAS KERNEL INFO instruction cache parity error...    normal  \n",
       "1        RAS KERNEL INFO instruction cache parity error...    normal  \n",
       "2        RAS KERNEL INFO instruction cache parity error...    normal  \n",
       "3        RAS KERNEL INFO instruction cache parity error...    normal  \n",
       "4        RAS KERNEL INFO instruction cache parity error...    normal  \n",
       "...                                                    ...       ...  \n",
       "4152654          RAS KERNEL FATAL data TLB error interrupt  abnormal  \n",
       "4152655          RAS KERNEL FATAL data TLB error interrupt  abnormal  \n",
       "4152656          RAS KERNEL FATAL data TLB error interrupt  abnormal  \n",
       "4152657          RAS KERNEL FATAL data TLB error interrupt  abnormal  \n",
       "4152658          RAS KERNEL FATAL data TLB error interrupt  abnormal  \n",
       "\n",
       "[4152659 rows x 7 columns]"
      ]
     },
     "execution_count": 3,
     "metadata": {},
     "output_type": "execute_result"
    }
   ],
   "source": [
    "df"
   ]
  },
  {
   "cell_type": "code",
   "execution_count": 4,
   "id": "d8b80826",
   "metadata": {},
   "outputs": [],
   "source": [
    "ks = df['1'].value_counts().index.tolist()\n",
    "vals = df['1'].value_counts().tolist()"
   ]
  },
  {
   "cell_type": "code",
   "execution_count": 5,
   "id": "aa1a4b0b",
   "metadata": {},
   "outputs": [],
   "source": [
    "kv = list(zip(ks, vals))\n",
    "kv = list(kv)"
   ]
  },
  {
   "cell_type": "code",
   "execution_count": 6,
   "id": "7206a9b7",
   "metadata": {},
   "outputs": [],
   "source": [
    "singleOccur = []\n",
    "for k in kv:\n",
    "    if k[1] == 1:\n",
    "        singleOccur.append(k[0])"
   ]
  },
  {
   "cell_type": "code",
   "execution_count": 27,
   "id": "645a63a1",
   "metadata": {},
   "outputs": [],
   "source": [
    "abnormal_1 = list(set(df[df['Target'] == 'abnormal']['1']))\n",
    "normal_1 = list(set(df[df['Target'] == 'normal']['1']))"
   ]
  },
  {
   "cell_type": "code",
   "execution_count": 28,
   "id": "6d6361a5",
   "metadata": {},
   "outputs": [
    {
     "data": {
      "text/plain": [
       "10537"
      ]
     },
     "execution_count": 28,
     "metadata": {},
     "output_type": "execute_result"
    }
   ],
   "source": [
    "len(abnormal_1)"
   ]
  },
  {
   "cell_type": "code",
   "execution_count": 29,
   "id": "6dd2c969",
   "metadata": {},
   "outputs": [
    {
     "data": {
      "text/plain": [
       "216209"
      ]
     },
     "execution_count": 29,
     "metadata": {},
     "output_type": "execute_result"
    }
   ],
   "source": [
    "len(normal_1)"
   ]
  },
  {
   "cell_type": "code",
   "execution_count": 36,
   "id": "7b264cd3",
   "metadata": {},
   "outputs": [],
   "source": [
    "y = []\n",
    "for i in range(0, len(abnormal_1)):\n",
    "    y.append(int(0))\n",
    "for i in range(0, len(normal_1)):\n",
    "    y.append(int(1))"
   ]
  },
  {
   "cell_type": "code",
   "execution_count": 39,
   "id": "6a97d578",
   "metadata": {},
   "outputs": [],
   "source": [
    "X = []\n",
    "for i in abnormal_1:\n",
    "    X.append(int(i))\n",
    "for i in normal_1:\n",
    "    X.append(int(i))"
   ]
  },
  {
   "cell_type": "code",
   "execution_count": 40,
   "id": "ebcafd4d",
   "metadata": {},
   "outputs": [],
   "source": [
    "y = np.vstack(y)\n",
    "X = np.vstack(X)"
   ]
  },
  {
   "cell_type": "code",
   "execution_count": 41,
   "id": "3b1b976f",
   "metadata": {},
   "outputs": [],
   "source": [
    "from sklearn.model_selection import train_test_split\n",
    "X_train, y_train, X_test, y_test = train_test_split(X, y, test_size=0.1, random_state=7)"
   ]
  },
  {
   "cell_type": "code",
   "execution_count": 45,
   "id": "418f3853",
   "metadata": {
    "scrolled": true
   },
   "outputs": [
    {
     "data": {
      "text/plain": [
       "array([[1118537603],\n",
       "       [1118542608],\n",
       "       [1118543194],\n",
       "       ...,\n",
       "       [1118772369],\n",
       "       [1129456874],\n",
       "       [1133447945]])"
      ]
     },
     "execution_count": 45,
     "metadata": {},
     "output_type": "execute_result"
    }
   ],
   "source": [
    "X"
   ]
  },
  {
   "cell_type": "code",
   "execution_count": 44,
   "id": "7c7608e5",
   "metadata": {},
   "outputs": [
    {
     "data": {
      "text/plain": [
       "226746"
      ]
     },
     "execution_count": 44,
     "metadata": {},
     "output_type": "execute_result"
    }
   ],
   "source": [
    "y.size"
   ]
  },
  {
   "cell_type": "code",
   "execution_count": 42,
   "id": "c21ee443",
   "metadata": {},
   "outputs": [
    {
     "name": "stderr",
     "output_type": "stream",
     "text": [
      "C:\\ProgramData\\Anaconda3\\lib\\site-packages\\xgboost\\sklearn.py:1224: UserWarning: The use of label encoder in XGBClassifier is deprecated and will be removed in a future release. To remove this warning, do the following: 1) Pass option use_label_encoder=False when constructing XGBClassifier object; and 2) Encode your labels (y) as integers starting with 0, i.e. 0, 1, 2, ..., [num_class - 1].\n",
      "  warnings.warn(label_encoder_deprecation_msg, UserWarning)\n"
     ]
    },
    {
     "ename": "XGBoostError",
     "evalue": "[03:08:35] D:\\bld\\xgboost-split_1645118015404\\work\\src\\data\\data.cc:592: Check failed: labels_.Size() == num_row_ (22675 vs. 204071) : Size of labels must equal to number of rows.",
     "output_type": "error",
     "traceback": [
      "\u001b[1;31m---------------------------------------------------------------------------\u001b[0m",
      "\u001b[1;31mXGBoostError\u001b[0m                              Traceback (most recent call last)",
      "\u001b[1;32m~\\AppData\\Local\\Temp/ipykernel_13872/1195926755.py\u001b[0m in \u001b[0;36m<module>\u001b[1;34m\u001b[0m\n\u001b[0;32m      6\u001b[0m         \u001b[1;32mfor\u001b[0m \u001b[0ml\u001b[0m \u001b[1;32min\u001b[0m \u001b[0mlr\u001b[0m\u001b[1;33m:\u001b[0m\u001b[1;33m\u001b[0m\u001b[1;33m\u001b[0m\u001b[0m\n\u001b[0;32m      7\u001b[0m             \u001b[0mmodel\u001b[0m \u001b[1;33m=\u001b[0m \u001b[0mxgb\u001b[0m\u001b[1;33m.\u001b[0m\u001b[0mXGBClassifier\u001b[0m\u001b[1;33m(\u001b[0m\u001b[0mn_estimators\u001b[0m\u001b[1;33m=\u001b[0m\u001b[0mestimators\u001b[0m\u001b[1;33m,\u001b[0m \u001b[0mmax_depth\u001b[0m\u001b[1;33m=\u001b[0m\u001b[0mdepth\u001b[0m\u001b[1;33m,\u001b[0m \u001b[0mlearning_rate\u001b[0m\u001b[1;33m=\u001b[0m\u001b[0ml\u001b[0m\u001b[1;33m)\u001b[0m\u001b[1;33m\u001b[0m\u001b[1;33m\u001b[0m\u001b[0m\n\u001b[1;32m----> 8\u001b[1;33m             \u001b[0mmodel\u001b[0m\u001b[1;33m.\u001b[0m\u001b[0mfit\u001b[0m\u001b[1;33m(\u001b[0m\u001b[0mX_train\u001b[0m\u001b[1;33m,\u001b[0m \u001b[0mnp\u001b[0m\u001b[1;33m.\u001b[0m\u001b[0mravel\u001b[0m\u001b[1;33m(\u001b[0m\u001b[0my_train\u001b[0m\u001b[1;33m)\u001b[0m\u001b[1;33m)\u001b[0m\u001b[1;33m\u001b[0m\u001b[1;33m\u001b[0m\u001b[0m\n\u001b[0m\u001b[0;32m      9\u001b[0m             \u001b[0my_pred\u001b[0m \u001b[1;33m=\u001b[0m \u001b[0mmodel\u001b[0m\u001b[1;33m.\u001b[0m\u001b[0mpredict\u001b[0m\u001b[1;33m(\u001b[0m\u001b[0mX_test\u001b[0m\u001b[1;33m)\u001b[0m\u001b[1;33m\u001b[0m\u001b[1;33m\u001b[0m\u001b[0m\n\u001b[0;32m     10\u001b[0m             \u001b[0mprint\u001b[0m\u001b[1;33m(\u001b[0m\u001b[0mestimators\u001b[0m\u001b[1;33m,\u001b[0m \u001b[0mdepth\u001b[0m\u001b[1;33m,\u001b[0m \u001b[0ml\u001b[0m\u001b[1;33m,\u001b[0m \u001b[0maccuracy_score\u001b[0m\u001b[1;33m(\u001b[0m\u001b[0my_pred\u001b[0m\u001b[1;33m,\u001b[0m \u001b[0my_test\u001b[0m\u001b[1;33m)\u001b[0m\u001b[1;33m)\u001b[0m\u001b[1;33m\u001b[0m\u001b[1;33m\u001b[0m\u001b[0m\n",
      "\u001b[1;32mC:\\ProgramData\\Anaconda3\\lib\\site-packages\\xgboost\\core.py\u001b[0m in \u001b[0;36minner_f\u001b[1;34m(*args, **kwargs)\u001b[0m\n\u001b[0;32m    504\u001b[0m         \u001b[1;32mfor\u001b[0m \u001b[0mk\u001b[0m\u001b[1;33m,\u001b[0m \u001b[0marg\u001b[0m \u001b[1;32min\u001b[0m \u001b[0mzip\u001b[0m\u001b[1;33m(\u001b[0m\u001b[0msig\u001b[0m\u001b[1;33m.\u001b[0m\u001b[0mparameters\u001b[0m\u001b[1;33m,\u001b[0m \u001b[0margs\u001b[0m\u001b[1;33m)\u001b[0m\u001b[1;33m:\u001b[0m\u001b[1;33m\u001b[0m\u001b[1;33m\u001b[0m\u001b[0m\n\u001b[0;32m    505\u001b[0m             \u001b[0mkwargs\u001b[0m\u001b[1;33m[\u001b[0m\u001b[0mk\u001b[0m\u001b[1;33m]\u001b[0m \u001b[1;33m=\u001b[0m \u001b[0marg\u001b[0m\u001b[1;33m\u001b[0m\u001b[1;33m\u001b[0m\u001b[0m\n\u001b[1;32m--> 506\u001b[1;33m         \u001b[1;32mreturn\u001b[0m \u001b[0mf\u001b[0m\u001b[1;33m(\u001b[0m\u001b[1;33m**\u001b[0m\u001b[0mkwargs\u001b[0m\u001b[1;33m)\u001b[0m\u001b[1;33m\u001b[0m\u001b[1;33m\u001b[0m\u001b[0m\n\u001b[0m\u001b[0;32m    507\u001b[0m \u001b[1;33m\u001b[0m\u001b[0m\n\u001b[0;32m    508\u001b[0m     \u001b[1;32mreturn\u001b[0m \u001b[0minner_f\u001b[0m\u001b[1;33m\u001b[0m\u001b[1;33m\u001b[0m\u001b[0m\n",
      "\u001b[1;32mC:\\ProgramData\\Anaconda3\\lib\\site-packages\\xgboost\\sklearn.py\u001b[0m in \u001b[0;36mfit\u001b[1;34m(self, X, y, sample_weight, base_margin, eval_set, eval_metric, early_stopping_rounds, verbose, xgb_model, sample_weight_eval_set, base_margin_eval_set, feature_weights, callbacks)\u001b[0m\n\u001b[0;32m   1248\u001b[0m         )\n\u001b[0;32m   1249\u001b[0m \u001b[1;33m\u001b[0m\u001b[0m\n\u001b[1;32m-> 1250\u001b[1;33m         self._Booster = train(\n\u001b[0m\u001b[0;32m   1251\u001b[0m             \u001b[0mparams\u001b[0m\u001b[1;33m,\u001b[0m\u001b[1;33m\u001b[0m\u001b[1;33m\u001b[0m\u001b[0m\n\u001b[0;32m   1252\u001b[0m             \u001b[0mtrain_dmatrix\u001b[0m\u001b[1;33m,\u001b[0m\u001b[1;33m\u001b[0m\u001b[1;33m\u001b[0m\u001b[0m\n",
      "\u001b[1;32mC:\\ProgramData\\Anaconda3\\lib\\site-packages\\xgboost\\training.py\u001b[0m in \u001b[0;36mtrain\u001b[1;34m(params, dtrain, num_boost_round, evals, obj, feval, maximize, early_stopping_rounds, evals_result, verbose_eval, xgb_model, callbacks)\u001b[0m\n\u001b[0;32m    186\u001b[0m     \u001b[0mBooster\u001b[0m \u001b[1;33m:\u001b[0m \u001b[0ma\u001b[0m \u001b[0mtrained\u001b[0m \u001b[0mbooster\u001b[0m \u001b[0mmodel\u001b[0m\u001b[1;33m\u001b[0m\u001b[1;33m\u001b[0m\u001b[0m\n\u001b[0;32m    187\u001b[0m     \"\"\"\n\u001b[1;32m--> 188\u001b[1;33m     bst = _train_internal(params, dtrain,\n\u001b[0m\u001b[0;32m    189\u001b[0m                           \u001b[0mnum_boost_round\u001b[0m\u001b[1;33m=\u001b[0m\u001b[0mnum_boost_round\u001b[0m\u001b[1;33m,\u001b[0m\u001b[1;33m\u001b[0m\u001b[1;33m\u001b[0m\u001b[0m\n\u001b[0;32m    190\u001b[0m                           \u001b[0mevals\u001b[0m\u001b[1;33m=\u001b[0m\u001b[0mevals\u001b[0m\u001b[1;33m,\u001b[0m\u001b[1;33m\u001b[0m\u001b[1;33m\u001b[0m\u001b[0m\n",
      "\u001b[1;32mC:\\ProgramData\\Anaconda3\\lib\\site-packages\\xgboost\\training.py\u001b[0m in \u001b[0;36m_train_internal\u001b[1;34m(params, dtrain, num_boost_round, evals, obj, feval, xgb_model, callbacks, evals_result, maximize, verbose_eval, early_stopping_rounds)\u001b[0m\n\u001b[0;32m     79\u001b[0m         \u001b[1;32mif\u001b[0m \u001b[0mcallbacks\u001b[0m\u001b[1;33m.\u001b[0m\u001b[0mbefore_iteration\u001b[0m\u001b[1;33m(\u001b[0m\u001b[0mbst\u001b[0m\u001b[1;33m,\u001b[0m \u001b[0mi\u001b[0m\u001b[1;33m,\u001b[0m \u001b[0mdtrain\u001b[0m\u001b[1;33m,\u001b[0m \u001b[0mevals\u001b[0m\u001b[1;33m)\u001b[0m\u001b[1;33m:\u001b[0m\u001b[1;33m\u001b[0m\u001b[1;33m\u001b[0m\u001b[0m\n\u001b[0;32m     80\u001b[0m             \u001b[1;32mbreak\u001b[0m\u001b[1;33m\u001b[0m\u001b[1;33m\u001b[0m\u001b[0m\n\u001b[1;32m---> 81\u001b[1;33m         \u001b[0mbst\u001b[0m\u001b[1;33m.\u001b[0m\u001b[0mupdate\u001b[0m\u001b[1;33m(\u001b[0m\u001b[0mdtrain\u001b[0m\u001b[1;33m,\u001b[0m \u001b[0mi\u001b[0m\u001b[1;33m,\u001b[0m \u001b[0mobj\u001b[0m\u001b[1;33m)\u001b[0m\u001b[1;33m\u001b[0m\u001b[1;33m\u001b[0m\u001b[0m\n\u001b[0m\u001b[0;32m     82\u001b[0m         \u001b[1;32mif\u001b[0m \u001b[0mcallbacks\u001b[0m\u001b[1;33m.\u001b[0m\u001b[0mafter_iteration\u001b[0m\u001b[1;33m(\u001b[0m\u001b[0mbst\u001b[0m\u001b[1;33m,\u001b[0m \u001b[0mi\u001b[0m\u001b[1;33m,\u001b[0m \u001b[0mdtrain\u001b[0m\u001b[1;33m,\u001b[0m \u001b[0mevals\u001b[0m\u001b[1;33m)\u001b[0m\u001b[1;33m:\u001b[0m\u001b[1;33m\u001b[0m\u001b[1;33m\u001b[0m\u001b[0m\n\u001b[0;32m     83\u001b[0m             \u001b[1;32mbreak\u001b[0m\u001b[1;33m\u001b[0m\u001b[1;33m\u001b[0m\u001b[0m\n",
      "\u001b[1;32mC:\\ProgramData\\Anaconda3\\lib\\site-packages\\xgboost\\core.py\u001b[0m in \u001b[0;36mupdate\u001b[1;34m(self, dtrain, iteration, fobj)\u001b[0m\n\u001b[0;32m   1678\u001b[0m \u001b[1;33m\u001b[0m\u001b[0m\n\u001b[0;32m   1679\u001b[0m         \u001b[1;32mif\u001b[0m \u001b[0mfobj\u001b[0m \u001b[1;32mis\u001b[0m \u001b[1;32mNone\u001b[0m\u001b[1;33m:\u001b[0m\u001b[1;33m\u001b[0m\u001b[1;33m\u001b[0m\u001b[0m\n\u001b[1;32m-> 1680\u001b[1;33m             _check_call(_LIB.XGBoosterUpdateOneIter(self.handle,\n\u001b[0m\u001b[0;32m   1681\u001b[0m                                                     \u001b[0mctypes\u001b[0m\u001b[1;33m.\u001b[0m\u001b[0mc_int\u001b[0m\u001b[1;33m(\u001b[0m\u001b[0miteration\u001b[0m\u001b[1;33m)\u001b[0m\u001b[1;33m,\u001b[0m\u001b[1;33m\u001b[0m\u001b[1;33m\u001b[0m\u001b[0m\n\u001b[0;32m   1682\u001b[0m                                                     dtrain.handle))\n",
      "\u001b[1;32mC:\\ProgramData\\Anaconda3\\lib\\site-packages\\xgboost\\core.py\u001b[0m in \u001b[0;36m_check_call\u001b[1;34m(ret)\u001b[0m\n\u001b[0;32m    216\u001b[0m     \"\"\"\n\u001b[0;32m    217\u001b[0m     \u001b[1;32mif\u001b[0m \u001b[0mret\u001b[0m \u001b[1;33m!=\u001b[0m \u001b[1;36m0\u001b[0m\u001b[1;33m:\u001b[0m\u001b[1;33m\u001b[0m\u001b[1;33m\u001b[0m\u001b[0m\n\u001b[1;32m--> 218\u001b[1;33m         \u001b[1;32mraise\u001b[0m \u001b[0mXGBoostError\u001b[0m\u001b[1;33m(\u001b[0m\u001b[0mpy_str\u001b[0m\u001b[1;33m(\u001b[0m\u001b[0m_LIB\u001b[0m\u001b[1;33m.\u001b[0m\u001b[0mXGBGetLastError\u001b[0m\u001b[1;33m(\u001b[0m\u001b[1;33m)\u001b[0m\u001b[1;33m)\u001b[0m\u001b[1;33m)\u001b[0m\u001b[1;33m\u001b[0m\u001b[1;33m\u001b[0m\u001b[0m\n\u001b[0m\u001b[0;32m    219\u001b[0m \u001b[1;33m\u001b[0m\u001b[0m\n\u001b[0;32m    220\u001b[0m \u001b[1;33m\u001b[0m\u001b[0m\n",
      "\u001b[1;31mXGBoostError\u001b[0m: [03:08:35] D:\\bld\\xgboost-split_1645118015404\\work\\src\\data\\data.cc:592: Check failed: labels_.Size() == num_row_ (22675 vs. 204071) : Size of labels must equal to number of rows."
     ]
    }
   ],
   "source": [
    "import xgboost as xgb\n",
    "from sklearn.metrics import accuracy_score\n",
    "lr = [0.0001, 0.001, 0.01, 0.1, 0.2, 0.3]\n",
    "for estimators in range(10, 110, 10):\n",
    "    for depth in range(0, 11, 1):\n",
    "        for l in lr:\n",
    "            model = xgb.XGBClassifier(n_estimators=estimators, max_depth=depth, learning_rate=l)\n",
    "            model.fit(X_train, np.ravel(y_train))\n",
    "            y_pred = model.predict(X_test)\n",
    "            print(estimators, depth, l, accuracy_score(y_pred, y_test))"
   ]
  }
 ],
 "metadata": {
  "kernelspec": {
   "display_name": "Python 3 (ipykernel)",
   "language": "python",
   "name": "python3"
  },
  "language_info": {
   "codemirror_mode": {
    "name": "ipython",
    "version": 3
   },
   "file_extension": ".py",
   "mimetype": "text/x-python",
   "name": "python",
   "nbconvert_exporter": "python",
   "pygments_lexer": "ipython3",
   "version": "3.9.7"
  }
 },
 "nbformat": 4,
 "nbformat_minor": 5
}
