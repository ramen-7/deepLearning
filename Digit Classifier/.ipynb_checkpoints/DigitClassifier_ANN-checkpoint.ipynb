{
 "cells": [
  {
   "cell_type": "code",
   "execution_count": 1,
   "id": "0a3993de",
   "metadata": {},
   "outputs": [],
   "source": [
    "import tensorflow as tf\n",
    "import keras\n",
    "from keras.models import Sequential\n",
    "from keras.layers import Dense\n",
    "from keras.layers import Flatten\n",
    "from tensorflow.keras.utils import to_categorical"
   ]
  },
  {
   "cell_type": "markdown",
   "id": "94ddb5b7",
   "metadata": {},
   "source": [
    "## Loading the MNIST dataset, contains the labeled hand-drawn digits"
   ]
  },
  {
   "cell_type": "code",
   "execution_count": 2,
   "id": "10aa2604",
   "metadata": {},
   "outputs": [],
   "source": [
    "mnist = tf.keras.datasets.mnist"
   ]
  },
  {
   "cell_type": "markdown",
   "id": "3ce2b15e",
   "metadata": {},
   "source": [
    "We split the data into training and testing data"
   ]
  },
  {
   "cell_type": "code",
   "execution_count": 3,
   "id": "3442e42e",
   "metadata": {},
   "outputs": [],
   "source": [
    "(x_train, y_train), (x_test, y_test) = mnist.load_data()\n",
    "\n",
    "x_train = tf.keras.utils.normalize(x_train, axis=1)\n",
    "x_test = tf.keras.utils.normalize(x_test, axis=1)"
   ]
  },
  {
   "cell_type": "code",
   "execution_count": 4,
   "id": "af88fd8e",
   "metadata": {},
   "outputs": [
    {
     "name": "stdout",
     "output_type": "stream",
     "text": [
      "(60000, 28, 28)\n",
      "(60000,)\n",
      "(10000,)\n"
     ]
    }
   ],
   "source": [
    "print(x_train.shape)\n",
    "print(y_train.shape)\n",
    "print(y_test.shape)"
   ]
  },
  {
   "cell_type": "code",
   "execution_count": 5,
   "id": "d034d266",
   "metadata": {},
   "outputs": [
    {
     "data": {
      "image/png": "[encoded data removed]",
      "text/plain": [
       "<Figure size 432x288 with 1 Axes>"
      ]
     },
     "metadata": {
      "needs_background": "light"
     },
     "output_type": "display_data"
    }
   ],
   "source": [
    "import matplotlib.pyplot as plt\n",
    "\n",
    "plt.imshow(x_train[0])\n",
    "plt.show() #prints the value which is readable for us"
   ]
  },
  {
   "cell_type": "code",
   "execution_count": 8,
   "id": "9c83172d",
   "metadata": {
    "scrolled": true
   },
   "outputs": [
    {
     "name": "stdout",
     "output_type": "stream",
     "text": [
      "Epoch 1/7\n",
      "1875/1875 [==============================] - 4s 2ms/step - loss: 0.2390 - accuracy: 0.9305\n",
      "Epoch 2/7\n",
      "1875/1875 [==============================] - 3s 2ms/step - loss: 0.0969 - accuracy: 0.9690\n",
      "Epoch 3/7\n",
      "1875/1875 [==============================] - 3s 2ms/step - loss: 0.0629 - accuracy: 0.9797\n",
      "Epoch 4/7\n",
      "1875/1875 [==============================] - 3s 2ms/step - loss: 0.0480 - accuracy: 0.9847\n",
      "Epoch 5/7\n",
      "1875/1875 [==============================] - 4s 2ms/step - loss: 0.0346 - accuracy: 0.9886\n",
      "Epoch 6/7\n",
      "1875/1875 [==============================] - 3s 2ms/step - loss: 0.0269 - accuracy: 0.9913\n",
      "Epoch 7/7\n",
      "1875/1875 [==============================] - 3s 2ms/step - loss: 0.0209 - accuracy: 0.9930\n"
     ]
    },
    {
     "data": {
      "text/plain": [
       "<keras.callbacks.History at 0x2b78657fdf0>"
      ]
     },
     "execution_count": 8,
     "metadata": {},
     "output_type": "execute_result"
    }
   ],
   "source": [
    "model = Sequential()\n",
    "#flattening layers from 2-D to 1-D\n",
    "model.add(Flatten())\n",
    "model.add(Dense(177, activation='relu'))\n",
    "#128 neurons for first layer\n",
    "model.add(Dense(177, activation='relu'))\n",
    "#128 neurons for 2nd layer\n",
    "model.add(Dense(10, activation='softmax'))\n",
    "# output layer is more of a probablility distribution, so we use softmax\n",
    "\n",
    "model.compile(optimizer='adam',loss='sparse_categorical_crossentropy', metrics=['accuracy'])\n",
    "\n",
    "model.fit(x_train, y_train, epochs=7)"
   ]
  },
  {
   "cell_type": "markdown",
   "id": "ca307151",
   "metadata": {},
   "source": [
    "#### 7th epoch gave us 99.30% accuracy"
   ]
  },
  {
   "cell_type": "code",
   "execution_count": 9,
   "id": "1d7d410c",
   "metadata": {},
   "outputs": [
    {
     "name": "stdout",
     "output_type": "stream",
     "text": [
      "313/313 [==============================] - 1s 2ms/step - loss: 0.0932 - accuracy: 0.9753\n",
      "0.09323079884052277 0.9753000140190125\n"
     ]
    }
   ],
   "source": [
    "val_loss, val_acc = model.evaluate(x_test, y_test)\n",
    "print(val_loss, val_acc)"
   ]
  },
  {
   "cell_type": "code",
   "execution_count": 10,
   "id": "7cd823be",
   "metadata": {},
   "outputs": [
    {
     "name": "stdout",
     "output_type": "stream",
     "text": [
      "INFO:tensorflow:Assets written to: digit_classifier_model\\assets\n"
     ]
    }
   ],
   "source": [
    "model.save('digit_classifier_model')"
   ]
  },
  {
   "cell_type": "code",
   "execution_count": 11,
   "id": "2501bf91",
   "metadata": {},
   "outputs": [],
   "source": [
    "new_model = tf.keras.models.load_model('digit_classifier_model')"
   ]
  },
  {
   "cell_type": "code",
   "execution_count": 12,
   "id": "2af656d1",
   "metadata": {},
   "outputs": [],
   "source": [
    "predictions = new_model.predict([x_test])"
   ]
  },
  {
   "cell_type": "code",
   "execution_count": 13,
   "id": "9126809d",
   "metadata": {},
   "outputs": [
    {
     "name": "stdout",
     "output_type": "stream",
     "text": [
      "[[5.4611189e-17 4.1443060e-12 5.5952437e-10 ... 1.0000000e+00\n",
      "  9.1002032e-13 2.4822872e-10]\n",
      " [2.1212429e-16 3.4269352e-08 1.0000000e+00 ... 2.5758568e-15\n",
      "  7.4140438e-15 7.5983312e-20]\n",
      " [2.2484816e-11 9.9999046e-01 2.7404175e-07 ... 2.1322658e-07\n",
      "  2.4121587e-07 3.2706812e-10]\n",
      " ...\n",
      " [1.7800141e-12 1.7243796e-09 3.3103870e-11 ... 8.4412056e-07\n",
      "  7.9887877e-07 2.5215452e-06]\n",
      " [5.6848303e-13 2.4833195e-13 2.0594915e-12 ... 2.4031651e-12\n",
      "  1.1633229e-05 1.2179151e-13]\n",
      " [3.7446917e-11 1.9797915e-10 6.6165254e-11 ... 4.1870909e-16\n",
      "  4.0293586e-09 4.7582782e-13]]\n"
     ]
    }
   ],
   "source": [
    "print(predictions)"
   ]
  },
  {
   "cell_type": "code",
   "execution_count": 14,
   "id": "c3c50df3",
   "metadata": {},
   "outputs": [
    {
     "name": "stdout",
     "output_type": "stream",
     "text": [
      "7\n"
     ]
    }
   ],
   "source": [
    "import numpy as np\n",
    "\n",
    "print(np.argmax(predictions[0]))"
   ]
  },
  {
   "cell_type": "markdown",
   "id": "1b6aaf4b",
   "metadata": {},
   "source": [
    "#### x_test[0] is 7"
   ]
  },
  {
   "cell_type": "code",
   "execution_count": 15,
   "id": "7a8d13c1",
   "metadata": {
    "scrolled": true
   },
   "outputs": [
    {
     "data": {
      "image/png": "[encoded data removed]",
      "text/plain": [
       "<Figure size 432x288 with 1 Axes>"
      ]
     },
     "metadata": {
      "needs_background": "light"
     },
     "output_type": "display_data"
    }
   ],
   "source": [
    "plt.imshow(x_test[0])\n",
    "plt.show()"
   ]
  }
 ],
 "metadata": {
  "kernelspec": {
   "display_name": "Python 3 (ipykernel)",
   "language": "python",
   "name": "python3"
  },
  "language_info": {
   "codemirror_mode": {
    "name": "ipython",
    "version": 3
   },
   "file_extension": ".py",
   "mimetype": "text/x-python",
   "name": "python",
   "nbconvert_exporter": "python",
   "pygments_lexer": "ipython3",
   "version": "3.9.7"
  }
 },
 "nbformat": 4,
 "nbformat_minor": 5
}
