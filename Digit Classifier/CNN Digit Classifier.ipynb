{
 "cells": [
  {
   "cell_type": "code",
   "execution_count": 131,
   "id": "27284f17",
   "metadata": {},
   "outputs": [],
   "source": [
    "import tensorflow as tf\n",
    "import numpy as np\n",
    "import pandas as pd\n",
    "from keras.layers import Conv2D, Flatten, Dropout, MaxPool2D, BatchNormalization, Reshape, Dense\n",
    "from keras import Sequential\n",
    "import matplotlib.pyplot as plt\n",
    "import seaborn as sns\n",
    "%matplotlib inline"
   ]
  },
  {
   "cell_type": "markdown",
   "id": "b0de19b8",
   "metadata": {},
   "source": [
    "#### Loading Data"
   ]
  },
  {
   "cell_type": "code",
   "execution_count": 132,
   "id": "9287bb8b",
   "metadata": {},
   "outputs": [],
   "source": [
    "train = pd.read_csv('train.csv')\n",
    "test = pd.read_csv('test.csv')"
   ]
  },
  {
   "cell_type": "markdown",
   "id": "f0e7b3b7",
   "metadata": {},
   "source": [
    "#### Normalizing Data"
   ]
  },
  {
   "cell_type": "code",
   "execution_count": 133,
   "id": "f515cfc7",
   "metadata": {},
   "outputs": [],
   "source": [
    "X_train = train.drop(['label'],axis=1)\n",
    "X_train = X_train/255.0\n",
    "X_train = X_train.values.reshape(-1, 28, 28, 1)"
   ]
  },
  {
   "cell_type": "code",
   "execution_count": 134,
   "id": "3be938b8",
   "metadata": {},
   "outputs": [],
   "source": [
    "test = test/255.0\n",
    "test = test.values.reshape(-1, 28, 28, 1)"
   ]
  },
  {
   "cell_type": "markdown",
   "id": "500ed2b0",
   "metadata": {},
   "source": [
    "#### Label Encoding\n",
    "Since the labelling is from [0,9] and since the values are not ordinal, we one hot encode them"
   ]
  },
  {
   "cell_type": "code",
   "execution_count": 135,
   "id": "50cca2b3",
   "metadata": {},
   "outputs": [],
   "source": [
    "y_train = tf.keras.utils.to_categorical(train['label'], num_classes=10)"
   ]
  },
  {
   "cell_type": "markdown",
   "id": "f8334f43",
   "metadata": {},
   "source": [
    "Loading MNIST Dataset to increase size of our training dataset"
   ]
  },
  {
   "cell_type": "code",
   "execution_count": 136,
   "id": "24faf0d2",
   "metadata": {},
   "outputs": [],
   "source": [
    "from tensorflow.keras.datasets import mnist\n",
    "(X_train_MNIST, y_train_MNIST), (X_test_MNIST, y_test_MNIST) = mnist.load_data()"
   ]
  },
  {
   "cell_type": "code",
   "execution_count": 137,
   "id": "3843c353",
   "metadata": {},
   "outputs": [
    {
     "name": "stdout",
     "output_type": "stream",
     "text": [
      "(60000, 28, 28)\n",
      "(60000,)\n"
     ]
    }
   ],
   "source": [
    "print(X_train_MNIST.shape)\n",
    "print(y_train_MNIST.shape)"
   ]
  },
  {
   "cell_type": "code",
   "execution_count": 138,
   "id": "b9397d3f",
   "metadata": {},
   "outputs": [],
   "source": [
    "train_mnist = np.concatenate((X_train_MNIST, X_test_MNIST))\n",
    "test_mnist = np.concatenate((y_train_MNIST, y_test_MNIST))"
   ]
  },
  {
   "cell_type": "code",
   "execution_count": 139,
   "id": "73a2248b",
   "metadata": {},
   "outputs": [
    {
     "name": "stdout",
     "output_type": "stream",
     "text": [
      "(70000, 28, 28)\n",
      "(70000,)\n"
     ]
    }
   ],
   "source": [
    "print(train_mnist.shape)\n",
    "print(test_mnist.shape)"
   ]
  },
  {
   "cell_type": "code",
   "execution_count": 140,
   "id": "9ca174dc",
   "metadata": {},
   "outputs": [],
   "source": [
    "train_mnist = train_mnist.reshape(-1, 28, 28, 1)\n",
    "train_mnist = train_mnist/255.0"
   ]
  },
  {
   "cell_type": "code",
   "execution_count": 141,
   "id": "d9f60128",
   "metadata": {},
   "outputs": [],
   "source": [
    "test_mnist = tf.keras.utils.to_categorical(test_mnist, num_classes=10)"
   ]
  },
  {
   "cell_type": "markdown",
   "id": "388d72b7",
   "metadata": {},
   "source": [
    "Concatenating both datasets"
   ]
  },
  {
   "cell_type": "code",
   "execution_count": 142,
   "id": "275f878f",
   "metadata": {},
   "outputs": [],
   "source": [
    "images = np.concatenate((X_train, train_mnist))\n",
    "labels = np.concatenate((y_train, test_mnist))"
   ]
  },
  {
   "cell_type": "code",
   "execution_count": 143,
   "id": "8b18a715",
   "metadata": {},
   "outputs": [
    {
     "name": "stdout",
     "output_type": "stream",
     "text": [
      "(112000, 28, 28, 1)\n",
      "(112000, 10)\n"
     ]
    }
   ],
   "source": [
    "print(images.shape)\n",
    "print(labels.shape)"
   ]
  },
  {
   "cell_type": "markdown",
   "id": "6ebd4700",
   "metadata": {},
   "source": [
    "### Data Augmentation\n",
    "\n",
    "Adds rotation, zoom, horizontal movement to the present images, creating an even larger dataset, prevents overfitting and is a very strong tool"
   ]
  },
  {
   "cell_type": "code",
   "execution_count": 144,
   "id": "d68e1613",
   "metadata": {},
   "outputs": [],
   "source": [
    "from keras.preprocessing.image import ImageDataGenerator"
   ]
  },
  {
   "cell_type": "code",
   "execution_count": 145,
   "id": "18ea46db",
   "metadata": {},
   "outputs": [],
   "source": [
    "datagen = ImageDataGenerator(rotation_range=20, width_shift_range=0.2, shear_range=15, zoom_range=0.1, validation_split=0.25)"
   ]
  },
  {
   "cell_type": "code",
   "execution_count": 146,
   "id": "763e2d0f",
   "metadata": {},
   "outputs": [],
   "source": [
    "train_dataset = datagen.flow(images, labels, batch_size=256, subset='training')"
   ]
  },
  {
   "cell_type": "code",
   "execution_count": 147,
   "id": "0e679c20",
   "metadata": {},
   "outputs": [],
   "source": [
    "test_dataset = datagen.flow(images, labels, batch_size=64, subset='validation')"
   ]
  },
  {
   "cell_type": "markdown",
   "id": "e568581c",
   "metadata": {},
   "source": [
    "### CNN Model"
   ]
  },
  {
   "cell_type": "code",
   "execution_count": 148,
   "id": "e87268ff",
   "metadata": {},
   "outputs": [],
   "source": [
    "model = Sequential()"
   ]
  },
  {
   "cell_type": "code",
   "execution_count": 149,
   "id": "e913d814",
   "metadata": {},
   "outputs": [],
   "source": [
    "model.add(Conv2D(filters=32, kernel_size=5, activation='relu', padding='same', input_shape=(28, 28, 1)))\n",
    "model.add(MaxPool2D(pool_size=2))\n",
    "model.add(Conv2D(filters=64, kernel_size=3, activation='relu', padding='same'))\n",
    "model.add(Conv2D(filters=64, kernel_size=3, activation='relu', padding='same'))\n",
    "model.add(MaxPool2D(pool_size=2))\n",
    "model.add(Conv2D(filters=64, kernel_size=3, activation='relu', padding='same'))\n",
    "model.add(Conv2D(filters=64, kernel_size=3, activation='relu', padding='same'))\n",
    "model.add(MaxPool2D(pool_size=2))"
   ]
  },
  {
   "cell_type": "code",
   "execution_count": 150,
   "id": "aea2a9aa",
   "metadata": {},
   "outputs": [],
   "source": [
    "model.add(Flatten())\n",
    "model.add(Dense(512, activation='relu'))\n",
    "model.add(Dropout(0.25))\n",
    "model.add(Dense(512, activation='relu'))\n",
    "model.add(Dropout(0.25))\n",
    "model.add(Dense(512, activation='relu'))\n",
    "model.add(Dropout(0.1))\n",
    "model.add(Dense(256, activation='relu'))\n",
    "model.add(Dense(10, activation='softmax'))"
   ]
  },
  {
   "cell_type": "code",
   "execution_count": 151,
   "id": "8d3c4727",
   "metadata": {},
   "outputs": [],
   "source": [
    "model.compile(optimizer='adam', loss='categorical_crossentropy', metrics=['accuracy'])"
   ]
  },
  {
   "cell_type": "code",
   "execution_count": 154,
   "id": "b4aa6456",
   "metadata": {},
   "outputs": [],
   "source": [
    "from keras.callbacks import ReduceLROnPlateau, ModelCheckpoint\n",
    "reduce_lr = ReduceLROnPlateau(monitor='val_loss', factor=0.1, patience=5, min_lr=0.000001)\n",
    "checkpoint = ModelCheckpoint(filepath='model.hdf5', monitor='val_loss', save_best_only=True, save_weights_only=True)"
   ]
  },
  {
   "cell_type": "code",
   "execution_count": 155,
   "id": "7ac23bda",
   "metadata": {},
   "outputs": [
    {
     "name": "stderr",
     "output_type": "stream",
     "text": [
      "C:\\Users\\shvmt\\AppData\\Local\\Temp/ipykernel_7612/4107944639.py:1: UserWarning: `Model.fit_generator` is deprecated and will be removed in a future version. Please use `Model.fit`, which supports generators.\n",
      "  model.fit_generator(train_dataset, epochs=70, validation_data=test_dataset, callbacks=[reduce_lr, checkpoint])\n"
     ]
    },
    {
     "name": "stdout",
     "output_type": "stream",
     "text": [
      "Epoch 1/70\n",
      "329/329 [==============================] - 71s 214ms/step - loss: 0.3964 - accuracy: 0.8696 - val_loss: 0.1014 - val_accuracy: 0.9688 - lr: 0.0010\n",
      "Epoch 2/70\n",
      "329/329 [==============================] - 70s 213ms/step - loss: 0.0955 - accuracy: 0.9717 - val_loss: 0.0631 - val_accuracy: 0.9804 - lr: 0.0010\n",
      "Epoch 3/70\n",
      "329/329 [==============================] - 73s 221ms/step - loss: 0.0687 - accuracy: 0.9797 - val_loss: 0.0572 - val_accuracy: 0.9828 - lr: 0.0010\n",
      "Epoch 4/70\n",
      "329/329 [==============================] - 73s 223ms/step - loss: 0.0580 - accuracy: 0.9835 - val_loss: 0.0539 - val_accuracy: 0.9835 - lr: 0.0010\n",
      "Epoch 5/70\n",
      "329/329 [==============================] - 70s 211ms/step - loss: 0.0509 - accuracy: 0.9850 - val_loss: 0.0365 - val_accuracy: 0.9893 - lr: 0.0010\n",
      "Epoch 6/70\n",
      "329/329 [==============================] - 72s 218ms/step - loss: 0.0451 - accuracy: 0.9869 - val_loss: 0.0390 - val_accuracy: 0.9888 - lr: 0.0010\n",
      "Epoch 7/70\n",
      "329/329 [==============================] - 74s 223ms/step - loss: 0.0428 - accuracy: 0.9876 - val_loss: 0.0353 - val_accuracy: 0.9890 - lr: 0.0010\n",
      "Epoch 8/70\n",
      "329/329 [==============================] - 73s 221ms/step - loss: 0.0410 - accuracy: 0.9880 - val_loss: 0.0354 - val_accuracy: 0.9898 - lr: 0.0010\n",
      "Epoch 9/70\n",
      "329/329 [==============================] - 73s 222ms/step - loss: 0.0378 - accuracy: 0.9888 - val_loss: 0.0359 - val_accuracy: 0.9889 - lr: 0.0010\n",
      "Epoch 10/70\n",
      "329/329 [==============================] - 72s 220ms/step - loss: 0.0351 - accuracy: 0.9898 - val_loss: 0.0321 - val_accuracy: 0.9905 - lr: 0.0010\n",
      "Epoch 11/70\n",
      "329/329 [==============================] - 72s 220ms/step - loss: 0.0335 - accuracy: 0.9899 - val_loss: 0.0409 - val_accuracy: 0.9877 - lr: 0.0010\n",
      "Epoch 12/70\n",
      "329/329 [==============================] - 72s 220ms/step - loss: 0.0331 - accuracy: 0.9905 - val_loss: 0.0298 - val_accuracy: 0.9915 - lr: 0.0010\n",
      "Epoch 13/70\n",
      "329/329 [==============================] - 73s 223ms/step - loss: 0.0332 - accuracy: 0.9901 - val_loss: 0.0259 - val_accuracy: 0.9926 - lr: 0.0010\n",
      "Epoch 14/70\n",
      "329/329 [==============================] - 73s 223ms/step - loss: 0.0308 - accuracy: 0.9908 - val_loss: 0.0250 - val_accuracy: 0.9926 - lr: 0.0010\n",
      "Epoch 15/70\n",
      "329/329 [==============================] - 73s 221ms/step - loss: 0.0293 - accuracy: 0.9918 - val_loss: 0.0283 - val_accuracy: 0.9917 - lr: 0.0010\n",
      "Epoch 16/70\n",
      "329/329 [==============================] - 73s 223ms/step - loss: 0.0310 - accuracy: 0.9914 - val_loss: 0.0414 - val_accuracy: 0.9883 - lr: 0.0010\n",
      "Epoch 17/70\n",
      "329/329 [==============================] - 73s 221ms/step - loss: 0.0308 - accuracy: 0.9914 - val_loss: 0.0309 - val_accuracy: 0.9907 - lr: 0.0010\n",
      "Epoch 18/70\n",
      "329/329 [==============================] - 73s 221ms/step - loss: 0.0288 - accuracy: 0.9917 - val_loss: 0.0221 - val_accuracy: 0.9937 - lr: 0.0010\n",
      "Epoch 19/70\n",
      "329/329 [==============================] - 73s 221ms/step - loss: 0.0276 - accuracy: 0.9923 - val_loss: 0.0242 - val_accuracy: 0.9927 - lr: 0.0010\n",
      "Epoch 20/70\n",
      "329/329 [==============================] - 73s 222ms/step - loss: 0.0264 - accuracy: 0.9925 - val_loss: 0.0254 - val_accuracy: 0.9935 - lr: 0.0010\n",
      "Epoch 21/70\n",
      "329/329 [==============================] - 73s 221ms/step - loss: 0.0264 - accuracy: 0.9927 - val_loss: 0.0221 - val_accuracy: 0.9936 - lr: 0.0010\n",
      "Epoch 22/70\n",
      "329/329 [==============================] - 73s 221ms/step - loss: 0.0248 - accuracy: 0.9933 - val_loss: 0.0194 - val_accuracy: 0.9941 - lr: 0.0010\n",
      "Epoch 23/70\n",
      "329/329 [==============================] - 73s 220ms/step - loss: 0.0227 - accuracy: 0.9935 - val_loss: 0.0208 - val_accuracy: 0.9937 - lr: 0.0010\n",
      "Epoch 24/70\n",
      "329/329 [==============================] - 73s 223ms/step - loss: 0.0241 - accuracy: 0.9933 - val_loss: 0.0213 - val_accuracy: 0.9937 - lr: 0.0010\n",
      "Epoch 25/70\n",
      "329/329 [==============================] - 73s 220ms/step - loss: 0.0249 - accuracy: 0.9929 - val_loss: 0.0206 - val_accuracy: 0.9936 - lr: 0.0010\n",
      "Epoch 26/70\n",
      "329/329 [==============================] - 73s 221ms/step - loss: 0.0223 - accuracy: 0.9939 - val_loss: 0.0201 - val_accuracy: 0.9946 - lr: 0.0010\n",
      "Epoch 27/70\n",
      "329/329 [==============================] - 73s 221ms/step - loss: 0.0221 - accuracy: 0.9937 - val_loss: 0.0180 - val_accuracy: 0.9948 - lr: 0.0010\n",
      "Epoch 28/70\n",
      "329/329 [==============================] - 73s 220ms/step - loss: 0.0237 - accuracy: 0.9936 - val_loss: 0.0183 - val_accuracy: 0.9945 - lr: 0.0010\n",
      "Epoch 29/70\n",
      "329/329 [==============================] - 73s 220ms/step - loss: 0.0219 - accuracy: 0.9939 - val_loss: 0.0173 - val_accuracy: 0.9955 - lr: 0.0010\n",
      "Epoch 30/70\n",
      "329/329 [==============================] - 73s 221ms/step - loss: 0.0212 - accuracy: 0.9944 - val_loss: 0.0145 - val_accuracy: 0.9956 - lr: 0.0010\n",
      "Epoch 31/70\n",
      "329/329 [==============================] - 73s 221ms/step - loss: 0.0230 - accuracy: 0.9938 - val_loss: 0.0178 - val_accuracy: 0.9950 - lr: 0.0010\n",
      "Epoch 32/70\n",
      "329/329 [==============================] - 73s 223ms/step - loss: 0.0215 - accuracy: 0.9942 - val_loss: 0.0222 - val_accuracy: 0.9930 - lr: 0.0010\n",
      "Epoch 33/70\n",
      "329/329 [==============================] - 73s 223ms/step - loss: 0.0213 - accuracy: 0.9941 - val_loss: 0.0176 - val_accuracy: 0.9955 - lr: 0.0010\n",
      "Epoch 34/70\n",
      "329/329 [==============================] - 73s 221ms/step - loss: 0.0208 - accuracy: 0.9945 - val_loss: 0.0154 - val_accuracy: 0.9955 - lr: 0.0010\n",
      "Epoch 35/70\n",
      "329/329 [==============================] - 73s 221ms/step - loss: 0.0198 - accuracy: 0.9943 - val_loss: 0.0233 - val_accuracy: 0.9933 - lr: 0.0010\n",
      "Epoch 36/70\n",
      "329/329 [==============================] - 73s 222ms/step - loss: 0.0150 - accuracy: 0.9952 - val_loss: 0.0137 - val_accuracy: 0.9958 - lr: 1.0000e-04\n",
      "Epoch 37/70\n",
      "329/329 [==============================] - 73s 221ms/step - loss: 0.0118 - accuracy: 0.9965 - val_loss: 0.0105 - val_accuracy: 0.9964 - lr: 1.0000e-04\n",
      "Epoch 38/70\n",
      "329/329 [==============================] - 73s 221ms/step - loss: 0.0100 - accuracy: 0.9970 - val_loss: 0.0104 - val_accuracy: 0.9966 - lr: 1.0000e-04\n",
      "Epoch 39/70\n",
      "329/329 [==============================] - 81s 245ms/step - loss: 0.0102 - accuracy: 0.9970 - val_loss: 0.0107 - val_accuracy: 0.9970 - lr: 1.0000e-04\n",
      "Epoch 40/70\n",
      "329/329 [==============================] - 85s 258ms/step - loss: 0.0102 - accuracy: 0.9970 - val_loss: 0.0092 - val_accuracy: 0.9970 - lr: 1.0000e-04\n",
      "Epoch 41/70\n",
      "329/329 [==============================] - 80s 244ms/step - loss: 0.0088 - accuracy: 0.9974 - val_loss: 0.0104 - val_accuracy: 0.9972 - lr: 1.0000e-04\n",
      "Epoch 42/70\n",
      "329/329 [==============================] - 80s 243ms/step - loss: 0.0090 - accuracy: 0.9974 - val_loss: 0.0086 - val_accuracy: 0.9973 - lr: 1.0000e-04\n",
      "Epoch 43/70\n",
      "329/329 [==============================] - 80s 244ms/step - loss: 0.0082 - accuracy: 0.9975 - val_loss: 0.0087 - val_accuracy: 0.9974 - lr: 1.0000e-04\n",
      "Epoch 44/70\n",
      "329/329 [==============================] - 80s 244ms/step - loss: 0.0088 - accuracy: 0.9975 - val_loss: 0.0097 - val_accuracy: 0.9970 - lr: 1.0000e-04\n",
      "Epoch 45/70\n",
      "329/329 [==============================] - 80s 243ms/step - loss: 0.0088 - accuracy: 0.9973 - val_loss: 0.0083 - val_accuracy: 0.9974 - lr: 1.0000e-04\n",
      "Epoch 46/70\n",
      "329/329 [==============================] - 80s 242ms/step - loss: 0.0075 - accuracy: 0.9979 - val_loss: 0.0084 - val_accuracy: 0.9975 - lr: 1.0000e-04\n",
      "Epoch 47/70\n",
      "329/329 [==============================] - 80s 244ms/step - loss: 0.0076 - accuracy: 0.9977 - val_loss: 0.0087 - val_accuracy: 0.9973 - lr: 1.0000e-04\n",
      "Epoch 48/70\n",
      "329/329 [==============================] - 82s 248ms/step - loss: 0.0074 - accuracy: 0.9978 - val_loss: 0.0073 - val_accuracy: 0.9974 - lr: 1.0000e-04\n",
      "Epoch 49/70\n",
      "329/329 [==============================] - 78s 236ms/step - loss: 0.0078 - accuracy: 0.9976 - val_loss: 0.0071 - val_accuracy: 0.9978 - lr: 1.0000e-04\n",
      "Epoch 50/70\n",
      "329/329 [==============================] - 72s 219ms/step - loss: 0.0076 - accuracy: 0.9978 - val_loss: 0.0080 - val_accuracy: 0.9977 - lr: 1.0000e-04\n",
      "Epoch 51/70\n",
      "329/329 [==============================] - 72s 220ms/step - loss: 0.0068 - accuracy: 0.9978 - val_loss: 0.0056 - val_accuracy: 0.9981 - lr: 1.0000e-04\n",
      "Epoch 52/70\n"
     ]
    },
    {
     "name": "stdout",
     "output_type": "stream",
     "text": [
      "329/329 [==============================] - 72s 220ms/step - loss: 0.0068 - accuracy: 0.9980 - val_loss: 0.0074 - val_accuracy: 0.9974 - lr: 1.0000e-04\n",
      "Epoch 53/70\n",
      "329/329 [==============================] - 72s 220ms/step - loss: 0.0070 - accuracy: 0.9979 - val_loss: 0.0079 - val_accuracy: 0.9977 - lr: 1.0000e-04\n",
      "Epoch 54/70\n",
      "329/329 [==============================] - 73s 221ms/step - loss: 0.0067 - accuracy: 0.9980 - val_loss: 0.0064 - val_accuracy: 0.9980 - lr: 1.0000e-04\n",
      "Epoch 55/70\n",
      "329/329 [==============================] - 73s 220ms/step - loss: 0.0073 - accuracy: 0.9980 - val_loss: 0.0065 - val_accuracy: 0.9978 - lr: 1.0000e-04\n",
      "Epoch 56/70\n",
      "329/329 [==============================] - 73s 223ms/step - loss: 0.0064 - accuracy: 0.9980 - val_loss: 0.0068 - val_accuracy: 0.9979 - lr: 1.0000e-04\n",
      "Epoch 57/70\n",
      "329/329 [==============================] - 72s 220ms/step - loss: 0.0062 - accuracy: 0.9981 - val_loss: 0.0053 - val_accuracy: 0.9983 - lr: 1.0000e-05\n",
      "Epoch 58/70\n",
      "329/329 [==============================] - 73s 221ms/step - loss: 0.0057 - accuracy: 0.9983 - val_loss: 0.0055 - val_accuracy: 0.9981 - lr: 1.0000e-05\n",
      "Epoch 59/70\n",
      "329/329 [==============================] - 72s 219ms/step - loss: 0.0058 - accuracy: 0.9983 - val_loss: 0.0058 - val_accuracy: 0.9983 - lr: 1.0000e-05\n",
      "Epoch 60/70\n",
      "329/329 [==============================] - 72s 219ms/step - loss: 0.0058 - accuracy: 0.9981 - val_loss: 0.0068 - val_accuracy: 0.9976 - lr: 1.0000e-05\n",
      "Epoch 61/70\n",
      "329/329 [==============================] - 73s 221ms/step - loss: 0.0064 - accuracy: 0.9982 - val_loss: 0.0056 - val_accuracy: 0.9982 - lr: 1.0000e-05\n",
      "Epoch 62/70\n",
      "329/329 [==============================] - 72s 220ms/step - loss: 0.0059 - accuracy: 0.9982 - val_loss: 0.0055 - val_accuracy: 0.9983 - lr: 1.0000e-05\n",
      "Epoch 63/70\n",
      "329/329 [==============================] - 72s 219ms/step - loss: 0.0052 - accuracy: 0.9981 - val_loss: 0.0055 - val_accuracy: 0.9981 - lr: 1.0000e-06\n",
      "Epoch 64/70\n",
      "329/329 [==============================] - 73s 222ms/step - loss: 0.0054 - accuracy: 0.9984 - val_loss: 0.0062 - val_accuracy: 0.9983 - lr: 1.0000e-06\n",
      "Epoch 65/70\n",
      "329/329 [==============================] - 72s 220ms/step - loss: 0.0053 - accuracy: 0.9983 - val_loss: 0.0053 - val_accuracy: 0.9985 - lr: 1.0000e-06\n",
      "Epoch 66/70\n",
      "329/329 [==============================] - 72s 220ms/step - loss: 0.0062 - accuracy: 0.9981 - val_loss: 0.0055 - val_accuracy: 0.9980 - lr: 1.0000e-06\n",
      "Epoch 67/70\n",
      "329/329 [==============================] - 72s 219ms/step - loss: 0.0053 - accuracy: 0.9984 - val_loss: 0.0064 - val_accuracy: 0.9977 - lr: 1.0000e-06\n",
      "Epoch 68/70\n",
      "329/329 [==============================] - 72s 219ms/step - loss: 0.0051 - accuracy: 0.9984 - val_loss: 0.0053 - val_accuracy: 0.9984 - lr: 1.0000e-06\n",
      "Epoch 69/70\n",
      "329/329 [==============================] - 72s 219ms/step - loss: 0.0055 - accuracy: 0.9984 - val_loss: 0.0069 - val_accuracy: 0.9977 - lr: 1.0000e-06\n",
      "Epoch 70/70\n",
      "329/329 [==============================] - 72s 220ms/step - loss: 0.0054 - accuracy: 0.9984 - val_loss: 0.0069 - val_accuracy: 0.9976 - lr: 1.0000e-06\n"
     ]
    },
    {
     "data": {
      "text/plain": [
       "<keras.callbacks.History at 0x1f8b31456d0>"
      ]
     },
     "execution_count": 155,
     "metadata": {},
     "output_type": "execute_result"
    }
   ],
   "source": [
    "model.fit_generator(train_dataset, epochs=70, validation_data=test_dataset, callbacks=[reduce_lr, checkpoint])"
   ]
  },
  {
   "cell_type": "code",
   "execution_count": 158,
   "id": "6afdb551",
   "metadata": {},
   "outputs": [],
   "source": [
    "submissions = pd.read_csv('sample_submission.csv')"
   ]
  },
  {
   "cell_type": "markdown",
   "id": "cab62428",
   "metadata": {},
   "source": [
    "#### Predicting Values"
   ]
  },
  {
   "cell_type": "code",
   "execution_count": 161,
   "id": "246ecd43",
   "metadata": {},
   "outputs": [],
   "source": [
    "ans = tf.keras.backend.argmax(model.predict(test))"
   ]
  },
  {
   "cell_type": "code",
   "execution_count": 165,
   "id": "e249ffc9",
   "metadata": {},
   "outputs": [],
   "source": [
    "submission=pd.DataFrame({'ImageId': range(1, len(ans)+1), 'label': ans})\n",
    "submission.to_csv('submitfinal.csv', index=False)"
   ]
  }
 ],
 "metadata": {
  "kernelspec": {
   "display_name": "Python 3 (ipykernel)",
   "language": "python",
   "name": "python3"
  },
  "language_info": {
   "codemirror_mode": {
    "name": "ipython",
    "version": 3
   },
   "file_extension": ".py",
   "mimetype": "text/x-python",
   "name": "python",
   "nbconvert_exporter": "python",
   "pygments_lexer": "ipython3",
   "version": "3.9.7"
  }
 },
 "nbformat": 4,
 "nbformat_minor": 5
}
