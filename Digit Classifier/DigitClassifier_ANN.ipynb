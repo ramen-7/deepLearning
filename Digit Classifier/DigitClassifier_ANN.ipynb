{
 "cells": [
  {
   "cell_type": "code",
   "execution_count": 18,
   "id": "0a3993de",
   "metadata": {},
   "outputs": [],
   "source": [
    "import tensorflow as tf\n",
    "import keras\n",
    "from keras.models import Sequential\n",
    "from keras.layers import Dense\n",
    "from keras.layers import Flatten\n",
    "from tensorflow.keras.utils import to_categorical\n",
    "import numpy as np\n",
    "from sklearn.metrics import accuracy_score"
   ]
  },
  {
   "cell_type": "markdown",
   "id": "94ddb5b7",
   "metadata": {},
   "source": [
    "## Loading the MNIST dataset, contains the labeled hand-drawn digits"
   ]
  },
  {
   "cell_type": "code",
   "execution_count": 19,
   "id": "10aa2604",
   "metadata": {},
   "outputs": [],
   "source": [
    "mnist = tf.keras.datasets.mnist"
   ]
  },
  {
   "cell_type": "markdown",
   "id": "3ce2b15e",
   "metadata": {},
   "source": [
    "We split the data into training and testing data"
   ]
  },
  {
   "cell_type": "code",
   "execution_count": 20,
   "id": "3442e42e",
   "metadata": {},
   "outputs": [],
   "source": [
    "(x_train, y_train), (x_test, y_test) = mnist.load_data()\n",
    "\n",
    "x_train = tf.keras.utils.normalize(x_train, axis=1)\n",
    "x_test = tf.keras.utils.normalize(x_test, axis=1)"
   ]
  },
  {
   "cell_type": "code",
   "execution_count": 21,
   "id": "1b66be86",
   "metadata": {
    "scrolled": true
   },
   "outputs": [
    {
     "name": "stdout",
     "output_type": "stream",
     "text": [
      "(60000, 28, 28)\n",
      "(60000,)\n",
      "(10000, 28, 28)\n",
      "(10000,)\n"
     ]
    }
   ],
   "source": [
    "print(x_train.shape)\n",
    "print(y_train.shape)\n",
    "print(x_test.shape)\n",
    "print(y_test.shape)"
   ]
  },
  {
   "cell_type": "code",
   "execution_count": 22,
   "id": "cadf896c",
   "metadata": {},
   "outputs": [
    {
     "name": "stdout",
     "output_type": "stream",
     "text": [
      "<class 'numpy.ndarray'>\n"
     ]
    }
   ],
   "source": [
    "print(type(y_test))"
   ]
  },
  {
   "cell_type": "code",
   "execution_count": 23,
   "id": "d034d266",
   "metadata": {
    "scrolled": false
   },
   "outputs": [
    {
     "data": {
      "image/png": "[encoded data removed]",
      "text/plain": [
       "<Figure size 432x288 with 1 Axes>"
      ]
     },
     "metadata": {
      "needs_background": "light"
     },
     "output_type": "display_data"
    }
   ],
   "source": [
    "import matplotlib.pyplot as plt\n",
    "\n",
    "plt.imshow(x_train[0])\n",
    "plt.show() #prints the value which is readable for us"
   ]
  },
  {
   "cell_type": "code",
   "execution_count": 37,
   "id": "0baf6c1e",
   "metadata": {},
   "outputs": [],
   "source": [
    "units = range(25, 1000, 25)\n",
    "max_acc = 0\n",
    "max_units = 0\n"
   ]
  },
  {
   "cell_type": "code",
   "execution_count": 39,
   "id": "9c83172d",
   "metadata": {
    "scrolled": true
   },
   "outputs": [
    {
     "name": "stdout",
     "output_type": "stream",
     "text": [
      "Epoch 1/7\n",
      "1875/1875 [==============================] - 2s 1ms/step - loss: 0.4237 - accuracy: 0.8785\n",
      "Epoch 2/7\n",
      "1875/1875 [==============================] - 2s 1ms/step - loss: 0.2197 - accuracy: 0.9347\n",
      "Epoch 3/7\n",
      "1875/1875 [==============================] - 2s 1ms/step - loss: 0.1762 - accuracy: 0.9483\n",
      "Epoch 4/7\n",
      "1875/1875 [==============================] - 2s 1ms/step - loss: 0.1495 - accuracy: 0.9553\n",
      "Epoch 5/7\n",
      "1875/1875 [==============================] - 2s 1ms/step - loss: 0.1306 - accuracy: 0.9597\n",
      "Epoch 6/7\n",
      "1875/1875 [==============================] - 2s 1ms/step - loss: 0.1162 - accuracy: 0.9641\n",
      "Epoch 7/7\n",
      "1875/1875 [==============================] - 2s 1ms/step - loss: 0.1065 - accuracy: 0.9669\n",
      "WARNING:tensorflow:Layers in a Sequential model should only have a single input tensor. Received: inputs=(<tf.Tensor 'IteratorGetNext:0' shape=(None, 28, 28) dtype=float32>,). Consider rewriting this model with the Functional API.\n",
      "10000\n",
      "Epoch 1/7\n",
      "1875/1875 [==============================] - 2s 1ms/step - loss: 0.3443 - accuracy: 0.9006\n",
      "Epoch 2/7\n",
      "1875/1875 [==============================] - 2s 1ms/step - loss: 0.1643 - accuracy: 0.9504\n",
      "Epoch 3/7\n",
      "1875/1875 [==============================] - 2s 1ms/step - loss: 0.1207 - accuracy: 0.9629\n",
      "Epoch 4/7\n",
      "1875/1875 [==============================] - 2s 1ms/step - loss: 0.0955 - accuracy: 0.9704\n",
      "Epoch 5/7\n",
      "1875/1875 [==============================] - 2s 1ms/step - loss: 0.0788 - accuracy: 0.9754\n",
      "Epoch 6/7\n",
      "1875/1875 [==============================] - 2s 1ms/step - loss: 0.0672 - accuracy: 0.9791\n",
      "Epoch 7/7\n",
      "1875/1875 [==============================] - 2s 1ms/step - loss: 0.0580 - accuracy: 0.9814\n",
      "WARNING:tensorflow:Layers in a Sequential model should only have a single input tensor. Received: inputs=(<tf.Tensor 'IteratorGetNext:0' shape=(None, 28, 28) dtype=float32>,). Consider rewriting this model with the Functional API.\n",
      "10000\n",
      "Epoch 1/7\n",
      "1875/1875 [==============================] - 3s 1ms/step - loss: 0.3072 - accuracy: 0.9126\n",
      "Epoch 2/7\n",
      "1875/1875 [==============================] - 2s 1ms/step - loss: 0.1326 - accuracy: 0.9596\n",
      "Epoch 3/7\n",
      "1875/1875 [==============================] - 2s 1ms/step - loss: 0.0922 - accuracy: 0.9712\n",
      "Epoch 4/7\n",
      "1875/1875 [==============================] - 2s 1ms/step - loss: 0.0701 - accuracy: 0.9779\n",
      "Epoch 5/7\n",
      "1875/1875 [==============================] - 2s 1ms/step - loss: 0.0568 - accuracy: 0.9813\n",
      "Epoch 6/7\n",
      "1875/1875 [==============================] - 2s 1ms/step - loss: 0.0456 - accuracy: 0.9853\n",
      "Epoch 7/7\n",
      "1875/1875 [==============================] - 2s 1ms/step - loss: 0.0383 - accuracy: 0.9873\n",
      "WARNING:tensorflow:Layers in a Sequential model should only have a single input tensor. Received: inputs=(<tf.Tensor 'IteratorGetNext:0' shape=(None, 28, 28) dtype=float32>,). Consider rewriting this model with the Functional API.\n",
      "10000\n",
      "Epoch 1/7\n",
      "1875/1875 [==============================] - 3s 1ms/step - loss: 0.2740 - accuracy: 0.9207\n",
      "Epoch 2/7\n",
      "1875/1875 [==============================] - 2s 1ms/step - loss: 0.1158 - accuracy: 0.9646\n",
      "Epoch 3/7\n",
      "1875/1875 [==============================] - 2s 1ms/step - loss: 0.0808 - accuracy: 0.9745\n",
      "Epoch 4/7\n",
      "1875/1875 [==============================] - 2s 1ms/step - loss: 0.0611 - accuracy: 0.9800\n",
      "Epoch 5/7\n",
      "1875/1875 [==============================] - 2s 1ms/step - loss: 0.0485 - accuracy: 0.9844\n",
      "Epoch 6/7\n",
      "1875/1875 [==============================] - 2s 1ms/step - loss: 0.0356 - accuracy: 0.9887\n",
      "Epoch 7/7\n",
      "1875/1875 [==============================] - 2s 1ms/step - loss: 0.0304 - accuracy: 0.9894\n",
      "WARNING:tensorflow:Layers in a Sequential model should only have a single input tensor. Received: inputs=(<tf.Tensor 'IteratorGetNext:0' shape=(None, 28, 28) dtype=float32>,). Consider rewriting this model with the Functional API.\n",
      "10000\n",
      "Epoch 1/7\n",
      "1875/1875 [==============================] - 3s 1ms/step - loss: 0.2698 - accuracy: 0.9218\n",
      "Epoch 2/7\n",
      "1875/1875 [==============================] - 2s 1ms/step - loss: 0.1100 - accuracy: 0.9659\n",
      "Epoch 3/7\n",
      "1875/1875 [==============================] - 2s 1ms/step - loss: 0.0746 - accuracy: 0.9768\n",
      "Epoch 4/7\n",
      "1875/1875 [==============================] - 2s 1ms/step - loss: 0.0551 - accuracy: 0.9822\n",
      "Epoch 5/7\n",
      "1875/1875 [==============================] - 2s 1ms/step - loss: 0.0408 - accuracy: 0.9866\n",
      "Epoch 6/7\n",
      "1875/1875 [==============================] - 2s 1ms/step - loss: 0.0333 - accuracy: 0.9889\n",
      "Epoch 7/7\n",
      "1875/1875 [==============================] - 2s 1ms/step - loss: 0.0269 - accuracy: 0.9909\n",
      "WARNING:tensorflow:Layers in a Sequential model should only have a single input tensor. Received: inputs=(<tf.Tensor 'IteratorGetNext:0' shape=(None, 28, 28) dtype=float32>,). Consider rewriting this model with the Functional API.\n",
      "10000\n",
      "Epoch 1/7\n",
      "1875/1875 [==============================] - 3s 1ms/step - loss: 0.2543 - accuracy: 0.9258\n",
      "Epoch 2/7\n",
      "1875/1875 [==============================] - 3s 1ms/step - loss: 0.1044 - accuracy: 0.9684\n",
      "Epoch 3/7\n",
      "1875/1875 [==============================] - 3s 1ms/step - loss: 0.0683 - accuracy: 0.9789\n",
      "Epoch 4/7\n",
      "1875/1875 [==============================] - 3s 1ms/step - loss: 0.0507 - accuracy: 0.9839\n",
      "Epoch 5/7\n",
      "1875/1875 [==============================] - 3s 1ms/step - loss: 0.0375 - accuracy: 0.9878\n",
      "Epoch 6/7\n",
      "1875/1875 [==============================] - 3s 1ms/step - loss: 0.0308 - accuracy: 0.9898\n",
      "Epoch 7/7\n",
      "1875/1875 [==============================] - 3s 1ms/step - loss: 0.0225 - accuracy: 0.9920\n",
      "WARNING:tensorflow:Layers in a Sequential model should only have a single input tensor. Received: inputs=(<tf.Tensor 'IteratorGetNext:0' shape=(None, 28, 28) dtype=float32>,). Consider rewriting this model with the Functional API.\n",
      "10000\n",
      "Epoch 1/7\n",
      "1875/1875 [==============================] - 3s 1ms/step - loss: 0.2456 - accuracy: 0.9269\n",
      "Epoch 2/7\n",
      "1875/1875 [==============================] - 3s 1ms/step - loss: 0.1008 - accuracy: 0.9690\n",
      "Epoch 3/7\n",
      "1875/1875 [==============================] - 3s 1ms/step - loss: 0.0672 - accuracy: 0.9790\n",
      "Epoch 4/7\n",
      "1875/1875 [==============================] - 3s 1ms/step - loss: 0.0502 - accuracy: 0.9835\n",
      "Epoch 5/7\n",
      "1875/1875 [==============================] - 3s 1ms/step - loss: 0.0380 - accuracy: 0.9874\n",
      "Epoch 6/7\n",
      "1875/1875 [==============================] - 3s 1ms/step - loss: 0.0278 - accuracy: 0.9908\n",
      "Epoch 7/7\n",
      "1875/1875 [==============================] - 3s 1ms/step - loss: 0.0233 - accuracy: 0.9921\n",
      "WARNING:tensorflow:Layers in a Sequential model should only have a single input tensor. Received: inputs=(<tf.Tensor 'IteratorGetNext:0' shape=(None, 28, 28) dtype=float32>,). Consider rewriting this model with the Functional API.\n",
      "10000\n",
      "Epoch 1/7\n",
      "1875/1875 [==============================] - 3s 2ms/step - loss: 0.2341 - accuracy: 0.9304\n",
      "Epoch 2/7\n",
      "1875/1875 [==============================] - 3s 2ms/step - loss: 0.0943 - accuracy: 0.9709\n",
      "Epoch 3/7\n",
      "1875/1875 [==============================] - 3s 2ms/step - loss: 0.0633 - accuracy: 0.9796\n",
      "Epoch 4/7\n",
      "1875/1875 [==============================] - 3s 2ms/step - loss: 0.0466 - accuracy: 0.9850\n",
      "Epoch 5/7\n",
      "1875/1875 [==============================] - 3s 2ms/step - loss: 0.0341 - accuracy: 0.9889\n",
      "Epoch 6/7\n",
      "1875/1875 [==============================] - 3s 2ms/step - loss: 0.0272 - accuracy: 0.9909\n",
      "Epoch 7/7\n",
      "1875/1875 [==============================] - 3s 1ms/step - loss: 0.0204 - accuracy: 0.9930\n",
      "WARNING:tensorflow:Layers in a Sequential model should only have a single input tensor. Received: inputs=(<tf.Tensor 'IteratorGetNext:0' shape=(None, 28, 28) dtype=float32>,). Consider rewriting this model with the Functional API.\n",
      "10000\n",
      "Epoch 1/7\n",
      "1875/1875 [==============================] - 3s 2ms/step - loss: 0.2291 - accuracy: 0.9313\n",
      "Epoch 2/7\n",
      "1875/1875 [==============================] - 3s 2ms/step - loss: 0.0913 - accuracy: 0.9714\n",
      "Epoch 3/7\n",
      "1875/1875 [==============================] - 3s 2ms/step - loss: 0.0593 - accuracy: 0.9810\n",
      "Epoch 4/7\n",
      "1875/1875 [==============================] - 3s 2ms/step - loss: 0.0431 - accuracy: 0.9865\n",
      "Epoch 5/7\n",
      "1875/1875 [==============================] - 3s 2ms/step - loss: 0.0324 - accuracy: 0.9894\n",
      "Epoch 6/7\n",
      "1875/1875 [==============================] - 3s 2ms/step - loss: 0.0265 - accuracy: 0.9911\n",
      "Epoch 7/7\n"
     ]
    },
    {
     "name": "stdout",
     "output_type": "stream",
     "text": [
      "1875/1875 [==============================] - 3s 2ms/step - loss: 0.0222 - accuracy: 0.9924\n",
      "WARNING:tensorflow:Layers in a Sequential model should only have a single input tensor. Received: inputs=(<tf.Tensor 'IteratorGetNext:0' shape=(None, 28, 28) dtype=float32>,). Consider rewriting this model with the Functional API.\n",
      "10000\n",
      "Epoch 1/7\n",
      "1875/1875 [==============================] - 3s 2ms/step - loss: 0.2260 - accuracy: 0.9326\n",
      "Epoch 2/7\n",
      "1875/1875 [==============================] - 3s 2ms/step - loss: 0.0913 - accuracy: 0.9716\n",
      "Epoch 3/7\n",
      "1875/1875 [==============================] - 3s 2ms/step - loss: 0.0603 - accuracy: 0.9808\n",
      "Epoch 4/7\n",
      "1875/1875 [==============================] - 3s 2ms/step - loss: 0.0419 - accuracy: 0.9865\n",
      "Epoch 5/7\n",
      "1875/1875 [==============================] - 3s 2ms/step - loss: 0.0329 - accuracy: 0.9889\n",
      "Epoch 6/7\n",
      "1875/1875 [==============================] - 3s 2ms/step - loss: 0.0252 - accuracy: 0.9917\n",
      "Epoch 7/7\n",
      "1875/1875 [==============================] - 3s 2ms/step - loss: 0.0214 - accuracy: 0.9930\n",
      "WARNING:tensorflow:Layers in a Sequential model should only have a single input tensor. Received: inputs=(<tf.Tensor 'IteratorGetNext:0' shape=(None, 28, 28) dtype=float32>,). Consider rewriting this model with the Functional API.\n",
      "10000\n",
      "Epoch 1/7\n",
      "1875/1875 [==============================] - 4s 2ms/step - loss: 0.2180 - accuracy: 0.9346\n",
      "Epoch 2/7\n",
      "1875/1875 [==============================] - 3s 2ms/step - loss: 0.0868 - accuracy: 0.9727\n",
      "Epoch 3/7\n",
      "1875/1875 [==============================] - 3s 2ms/step - loss: 0.0569 - accuracy: 0.9814\n",
      "Epoch 4/7\n",
      "1875/1875 [==============================] - 3s 2ms/step - loss: 0.0416 - accuracy: 0.9866\n",
      "Epoch 5/7\n",
      "1875/1875 [==============================] - 3s 2ms/step - loss: 0.0314 - accuracy: 0.9894\n",
      "Epoch 6/7\n",
      "1875/1875 [==============================] - 3s 2ms/step - loss: 0.0243 - accuracy: 0.9916\n",
      "Epoch 7/7\n",
      "1875/1875 [==============================] - 3s 2ms/step - loss: 0.0214 - accuracy: 0.9928\n",
      "WARNING:tensorflow:Layers in a Sequential model should only have a single input tensor. Received: inputs=(<tf.Tensor 'IteratorGetNext:0' shape=(None, 28, 28) dtype=float32>,). Consider rewriting this model with the Functional API.\n",
      "10000\n",
      "Epoch 1/7\n",
      "1875/1875 [==============================] - 4s 2ms/step - loss: 0.2225 - accuracy: 0.9322\n",
      "Epoch 2/7\n",
      "1875/1875 [==============================] - 3s 2ms/step - loss: 0.0873 - accuracy: 0.9725\n",
      "Epoch 3/7\n",
      "1875/1875 [==============================] - 3s 2ms/step - loss: 0.0587 - accuracy: 0.9811\n",
      "Epoch 4/7\n",
      "1875/1875 [==============================] - 3s 2ms/step - loss: 0.0413 - accuracy: 0.9864\n",
      "Epoch 5/7\n",
      "1875/1875 [==============================] - 4s 2ms/step - loss: 0.0324 - accuracy: 0.9893\n",
      "Epoch 6/7\n",
      "1875/1875 [==============================] - 4s 2ms/step - loss: 0.0248 - accuracy: 0.9912\n",
      "Epoch 7/7\n",
      "1875/1875 [==============================] - 3s 2ms/step - loss: 0.0205 - accuracy: 0.9929\n",
      "WARNING:tensorflow:Layers in a Sequential model should only have a single input tensor. Received: inputs=(<tf.Tensor 'IteratorGetNext:0' shape=(None, 28, 28) dtype=float32>,). Consider rewriting this model with the Functional API.\n",
      "10000\n",
      "Epoch 1/7\n",
      "1875/1875 [==============================] - 4s 2ms/step - loss: 0.2116 - accuracy: 0.9362\n",
      "Epoch 2/7\n",
      "1875/1875 [==============================] - 4s 2ms/step - loss: 0.0852 - accuracy: 0.9739\n",
      "Epoch 3/7\n",
      "1875/1875 [==============================] - 4s 2ms/step - loss: 0.0549 - accuracy: 0.9829\n",
      "Epoch 4/7\n",
      "1875/1875 [==============================] - 4s 2ms/step - loss: 0.0412 - accuracy: 0.9865\n",
      "Epoch 5/7\n",
      "1875/1875 [==============================] - 4s 2ms/step - loss: 0.0305 - accuracy: 0.9898\n",
      "Epoch 6/7\n",
      "1875/1875 [==============================] - 4s 2ms/step - loss: 0.0243 - accuracy: 0.9917\n",
      "Epoch 7/7\n",
      "1875/1875 [==============================] - 4s 2ms/step - loss: 0.0197 - accuracy: 0.9936\n",
      "WARNING:tensorflow:Layers in a Sequential model should only have a single input tensor. Received: inputs=(<tf.Tensor 'IteratorGetNext:0' shape=(None, 28, 28) dtype=float32>,). Consider rewriting this model with the Functional API.\n",
      "10000\n",
      "Epoch 1/7\n",
      "1875/1875 [==============================] - 5s 3ms/step - loss: 0.2106 - accuracy: 0.9369\n",
      "Epoch 2/7\n",
      "1875/1875 [==============================] - 5s 3ms/step - loss: 0.0833 - accuracy: 0.9736\n",
      "Epoch 3/7\n",
      "1875/1875 [==============================] - 6s 3ms/step - loss: 0.0566 - accuracy: 0.9819\n",
      "Epoch 4/7\n",
      "1875/1875 [==============================] - 5s 3ms/step - loss: 0.0396 - accuracy: 0.9866\n",
      "Epoch 5/7\n",
      "1875/1875 [==============================] - 5s 3ms/step - loss: 0.0301 - accuracy: 0.9903\n",
      "Epoch 6/7\n",
      "1875/1875 [==============================] - 5s 3ms/step - loss: 0.0242 - accuracy: 0.9923\n",
      "Epoch 7/7\n",
      "1875/1875 [==============================] - 5s 3ms/step - loss: 0.0203 - accuracy: 0.9932\n",
      "WARNING:tensorflow:Layers in a Sequential model should only have a single input tensor. Received: inputs=(<tf.Tensor 'IteratorGetNext:0' shape=(None, 28, 28) dtype=float32>,). Consider rewriting this model with the Functional API.\n",
      "10000\n",
      "Epoch 1/7\n",
      "1875/1875 [==============================] - 6s 3ms/step - loss: 0.2106 - accuracy: 0.9356\n",
      "Epoch 2/7\n",
      "1875/1875 [==============================] - 5s 3ms/step - loss: 0.0818 - accuracy: 0.9743\n",
      "Epoch 3/7\n",
      "1875/1875 [==============================] - 5s 3ms/step - loss: 0.0536 - accuracy: 0.9823\n",
      "Epoch 4/7\n",
      "1875/1875 [==============================] - 5s 3ms/step - loss: 0.0389 - accuracy: 0.9869\n",
      "Epoch 5/7\n",
      "1875/1875 [==============================] - 5s 3ms/step - loss: 0.0300 - accuracy: 0.9900\n",
      "Epoch 6/7\n",
      "1875/1875 [==============================] - 5s 3ms/step - loss: 0.0227 - accuracy: 0.9923\n",
      "Epoch 7/7\n",
      "1875/1875 [==============================] - 5s 3ms/step - loss: 0.0200 - accuracy: 0.9934\n",
      "WARNING:tensorflow:Layers in a Sequential model should only have a single input tensor. Received: inputs=(<tf.Tensor 'IteratorGetNext:0' shape=(None, 28, 28) dtype=float32>,). Consider rewriting this model with the Functional API.\n",
      "10000\n",
      "Epoch 1/7\n",
      "1875/1875 [==============================] - 6s 3ms/step - loss: 0.2073 - accuracy: 0.9371\n",
      "Epoch 2/7\n",
      "1875/1875 [==============================] - 5s 3ms/step - loss: 0.0846 - accuracy: 0.9737\n",
      "Epoch 3/7\n",
      "1875/1875 [==============================] - 5s 3ms/step - loss: 0.0549 - accuracy: 0.9822\n",
      "Epoch 4/7\n",
      "1875/1875 [==============================] - 5s 3ms/step - loss: 0.0406 - accuracy: 0.9864\n",
      "Epoch 5/7\n",
      "1875/1875 [==============================] - 5s 3ms/step - loss: 0.0311 - accuracy: 0.9900\n",
      "Epoch 6/7\n",
      "1875/1875 [==============================] - 5s 3ms/step - loss: 0.0237 - accuracy: 0.9925\n",
      "Epoch 7/7\n",
      "1875/1875 [==============================] - 5s 3ms/step - loss: 0.0209 - accuracy: 0.9931\n",
      "WARNING:tensorflow:Layers in a Sequential model should only have a single input tensor. Received: inputs=(<tf.Tensor 'IteratorGetNext:0' shape=(None, 28, 28) dtype=float32>,). Consider rewriting this model with the Functional API.\n",
      "10000\n",
      "Epoch 1/7\n",
      "1875/1875 [==============================] - 6s 3ms/step - loss: 0.2029 - accuracy: 0.9376\n",
      "Epoch 2/7\n",
      "1875/1875 [==============================] - 6s 3ms/step - loss: 0.0821 - accuracy: 0.9742\n",
      "Epoch 3/7\n",
      "1875/1875 [==============================] - 6s 3ms/step - loss: 0.0527 - accuracy: 0.9828\n",
      "Epoch 4/7\n",
      "1875/1875 [==============================] - 6s 3ms/step - loss: 0.0407 - accuracy: 0.9866\n",
      "Epoch 5/7\n",
      "1875/1875 [==============================] - 6s 3ms/step - loss: 0.0296 - accuracy: 0.9901\n",
      "Epoch 6/7\n",
      "1875/1875 [==============================] - 6s 3ms/step - loss: 0.0237 - accuracy: 0.9920\n",
      "Epoch 7/7\n",
      "1875/1875 [==============================] - 6s 3ms/step - loss: 0.0198 - accuracy: 0.9930\n",
      "WARNING:tensorflow:Layers in a Sequential model should only have a single input tensor. Received: inputs=(<tf.Tensor 'IteratorGetNext:0' shape=(None, 28, 28) dtype=float32>,). Consider rewriting this model with the Functional API.\n",
      "10000\n",
      "Epoch 1/7\n",
      "1875/1875 [==============================] - 6s 3ms/step - loss: 0.2023 - accuracy: 0.9384\n",
      "Epoch 2/7\n",
      "1875/1875 [==============================] - 6s 3ms/step - loss: 0.0811 - accuracy: 0.9747\n",
      "Epoch 3/7\n",
      "1875/1875 [==============================] - 6s 3ms/step - loss: 0.0543 - accuracy: 0.9827\n",
      "Epoch 4/7\n"
     ]
    },
    {
     "name": "stdout",
     "output_type": "stream",
     "text": [
      "1875/1875 [==============================] - 6s 3ms/step - loss: 0.0408 - accuracy: 0.9867\n",
      "Epoch 5/7\n",
      "1875/1875 [==============================] - 6s 3ms/step - loss: 0.0308 - accuracy: 0.9900\n",
      "Epoch 6/7\n",
      "1875/1875 [==============================] - 6s 3ms/step - loss: 0.0229 - accuracy: 0.9922\n",
      "Epoch 7/7\n",
      "1875/1875 [==============================] - 6s 3ms/step - loss: 0.0198 - accuracy: 0.9937\n",
      "WARNING:tensorflow:Layers in a Sequential model should only have a single input tensor. Received: inputs=(<tf.Tensor 'IteratorGetNext:0' shape=(None, 28, 28) dtype=float32>,). Consider rewriting this model with the Functional API.\n",
      "10000\n",
      "Epoch 1/7\n",
      "1875/1875 [==============================] - 6s 3ms/step - loss: 0.2012 - accuracy: 0.9396\n",
      "Epoch 2/7\n",
      "1875/1875 [==============================] - 6s 3ms/step - loss: 0.0830 - accuracy: 0.9740\n",
      "Epoch 3/7\n",
      "1875/1875 [==============================] - 6s 3ms/step - loss: 0.0539 - accuracy: 0.9822\n",
      "Epoch 4/7\n",
      "1875/1875 [==============================] - 6s 3ms/step - loss: 0.0394 - accuracy: 0.9870\n",
      "Epoch 5/7\n",
      "1875/1875 [==============================] - 6s 3ms/step - loss: 0.0291 - accuracy: 0.9909\n",
      "Epoch 6/7\n",
      "1875/1875 [==============================] - 6s 3ms/step - loss: 0.0233 - accuracy: 0.9921\n",
      "Epoch 7/7\n",
      "1875/1875 [==============================] - 6s 3ms/step - loss: 0.0223 - accuracy: 0.9926\n",
      "WARNING:tensorflow:Layers in a Sequential model should only have a single input tensor. Received: inputs=(<tf.Tensor 'IteratorGetNext:0' shape=(None, 28, 28) dtype=float32>,). Consider rewriting this model with the Functional API.\n",
      "10000\n",
      "Epoch 1/7\n",
      "1875/1875 [==============================] - 6s 3ms/step - loss: 0.2000 - accuracy: 0.9398\n",
      "Epoch 2/7\n",
      "1875/1875 [==============================] - 6s 3ms/step - loss: 0.0839 - accuracy: 0.9739\n",
      "Epoch 3/7\n",
      "1875/1875 [==============================] - 6s 3ms/step - loss: 0.0555 - accuracy: 0.9830\n",
      "Epoch 4/7\n",
      "1875/1875 [==============================] - 6s 3ms/step - loss: 0.0388 - accuracy: 0.9875\n",
      "Epoch 5/7\n",
      "1875/1875 [==============================] - 6s 3ms/step - loss: 0.0302 - accuracy: 0.9899\n",
      "Epoch 6/7\n",
      "1875/1875 [==============================] - 6s 3ms/step - loss: 0.0248 - accuracy: 0.9916\n",
      "Epoch 7/7\n",
      "1875/1875 [==============================] - 6s 3ms/step - loss: 0.0205 - accuracy: 0.9932\n",
      "WARNING:tensorflow:Layers in a Sequential model should only have a single input tensor. Received: inputs=(<tf.Tensor 'IteratorGetNext:0' shape=(None, 28, 28) dtype=float32>,). Consider rewriting this model with the Functional API.\n",
      "10000\n",
      "Epoch 1/7\n",
      "1875/1875 [==============================] - 7s 4ms/step - loss: 0.1985 - accuracy: 0.9392\n",
      "Epoch 2/7\n",
      "1875/1875 [==============================] - 7s 4ms/step - loss: 0.0819 - accuracy: 0.9744\n",
      "Epoch 3/7\n",
      "1875/1875 [==============================] - 7s 4ms/step - loss: 0.0523 - accuracy: 0.9826\n",
      "Epoch 4/7\n",
      "1875/1875 [==============================] - 7s 4ms/step - loss: 0.0393 - accuracy: 0.9870\n",
      "Epoch 5/7\n",
      "1875/1875 [==============================] - 7s 4ms/step - loss: 0.0288 - accuracy: 0.9908\n",
      "Epoch 6/7\n",
      "1875/1875 [==============================] - 7s 4ms/step - loss: 0.0253 - accuracy: 0.9915\n",
      "Epoch 7/7\n",
      "1875/1875 [==============================] - 7s 4ms/step - loss: 0.0204 - accuracy: 0.9937\n",
      "WARNING:tensorflow:Layers in a Sequential model should only have a single input tensor. Received: inputs=(<tf.Tensor 'IteratorGetNext:0' shape=(None, 28, 28) dtype=float32>,). Consider rewriting this model with the Functional API.\n",
      "10000\n",
      "Epoch 1/7\n",
      "1875/1875 [==============================] - 9s 5ms/step - loss: 0.1985 - accuracy: 0.9405\n",
      "Epoch 2/7\n",
      "1875/1875 [==============================] - 9s 5ms/step - loss: 0.0824 - accuracy: 0.9744\n",
      "Epoch 3/7\n",
      "1875/1875 [==============================] - 9s 5ms/step - loss: 0.0527 - accuracy: 0.9831\n",
      "Epoch 4/7\n",
      "1875/1875 [==============================] - 9s 5ms/step - loss: 0.0396 - accuracy: 0.9872\n",
      "Epoch 5/7\n",
      "1875/1875 [==============================] - 9s 5ms/step - loss: 0.0298 - accuracy: 0.9901\n",
      "Epoch 6/7\n",
      "1875/1875 [==============================] - 9s 5ms/step - loss: 0.0251 - accuracy: 0.9912\n",
      "Epoch 7/7\n",
      "1875/1875 [==============================] - 9s 5ms/step - loss: 0.0221 - accuracy: 0.9926\n",
      "WARNING:tensorflow:Layers in a Sequential model should only have a single input tensor. Received: inputs=(<tf.Tensor 'IteratorGetNext:0' shape=(None, 28, 28) dtype=float32>,). Consider rewriting this model with the Functional API.\n",
      "10000\n",
      "Epoch 1/7\n",
      "1875/1875 [==============================] - 10s 5ms/step - loss: 0.1956 - accuracy: 0.9414\n",
      "Epoch 2/7\n",
      "1875/1875 [==============================] - 10s 5ms/step - loss: 0.0800 - accuracy: 0.9751\n",
      "Epoch 3/7\n",
      "1875/1875 [==============================] - 10s 5ms/step - loss: 0.0545 - accuracy: 0.9826\n",
      "Epoch 4/7\n",
      "1875/1875 [==============================] - 10s 5ms/step - loss: 0.0387 - accuracy: 0.9868\n",
      "Epoch 5/7\n",
      "1875/1875 [==============================] - 10s 5ms/step - loss: 0.0296 - accuracy: 0.9904\n",
      "Epoch 6/7\n",
      "1875/1875 [==============================] - 10s 5ms/step - loss: 0.0264 - accuracy: 0.9913\n",
      "Epoch 7/7\n",
      "1875/1875 [==============================] - 10s 5ms/step - loss: 0.0199 - accuracy: 0.9937\n",
      "WARNING:tensorflow:Layers in a Sequential model should only have a single input tensor. Received: inputs=(<tf.Tensor 'IteratorGetNext:0' shape=(None, 28, 28) dtype=float32>,). Consider rewriting this model with the Functional API.\n",
      "10000\n",
      "Epoch 1/7\n",
      "1875/1875 [==============================] - 10s 5ms/step - loss: 0.1953 - accuracy: 0.9402\n",
      "Epoch 2/7\n",
      "1875/1875 [==============================] - 10s 5ms/step - loss: 0.0800 - accuracy: 0.9755\n",
      "Epoch 3/7\n",
      "1875/1875 [==============================] - 10s 5ms/step - loss: 0.0536 - accuracy: 0.9832\n",
      "Epoch 4/7\n",
      "1875/1875 [==============================] - 10s 5ms/step - loss: 0.0385 - accuracy: 0.9878\n",
      "Epoch 5/7\n",
      "1875/1875 [==============================] - 10s 5ms/step - loss: 0.0316 - accuracy: 0.9895\n",
      "Epoch 6/7\n",
      "1875/1875 [==============================] - 10s 5ms/step - loss: 0.0244 - accuracy: 0.9923\n",
      "Epoch 7/7\n",
      "1875/1875 [==============================] - 10s 5ms/step - loss: 0.0190 - accuracy: 0.9939\n",
      "WARNING:tensorflow:Layers in a Sequential model should only have a single input tensor. Received: inputs=(<tf.Tensor 'IteratorGetNext:0' shape=(None, 28, 28) dtype=float32>,). Consider rewriting this model with the Functional API.\n",
      "10000\n",
      "Epoch 1/7\n",
      "1875/1875 [==============================] - 11s 6ms/step - loss: 0.1961 - accuracy: 0.9391\n",
      "Epoch 2/7\n",
      "1875/1875 [==============================] - 11s 6ms/step - loss: 0.0802 - accuracy: 0.9748\n",
      "Epoch 3/7\n",
      "1875/1875 [==============================] - 11s 6ms/step - loss: 0.0535 - accuracy: 0.9827\n",
      "Epoch 4/7\n",
      "1875/1875 [==============================] - 11s 6ms/step - loss: 0.0398 - accuracy: 0.9872\n",
      "Epoch 5/7\n",
      "1875/1875 [==============================] - 11s 6ms/step - loss: 0.0298 - accuracy: 0.9904\n",
      "Epoch 6/7\n",
      "1875/1875 [==============================] - 11s 6ms/step - loss: 0.0277 - accuracy: 0.9910\n",
      "Epoch 7/7\n",
      "1875/1875 [==============================] - 11s 6ms/step - loss: 0.0189 - accuracy: 0.9938\n",
      "WARNING:tensorflow:Layers in a Sequential model should only have a single input tensor. Received: inputs=(<tf.Tensor 'IteratorGetNext:0' shape=(None, 28, 28) dtype=float32>,). Consider rewriting this model with the Functional API.\n",
      "10000\n",
      "Epoch 1/7\n",
      "1875/1875 [==============================] - 10s 5ms/step - loss: 0.1935 - accuracy: 0.9406\n",
      "Epoch 2/7\n",
      "1875/1875 [==============================] - 10s 5ms/step - loss: 0.0798 - accuracy: 0.9745\n",
      "Epoch 3/7\n",
      "1875/1875 [==============================] - 10s 5ms/step - loss: 0.0537 - accuracy: 0.9832\n",
      "Epoch 4/7\n",
      "1875/1875 [==============================] - 10s 5ms/step - loss: 0.0393 - accuracy: 0.9877\n",
      "Epoch 5/7\n",
      "1875/1875 [==============================] - 10s 5ms/step - loss: 0.0300 - accuracy: 0.9901\n",
      "Epoch 6/7\n",
      "1875/1875 [==============================] - 10s 5ms/step - loss: 0.0240 - accuracy: 0.9921\n",
      "Epoch 7/7\n",
      "1875/1875 [==============================] - 10s 5ms/step - loss: 0.0206 - accuracy: 0.9932\n",
      "WARNING:tensorflow:Layers in a Sequential model should only have a single input tensor. Received: inputs=(<tf.Tensor 'IteratorGetNext:0' shape=(None, 28, 28) dtype=float32>,). Consider rewriting this model with the Functional API.\n"
     ]
    },
    {
     "name": "stdout",
     "output_type": "stream",
     "text": [
      "10000\n",
      "Epoch 1/7\n",
      "1875/1875 [==============================] - 12s 7ms/step - loss: 0.1957 - accuracy: 0.9400\n",
      "Epoch 2/7\n",
      "1875/1875 [==============================] - 12s 7ms/step - loss: 0.0825 - accuracy: 0.9739\n",
      "Epoch 3/7\n",
      "1875/1875 [==============================] - 12s 7ms/step - loss: 0.0533 - accuracy: 0.9828\n",
      "Epoch 4/7\n",
      "1875/1875 [==============================] - 12s 7ms/step - loss: 0.0392 - accuracy: 0.9874\n",
      "Epoch 5/7\n",
      "1875/1875 [==============================] - 12s 7ms/step - loss: 0.0302 - accuracy: 0.9901\n",
      "Epoch 6/7\n",
      "1875/1875 [==============================] - 12s 7ms/step - loss: 0.0249 - accuracy: 0.9915\n",
      "Epoch 7/7\n",
      "1875/1875 [==============================] - 12s 7ms/step - loss: 0.0211 - accuracy: 0.9930\n",
      "WARNING:tensorflow:Layers in a Sequential model should only have a single input tensor. Received: inputs=(<tf.Tensor 'IteratorGetNext:0' shape=(None, 28, 28) dtype=float32>,). Consider rewriting this model with the Functional API.\n",
      "10000\n",
      "Epoch 1/7\n",
      "1875/1875 [==============================] - 13s 7ms/step - loss: 0.1947 - accuracy: 0.9413\n",
      "Epoch 2/7\n",
      "1875/1875 [==============================] - 13s 7ms/step - loss: 0.0800 - accuracy: 0.9744\n",
      "Epoch 3/7\n",
      "1875/1875 [==============================] - 13s 7ms/step - loss: 0.0542 - accuracy: 0.9825\n",
      "Epoch 4/7\n",
      "1875/1875 [==============================] - 13s 7ms/step - loss: 0.0402 - accuracy: 0.9869\n",
      "Epoch 5/7\n",
      "1875/1875 [==============================] - 13s 7ms/step - loss: 0.0291 - accuracy: 0.9904\n",
      "Epoch 6/7\n",
      "1875/1875 [==============================] - 13s 7ms/step - loss: 0.0256 - accuracy: 0.9919\n",
      "Epoch 7/7\n",
      "1875/1875 [==============================] - 13s 7ms/step - loss: 0.0227 - accuracy: 0.9926\n",
      "WARNING:tensorflow:Layers in a Sequential model should only have a single input tensor. Received: inputs=(<tf.Tensor 'IteratorGetNext:0' shape=(None, 28, 28) dtype=float32>,). Consider rewriting this model with the Functional API.\n",
      "10000\n",
      "Epoch 1/7\n",
      "1875/1875 [==============================] - 13s 7ms/step - loss: 0.1899 - accuracy: 0.9422\n",
      "Epoch 2/7\n",
      "1875/1875 [==============================] - 13s 7ms/step - loss: 0.0798 - accuracy: 0.9750\n",
      "Epoch 3/7\n",
      "1875/1875 [==============================] - 13s 7ms/step - loss: 0.0533 - accuracy: 0.9834\n",
      "Epoch 4/7\n",
      "1875/1875 [==============================] - 13s 7ms/step - loss: 0.0404 - accuracy: 0.9869\n",
      "Epoch 5/7\n",
      "1875/1875 [==============================] - 13s 7ms/step - loss: 0.0294 - accuracy: 0.9901\n",
      "Epoch 6/7\n",
      "1875/1875 [==============================] - 13s 7ms/step - loss: 0.0246 - accuracy: 0.9917\n",
      "Epoch 7/7\n",
      "1875/1875 [==============================] - 12s 7ms/step - loss: 0.0225 - accuracy: 0.9932\n",
      "WARNING:tensorflow:Layers in a Sequential model should only have a single input tensor. Received: inputs=(<tf.Tensor 'IteratorGetNext:0' shape=(None, 28, 28) dtype=float32>,). Consider rewriting this model with the Functional API.\n",
      "10000\n",
      "Epoch 1/7\n",
      "1875/1875 [==============================] - 14s 7ms/step - loss: 0.1930 - accuracy: 0.9409\n",
      "Epoch 2/7\n",
      "1875/1875 [==============================] - 13s 7ms/step - loss: 0.0808 - accuracy: 0.9748\n",
      "Epoch 3/7\n",
      "1875/1875 [==============================] - 13s 7ms/step - loss: 0.0528 - accuracy: 0.9828\n",
      "Epoch 4/7\n",
      "1875/1875 [==============================] - 13s 7ms/step - loss: 0.0404 - accuracy: 0.9869\n",
      "Epoch 5/7\n",
      "1875/1875 [==============================] - 14s 7ms/step - loss: 0.0313 - accuracy: 0.9901\n",
      "Epoch 6/7\n",
      "1875/1875 [==============================] - 14s 7ms/step - loss: 0.0249 - accuracy: 0.9920\n",
      "Epoch 7/7\n",
      "1875/1875 [==============================] - 14s 7ms/step - loss: 0.0212 - accuracy: 0.9927\n",
      "WARNING:tensorflow:Layers in a Sequential model should only have a single input tensor. Received: inputs=(<tf.Tensor 'IteratorGetNext:0' shape=(None, 28, 28) dtype=float32>,). Consider rewriting this model with the Functional API.\n",
      "10000\n",
      "Epoch 1/7\n",
      "1875/1875 [==============================] - 15s 8ms/step - loss: 0.1920 - accuracy: 0.9416\n",
      "Epoch 2/7\n",
      "1875/1875 [==============================] - 15s 8ms/step - loss: 0.0812 - accuracy: 0.9752\n",
      "Epoch 3/7\n",
      "1875/1875 [==============================] - 14s 8ms/step - loss: 0.0552 - accuracy: 0.9820\n",
      "Epoch 4/7\n",
      "1875/1875 [==============================] - 15s 8ms/step - loss: 0.0392 - accuracy: 0.9876\n",
      "Epoch 5/7\n",
      "1875/1875 [==============================] - 16s 8ms/step - loss: 0.0305 - accuracy: 0.9899\n",
      "Epoch 6/7\n",
      "1875/1875 [==============================] - 17s 9ms/step - loss: 0.0255 - accuracy: 0.9919\n",
      "Epoch 7/7\n",
      "1875/1875 [==============================] - 16s 8ms/step - loss: 0.0222 - accuracy: 0.9930\n",
      "WARNING:tensorflow:Layers in a Sequential model should only have a single input tensor. Received: inputs=(<tf.Tensor 'IteratorGetNext:0' shape=(None, 28, 28) dtype=float32>,). Consider rewriting this model with the Functional API.\n",
      "10000\n",
      "Epoch 1/7\n",
      "1875/1875 [==============================] - 18s 9ms/step - loss: 0.1922 - accuracy: 0.9418\n",
      "Epoch 2/7\n",
      "1875/1875 [==============================] - 17s 9ms/step - loss: 0.0803 - accuracy: 0.9748\n",
      "Epoch 3/7\n",
      "1875/1875 [==============================] - 17s 9ms/step - loss: 0.0535 - accuracy: 0.9830\n",
      "Epoch 4/7\n",
      "1875/1875 [==============================] - 15s 8ms/step - loss: 0.0397 - accuracy: 0.9874\n",
      "Epoch 5/7\n",
      "1875/1875 [==============================] - 15s 8ms/step - loss: 0.0319 - accuracy: 0.9898\n",
      "Epoch 6/7\n",
      "1875/1875 [==============================] - 15s 8ms/step - loss: 0.0265 - accuracy: 0.9910\n",
      "Epoch 7/7\n",
      "1875/1875 [==============================] - 21s 11ms/step - loss: 0.0215 - accuracy: 0.9928\n",
      "WARNING:tensorflow:Layers in a Sequential model should only have a single input tensor. Received: inputs=(<tf.Tensor 'IteratorGetNext:0' shape=(None, 28, 28) dtype=float32>,). Consider rewriting this model with the Functional API.\n",
      "10000\n",
      "Epoch 1/7\n",
      "1875/1875 [==============================] - 21s 11ms/step - loss: 0.1925 - accuracy: 0.9414\n",
      "Epoch 2/7\n",
      "1875/1875 [==============================] - 21s 11ms/step - loss: 0.0806 - accuracy: 0.9747\n",
      "Epoch 3/7\n",
      "1875/1875 [==============================] - 16s 9ms/step - loss: 0.0550 - accuracy: 0.9828\n",
      "Epoch 4/7\n",
      "1875/1875 [==============================] - 18s 10ms/step - loss: 0.0397 - accuracy: 0.9872\n",
      "Epoch 5/7\n",
      "1875/1875 [==============================] - 17s 9ms/step - loss: 0.0315 - accuracy: 0.9898\n",
      "Epoch 6/7\n",
      "1875/1875 [==============================] - 17s 9ms/step - loss: 0.0254 - accuracy: 0.9918\n",
      "Epoch 7/7\n",
      "1875/1875 [==============================] - 16s 9ms/step - loss: 0.0211 - accuracy: 0.9930\n",
      "WARNING:tensorflow:Layers in a Sequential model should only have a single input tensor. Received: inputs=(<tf.Tensor 'IteratorGetNext:0' shape=(None, 28, 28) dtype=float32>,). Consider rewriting this model with the Functional API.\n",
      "10000\n",
      "Epoch 1/7\n",
      "1875/1875 [==============================] - 16s 9ms/step - loss: 0.1924 - accuracy: 0.9413\n",
      "Epoch 2/7\n",
      "1875/1875 [==============================] - 17s 9ms/step - loss: 0.0816 - accuracy: 0.9751\n",
      "Epoch 3/7\n",
      "1875/1875 [==============================] - 16s 9ms/step - loss: 0.0527 - accuracy: 0.9829\n",
      "Epoch 4/7\n",
      "1875/1875 [==============================] - 16s 9ms/step - loss: 0.0402 - accuracy: 0.9869\n",
      "Epoch 5/7\n",
      "1875/1875 [==============================] - 16s 9ms/step - loss: 0.0307 - accuracy: 0.9906\n",
      "Epoch 6/7\n",
      "1875/1875 [==============================] - 16s 8ms/step - loss: 0.0263 - accuracy: 0.9915\n",
      "Epoch 7/7\n",
      "1875/1875 [==============================] - 16s 9ms/step - loss: 0.0224 - accuracy: 0.9929\n",
      "WARNING:tensorflow:Layers in a Sequential model should only have a single input tensor. Received: inputs=(<tf.Tensor 'IteratorGetNext:0' shape=(None, 28, 28) dtype=float32>,). Consider rewriting this model with the Functional API.\n",
      "10000\n",
      "Epoch 1/7\n",
      " 816/1875 [============>.................] - ETA: 9s - loss: 0.2717 - accuracy: 0.9170"
     ]
    },
    {
     "ename": "KeyboardInterrupt",
     "evalue": "",
     "output_type": "error",
     "traceback": [
      "\u001b[1;31m---------------------------------------------------------------------------\u001b[0m",
      "\u001b[1;31mKeyboardInterrupt\u001b[0m                         Traceback (most recent call last)",
      "\u001b[1;32m~\\AppData\\Local\\Temp/ipykernel_13648/1053818305.py\u001b[0m in \u001b[0;36m<module>\u001b[1;34m\u001b[0m\n\u001b[0;32m     11\u001b[0m     \u001b[1;31m# output layer is more of a probablility distribution, so we use softma\u001b[0m\u001b[1;33m\u001b[0m\u001b[1;33m\u001b[0m\u001b[0m\n\u001b[0;32m     12\u001b[0m     \u001b[0mmodel\u001b[0m\u001b[1;33m.\u001b[0m\u001b[0mcompile\u001b[0m\u001b[1;33m(\u001b[0m\u001b[0moptimizer\u001b[0m\u001b[1;33m=\u001b[0m\u001b[1;34m'adam'\u001b[0m\u001b[1;33m,\u001b[0m\u001b[0mloss\u001b[0m\u001b[1;33m=\u001b[0m\u001b[1;34m'sparse_categorical_crossentropy'\u001b[0m\u001b[1;33m,\u001b[0m \u001b[0mmetrics\u001b[0m\u001b[1;33m=\u001b[0m\u001b[1;33m[\u001b[0m\u001b[1;34m'accuracy'\u001b[0m\u001b[1;33m]\u001b[0m\u001b[1;33m)\u001b[0m\u001b[1;33m\u001b[0m\u001b[1;33m\u001b[0m\u001b[0m\n\u001b[1;32m---> 13\u001b[1;33m     \u001b[0mmodel\u001b[0m\u001b[1;33m.\u001b[0m\u001b[0mfit\u001b[0m\u001b[1;33m(\u001b[0m\u001b[0mx_train\u001b[0m\u001b[1;33m,\u001b[0m \u001b[0my_train\u001b[0m\u001b[1;33m,\u001b[0m \u001b[0mepochs\u001b[0m\u001b[1;33m=\u001b[0m\u001b[1;36m7\u001b[0m\u001b[1;33m)\u001b[0m\u001b[1;33m\u001b[0m\u001b[1;33m\u001b[0m\u001b[0m\n\u001b[0m\u001b[0;32m     14\u001b[0m     \u001b[0my_prob\u001b[0m \u001b[1;33m=\u001b[0m \u001b[0mmodel\u001b[0m\u001b[1;33m.\u001b[0m\u001b[0mpredict\u001b[0m\u001b[1;33m(\u001b[0m\u001b[1;33m[\u001b[0m\u001b[0mx_test\u001b[0m\u001b[1;33m]\u001b[0m\u001b[1;33m)\u001b[0m\u001b[1;33m\u001b[0m\u001b[1;33m\u001b[0m\u001b[0m\n\u001b[0;32m     15\u001b[0m     \u001b[0mrows\u001b[0m\u001b[1;33m,\u001b[0m \u001b[0mcols\u001b[0m \u001b[1;33m=\u001b[0m \u001b[0my_prob\u001b[0m\u001b[1;33m.\u001b[0m\u001b[0mshape\u001b[0m\u001b[1;33m\u001b[0m\u001b[1;33m\u001b[0m\u001b[0m\n",
      "\u001b[1;32mC:\\ProgramData\\Anaconda3\\lib\\site-packages\\keras\\utils\\traceback_utils.py\u001b[0m in \u001b[0;36merror_handler\u001b[1;34m(*args, **kwargs)\u001b[0m\n\u001b[0;32m     62\u001b[0m     \u001b[0mfiltered_tb\u001b[0m \u001b[1;33m=\u001b[0m \u001b[1;32mNone\u001b[0m\u001b[1;33m\u001b[0m\u001b[1;33m\u001b[0m\u001b[0m\n\u001b[0;32m     63\u001b[0m     \u001b[1;32mtry\u001b[0m\u001b[1;33m:\u001b[0m\u001b[1;33m\u001b[0m\u001b[1;33m\u001b[0m\u001b[0m\n\u001b[1;32m---> 64\u001b[1;33m       \u001b[1;32mreturn\u001b[0m \u001b[0mfn\u001b[0m\u001b[1;33m(\u001b[0m\u001b[1;33m*\u001b[0m\u001b[0margs\u001b[0m\u001b[1;33m,\u001b[0m \u001b[1;33m**\u001b[0m\u001b[0mkwargs\u001b[0m\u001b[1;33m)\u001b[0m\u001b[1;33m\u001b[0m\u001b[1;33m\u001b[0m\u001b[0m\n\u001b[0m\u001b[0;32m     65\u001b[0m     \u001b[1;32mexcept\u001b[0m \u001b[0mException\u001b[0m \u001b[1;32mas\u001b[0m \u001b[0me\u001b[0m\u001b[1;33m:\u001b[0m  \u001b[1;31m# pylint: disable=broad-except\u001b[0m\u001b[1;33m\u001b[0m\u001b[1;33m\u001b[0m\u001b[0m\n\u001b[0;32m     66\u001b[0m       \u001b[0mfiltered_tb\u001b[0m \u001b[1;33m=\u001b[0m \u001b[0m_process_traceback_frames\u001b[0m\u001b[1;33m(\u001b[0m\u001b[0me\u001b[0m\u001b[1;33m.\u001b[0m\u001b[0m__traceback__\u001b[0m\u001b[1;33m)\u001b[0m\u001b[1;33m\u001b[0m\u001b[1;33m\u001b[0m\u001b[0m\n",
      "\u001b[1;32mC:\\ProgramData\\Anaconda3\\lib\\site-packages\\keras\\engine\\training.py\u001b[0m in \u001b[0;36mfit\u001b[1;34m(self, x, y, batch_size, epochs, verbose, callbacks, validation_split, validation_data, shuffle, class_weight, sample_weight, initial_epoch, steps_per_epoch, validation_steps, validation_batch_size, validation_freq, max_queue_size, workers, use_multiprocessing)\u001b[0m\n\u001b[0;32m   1382\u001b[0m                 _r=1):\n\u001b[0;32m   1383\u001b[0m               \u001b[0mcallbacks\u001b[0m\u001b[1;33m.\u001b[0m\u001b[0mon_train_batch_begin\u001b[0m\u001b[1;33m(\u001b[0m\u001b[0mstep\u001b[0m\u001b[1;33m)\u001b[0m\u001b[1;33m\u001b[0m\u001b[1;33m\u001b[0m\u001b[0m\n\u001b[1;32m-> 1384\u001b[1;33m               \u001b[0mtmp_logs\u001b[0m \u001b[1;33m=\u001b[0m \u001b[0mself\u001b[0m\u001b[1;33m.\u001b[0m\u001b[0mtrain_function\u001b[0m\u001b[1;33m(\u001b[0m\u001b[0miterator\u001b[0m\u001b[1;33m)\u001b[0m\u001b[1;33m\u001b[0m\u001b[1;33m\u001b[0m\u001b[0m\n\u001b[0m\u001b[0;32m   1385\u001b[0m               \u001b[1;32mif\u001b[0m \u001b[0mdata_handler\u001b[0m\u001b[1;33m.\u001b[0m\u001b[0mshould_sync\u001b[0m\u001b[1;33m:\u001b[0m\u001b[1;33m\u001b[0m\u001b[1;33m\u001b[0m\u001b[0m\n\u001b[0;32m   1386\u001b[0m                 \u001b[0mcontext\u001b[0m\u001b[1;33m.\u001b[0m\u001b[0masync_wait\u001b[0m\u001b[1;33m(\u001b[0m\u001b[1;33m)\u001b[0m\u001b[1;33m\u001b[0m\u001b[1;33m\u001b[0m\u001b[0m\n",
      "\u001b[1;32mC:\\ProgramData\\Anaconda3\\lib\\site-packages\\tensorflow\\python\\util\\traceback_utils.py\u001b[0m in \u001b[0;36merror_handler\u001b[1;34m(*args, **kwargs)\u001b[0m\n\u001b[0;32m    148\u001b[0m     \u001b[0mfiltered_tb\u001b[0m \u001b[1;33m=\u001b[0m \u001b[1;32mNone\u001b[0m\u001b[1;33m\u001b[0m\u001b[1;33m\u001b[0m\u001b[0m\n\u001b[0;32m    149\u001b[0m     \u001b[1;32mtry\u001b[0m\u001b[1;33m:\u001b[0m\u001b[1;33m\u001b[0m\u001b[1;33m\u001b[0m\u001b[0m\n\u001b[1;32m--> 150\u001b[1;33m       \u001b[1;32mreturn\u001b[0m \u001b[0mfn\u001b[0m\u001b[1;33m(\u001b[0m\u001b[1;33m*\u001b[0m\u001b[0margs\u001b[0m\u001b[1;33m,\u001b[0m \u001b[1;33m**\u001b[0m\u001b[0mkwargs\u001b[0m\u001b[1;33m)\u001b[0m\u001b[1;33m\u001b[0m\u001b[1;33m\u001b[0m\u001b[0m\n\u001b[0m\u001b[0;32m    151\u001b[0m     \u001b[1;32mexcept\u001b[0m \u001b[0mException\u001b[0m \u001b[1;32mas\u001b[0m \u001b[0me\u001b[0m\u001b[1;33m:\u001b[0m\u001b[1;33m\u001b[0m\u001b[1;33m\u001b[0m\u001b[0m\n\u001b[0;32m    152\u001b[0m       \u001b[0mfiltered_tb\u001b[0m \u001b[1;33m=\u001b[0m \u001b[0m_process_traceback_frames\u001b[0m\u001b[1;33m(\u001b[0m\u001b[0me\u001b[0m\u001b[1;33m.\u001b[0m\u001b[0m__traceback__\u001b[0m\u001b[1;33m)\u001b[0m\u001b[1;33m\u001b[0m\u001b[1;33m\u001b[0m\u001b[0m\n",
      "\u001b[1;32mC:\\ProgramData\\Anaconda3\\lib\\site-packages\\tensorflow\\python\\eager\\def_function.py\u001b[0m in \u001b[0;36m__call__\u001b[1;34m(self, *args, **kwds)\u001b[0m\n\u001b[0;32m    913\u001b[0m \u001b[1;33m\u001b[0m\u001b[0m\n\u001b[0;32m    914\u001b[0m       \u001b[1;32mwith\u001b[0m \u001b[0mOptionalXlaContext\u001b[0m\u001b[1;33m(\u001b[0m\u001b[0mself\u001b[0m\u001b[1;33m.\u001b[0m\u001b[0m_jit_compile\u001b[0m\u001b[1;33m)\u001b[0m\u001b[1;33m:\u001b[0m\u001b[1;33m\u001b[0m\u001b[1;33m\u001b[0m\u001b[0m\n\u001b[1;32m--> 915\u001b[1;33m         \u001b[0mresult\u001b[0m \u001b[1;33m=\u001b[0m \u001b[0mself\u001b[0m\u001b[1;33m.\u001b[0m\u001b[0m_call\u001b[0m\u001b[1;33m(\u001b[0m\u001b[1;33m*\u001b[0m\u001b[0margs\u001b[0m\u001b[1;33m,\u001b[0m \u001b[1;33m**\u001b[0m\u001b[0mkwds\u001b[0m\u001b[1;33m)\u001b[0m\u001b[1;33m\u001b[0m\u001b[1;33m\u001b[0m\u001b[0m\n\u001b[0m\u001b[0;32m    916\u001b[0m \u001b[1;33m\u001b[0m\u001b[0m\n\u001b[0;32m    917\u001b[0m       \u001b[0mnew_tracing_count\u001b[0m \u001b[1;33m=\u001b[0m \u001b[0mself\u001b[0m\u001b[1;33m.\u001b[0m\u001b[0mexperimental_get_tracing_count\u001b[0m\u001b[1;33m(\u001b[0m\u001b[1;33m)\u001b[0m\u001b[1;33m\u001b[0m\u001b[1;33m\u001b[0m\u001b[0m\n",
      "\u001b[1;32mC:\\ProgramData\\Anaconda3\\lib\\site-packages\\tensorflow\\python\\eager\\def_function.py\u001b[0m in \u001b[0;36m_call\u001b[1;34m(self, *args, **kwds)\u001b[0m\n\u001b[0;32m    945\u001b[0m       \u001b[1;31m# In this case we have created variables on the first call, so we run the\u001b[0m\u001b[1;33m\u001b[0m\u001b[1;33m\u001b[0m\u001b[0m\n\u001b[0;32m    946\u001b[0m       \u001b[1;31m# defunned version which is guaranteed to never create variables.\u001b[0m\u001b[1;33m\u001b[0m\u001b[1;33m\u001b[0m\u001b[0m\n\u001b[1;32m--> 947\u001b[1;33m       \u001b[1;32mreturn\u001b[0m \u001b[0mself\u001b[0m\u001b[1;33m.\u001b[0m\u001b[0m_stateless_fn\u001b[0m\u001b[1;33m(\u001b[0m\u001b[1;33m*\u001b[0m\u001b[0margs\u001b[0m\u001b[1;33m,\u001b[0m \u001b[1;33m**\u001b[0m\u001b[0mkwds\u001b[0m\u001b[1;33m)\u001b[0m  \u001b[1;31m# pylint: disable=not-callable\u001b[0m\u001b[1;33m\u001b[0m\u001b[1;33m\u001b[0m\u001b[0m\n\u001b[0m\u001b[0;32m    948\u001b[0m     \u001b[1;32melif\u001b[0m \u001b[0mself\u001b[0m\u001b[1;33m.\u001b[0m\u001b[0m_stateful_fn\u001b[0m \u001b[1;32mis\u001b[0m \u001b[1;32mnot\u001b[0m \u001b[1;32mNone\u001b[0m\u001b[1;33m:\u001b[0m\u001b[1;33m\u001b[0m\u001b[1;33m\u001b[0m\u001b[0m\n\u001b[0;32m    949\u001b[0m       \u001b[1;31m# Release the lock early so that multiple threads can perform the call\u001b[0m\u001b[1;33m\u001b[0m\u001b[1;33m\u001b[0m\u001b[0m\n",
      "\u001b[1;32mC:\\ProgramData\\Anaconda3\\lib\\site-packages\\tensorflow\\python\\eager\\function.py\u001b[0m in \u001b[0;36m__call__\u001b[1;34m(self, *args, **kwargs)\u001b[0m\n\u001b[0;32m   2954\u001b[0m       (graph_function,\n\u001b[0;32m   2955\u001b[0m        filtered_flat_args) = self._maybe_define_function(args, kwargs)\n\u001b[1;32m-> 2956\u001b[1;33m     return graph_function._call_flat(\n\u001b[0m\u001b[0;32m   2957\u001b[0m         filtered_flat_args, captured_inputs=graph_function.captured_inputs)  # pylint: disable=protected-access\n\u001b[0;32m   2958\u001b[0m \u001b[1;33m\u001b[0m\u001b[0m\n",
      "\u001b[1;32mC:\\ProgramData\\Anaconda3\\lib\\site-packages\\tensorflow\\python\\eager\\function.py\u001b[0m in \u001b[0;36m_call_flat\u001b[1;34m(self, args, captured_inputs, cancellation_manager)\u001b[0m\n\u001b[0;32m   1851\u001b[0m         and executing_eagerly):\n\u001b[0;32m   1852\u001b[0m       \u001b[1;31m# No tape is watching; skip to running the function.\u001b[0m\u001b[1;33m\u001b[0m\u001b[1;33m\u001b[0m\u001b[0m\n\u001b[1;32m-> 1853\u001b[1;33m       return self._build_call_outputs(self._inference_function.call(\n\u001b[0m\u001b[0;32m   1854\u001b[0m           ctx, args, cancellation_manager=cancellation_manager))\n\u001b[0;32m   1855\u001b[0m     forward_backward = self._select_forward_and_backward_functions(\n",
      "\u001b[1;32mC:\\ProgramData\\Anaconda3\\lib\\site-packages\\tensorflow\\python\\eager\\function.py\u001b[0m in \u001b[0;36mcall\u001b[1;34m(self, ctx, args, cancellation_manager)\u001b[0m\n\u001b[0;32m    497\u001b[0m       \u001b[1;32mwith\u001b[0m \u001b[0m_InterpolateFunctionError\u001b[0m\u001b[1;33m(\u001b[0m\u001b[0mself\u001b[0m\u001b[1;33m)\u001b[0m\u001b[1;33m:\u001b[0m\u001b[1;33m\u001b[0m\u001b[1;33m\u001b[0m\u001b[0m\n\u001b[0;32m    498\u001b[0m         \u001b[1;32mif\u001b[0m \u001b[0mcancellation_manager\u001b[0m \u001b[1;32mis\u001b[0m \u001b[1;32mNone\u001b[0m\u001b[1;33m:\u001b[0m\u001b[1;33m\u001b[0m\u001b[1;33m\u001b[0m\u001b[0m\n\u001b[1;32m--> 499\u001b[1;33m           outputs = execute.execute(\n\u001b[0m\u001b[0;32m    500\u001b[0m               \u001b[0mstr\u001b[0m\u001b[1;33m(\u001b[0m\u001b[0mself\u001b[0m\u001b[1;33m.\u001b[0m\u001b[0msignature\u001b[0m\u001b[1;33m.\u001b[0m\u001b[0mname\u001b[0m\u001b[1;33m)\u001b[0m\u001b[1;33m,\u001b[0m\u001b[1;33m\u001b[0m\u001b[1;33m\u001b[0m\u001b[0m\n\u001b[0;32m    501\u001b[0m               \u001b[0mnum_outputs\u001b[0m\u001b[1;33m=\u001b[0m\u001b[0mself\u001b[0m\u001b[1;33m.\u001b[0m\u001b[0m_num_outputs\u001b[0m\u001b[1;33m,\u001b[0m\u001b[1;33m\u001b[0m\u001b[1;33m\u001b[0m\u001b[0m\n",
      "\u001b[1;32mC:\\ProgramData\\Anaconda3\\lib\\site-packages\\tensorflow\\python\\eager\\execute.py\u001b[0m in \u001b[0;36mquick_execute\u001b[1;34m(op_name, num_outputs, inputs, attrs, ctx, name)\u001b[0m\n\u001b[0;32m     52\u001b[0m   \u001b[1;32mtry\u001b[0m\u001b[1;33m:\u001b[0m\u001b[1;33m\u001b[0m\u001b[1;33m\u001b[0m\u001b[0m\n\u001b[0;32m     53\u001b[0m     \u001b[0mctx\u001b[0m\u001b[1;33m.\u001b[0m\u001b[0mensure_initialized\u001b[0m\u001b[1;33m(\u001b[0m\u001b[1;33m)\u001b[0m\u001b[1;33m\u001b[0m\u001b[1;33m\u001b[0m\u001b[0m\n\u001b[1;32m---> 54\u001b[1;33m     tensors = pywrap_tfe.TFE_Py_Execute(ctx._handle, device_name, op_name,\n\u001b[0m\u001b[0;32m     55\u001b[0m                                         inputs, attrs, num_outputs)\n\u001b[0;32m     56\u001b[0m   \u001b[1;32mexcept\u001b[0m \u001b[0mcore\u001b[0m\u001b[1;33m.\u001b[0m\u001b[0m_NotOkStatusException\u001b[0m \u001b[1;32mas\u001b[0m \u001b[0me\u001b[0m\u001b[1;33m:\u001b[0m\u001b[1;33m\u001b[0m\u001b[1;33m\u001b[0m\u001b[0m\n",
      "\u001b[1;31mKeyboardInterrupt\u001b[0m: "
     ]
    }
   ],
   "source": [
    "for i in units:\n",
    "    y_pred= []\n",
    "    model = Sequential()\n",
    "    #flattening layers from 2-D to 1-D\n",
    "    model.add(Flatten())\n",
    "    model.add(Dense(i, activation='relu'))\n",
    "    #128 neurons for first layer\n",
    "    model.add(Dense(i, activation='relu'))\n",
    "    #128 neurons for 2nd layer\n",
    "    model.add(Dense(10, activation='softmax'))\n",
    "    # output layer is more of a probablility distribution, so we use softma\n",
    "    model.compile(optimizer='adam',loss='sparse_categorical_crossentropy', metrics=['accuracy'])\n",
    "    model.fit(x_train, y_train, epochs=7)\n",
    "    y_prob = model.predict([x_test])\n",
    "    rows, cols = y_prob.shape\n",
    "    print(rows)\n",
    "    for j in range(0, rows):\n",
    "        y_pred.append(np.argmax(y_prob[j]))\n",
    "    if(accuracy_score(y_test, y_pred) > max_acc):\n",
    "        max_acc = accuracy_score(y_test, y_pred)\n",
    "        max_untis = i"
   ]
  },
  {
   "cell_type": "code",
   "execution_count": 41,
   "id": "03c1114e",
   "metadata": {
    "scrolled": true
   },
   "outputs": [
    {
     "data": {
      "text/plain": [
       "150"
      ]
     },
     "execution_count": 41,
     "metadata": {},
     "output_type": "execute_result"
    }
   ],
   "source": [
    "units[5]"
   ]
  },
  {
   "cell_type": "code",
   "execution_count": 44,
   "id": "9bcbb6c0",
   "metadata": {},
   "outputs": [
    {
     "name": "stdout",
     "output_type": "stream",
     "text": [
      "Epoch 1/7\n",
      "1875/1875 [==============================] - 3s 2ms/step - loss: 0.2368 - accuracy: 0.9296\n",
      "Epoch 2/7\n",
      "1875/1875 [==============================] - 3s 2ms/step - loss: 0.0948 - accuracy: 0.9707\n",
      "Epoch 3/7\n",
      "1875/1875 [==============================] - 3s 2ms/step - loss: 0.0632 - accuracy: 0.9799\n",
      "Epoch 4/7\n",
      "1875/1875 [==============================] - 3s 2ms/step - loss: 0.0453 - accuracy: 0.9854\n",
      "Epoch 5/7\n",
      "1875/1875 [==============================] - 3s 2ms/step - loss: 0.0338 - accuracy: 0.9892\n",
      "Epoch 6/7\n",
      "1875/1875 [==============================] - 3s 2ms/step - loss: 0.0271 - accuracy: 0.9909\n",
      "Epoch 7/7\n",
      "1875/1875 [==============================] - 3s 2ms/step - loss: 0.0217 - accuracy: 0.9927\n"
     ]
    },
    {
     "data": {
      "text/plain": [
       "<keras.callbacks.History at 0x198a99c8910>"
      ]
     },
     "execution_count": 44,
     "metadata": {},
     "output_type": "execute_result"
    }
   ],
   "source": [
    "    model = Sequential()\n",
    "    #flattening layers from 2-D to 1-D\n",
    "    model.add(Flatten())\n",
    "    model.add(Dense(200, activation='relu'))\n",
    "    #128 neurons for first layer\n",
    "    model.add(Dense(200, activation='relu'))\n",
    "    #128 neurons for 2nd layer\n",
    "    model.add(Dense(10, activation='softmax'))\n",
    "    # output layer is more of a probablility distribution, so we use softma\n",
    "    model.compile(optimizer='adam',loss='sparse_categorical_crossentropy', metrics=['accuracy'])\n",
    "    model.fit(x_train, y_train, epochs=7)"
   ]
  },
  {
   "cell_type": "code",
   "execution_count": 45,
   "id": "a59e0fa9",
   "metadata": {},
   "outputs": [],
   "source": [
    "import pandas as pd"
   ]
  },
  {
   "cell_type": "code",
   "execution_count": 66,
   "id": "bd09f8c8",
   "metadata": {},
   "outputs": [],
   "source": [
    "X_train = pd.read_csv('train.csv')\n",
    "X_train = X_train/255"
   ]
  },
  {
   "cell_type": "code",
   "execution_count": 84,
   "id": "eafc67e3",
   "metadata": {},
   "outputs": [],
   "source": [
    "y_train = X_train.label\n",
    "X_train = X_train.drop(['label'],axis=1)"
   ]
  },
  {
   "cell_type": "code",
   "execution_count": 67,
   "id": "6bf9e40e",
   "metadata": {},
   "outputs": [],
   "source": [
    "X_test = pd.read_csv('test.csv')\n",
    "X_test = X_test/255\n",
    "X_test = X_test.to_numpy()"
   ]
  },
  {
   "cell_type": "code",
   "execution_count": 86,
   "id": "81d05c70",
   "metadata": {},
   "outputs": [
    {
     "name": "stdout",
     "output_type": "stream",
     "text": [
      "Epoch 1/7\n",
      "1313/1313 [==============================] - 37s 4ms/step - loss: 0.0023 - accuracy: 0.0984\n",
      "Epoch 2/7\n",
      "1313/1313 [==============================] - 5s 4ms/step - loss: 2.5318e-09 - accuracy: 0.0984\n",
      "Epoch 3/7\n",
      "1313/1313 [==============================] - 5s 4ms/step - loss: 2.4636e-09 - accuracy: 0.0984\n",
      "Epoch 4/7\n",
      "1313/1313 [==============================] - 5s 4ms/step - loss: 2.3615e-09 - accuracy: 0.0984\n",
      "Epoch 5/7\n",
      "1313/1313 [==============================] - 5s 4ms/step - loss: 2.1997e-09 - accuracy: 0.0984\n",
      "Epoch 6/7\n",
      "1313/1313 [==============================] - 5s 4ms/step - loss: 1.9527e-09 - accuracy: 0.0984\n",
      "Epoch 7/7\n",
      "1313/1313 [==============================] - 5s 4ms/step - loss: 1.6576e-09 - accuracy: 0.0984\n"
     ]
    },
    {
     "data": {
      "text/plain": [
       "<keras.callbacks.History at 0x19881d09a60>"
      ]
     },
     "execution_count": 86,
     "metadata": {},
     "output_type": "execute_result"
    }
   ],
   "source": [
    "model = Sequential()\n",
    "    #flattening layers from 2-D to 1-D\n",
    "model.add(Flatten())\n",
    "model.add(Dense(500, activation='relu'))\n",
    "    #128 neurons for first layer\n",
    "model.add(Dense(500, activation='relu'))\n",
    "    #128 neurons for 2nd layer\n",
    "model.add(Dense(10, activation='softmax'))\n",
    "    # output layer is more of a probablility distribution, so we use softma\n",
    "model.compile(optimizer='adam',loss='sparse_categorical_crossentropy', metrics=['accuracy'])\n",
    "model.fit(X_train, y_train, epochs=7)"
   ]
  },
  {
   "cell_type": "code",
   "execution_count": 63,
   "id": "3595fca2",
   "metadata": {},
   "outputs": [
    {
     "name": "stdout",
     "output_type": "stream",
     "text": [
      "<class 'numpy.ndarray'>\n",
      "<class 'numpy.ndarray'>\n"
     ]
    }
   ],
   "source": [
    "print(type(X_test))\n",
    "print(type(X_train))"
   ]
  },
  {
   "cell_type": "code",
   "execution_count": 68,
   "id": "704051a5",
   "metadata": {},
   "outputs": [
    {
     "name": "stdout",
     "output_type": "stream",
     "text": [
      "WARNING:tensorflow:Model was constructed with shape (32, 28, 28) for input KerasTensor(type_spec=TensorSpec(shape=(32, 28, 28), dtype=tf.float32, name='flatten_52_input'), name='flatten_52_input', description=\"created by layer 'flatten_52_input'\"), but it was called on an input with incompatible shape (32, 784).\n"
     ]
    }
   ],
   "source": [
    "y_pred = model.predict(X_test)"
   ]
  },
  {
   "cell_type": "code",
   "execution_count": 69,
   "id": "f107a1aa",
   "metadata": {},
   "outputs": [
    {
     "name": "stdout",
     "output_type": "stream",
     "text": [
      "[[2.3693646e-29 2.0516371e-25 1.0000000e+00 ... 5.1067494e-20\n",
      "  4.3850067e-23 0.0000000e+00]\n",
      " [9.9999678e-01 9.0551217e-17 1.3475087e-13 ... 3.1826476e-06\n",
      "  4.5999974e-21 7.3535070e-14]\n",
      " [8.5214009e-17 5.5539573e-17 9.6133615e-13 ... 6.8257318e-12\n",
      "  1.6272220e-10 9.9999988e-01]\n",
      " ...\n",
      " [0.0000000e+00 1.1508086e-30 7.0664038e-32 ... 3.2604074e-34\n",
      "  9.3130413e-28 1.3056420e-19]\n",
      " [1.1501397e-18 1.1687498e-20 4.1745272e-22 ... 8.1200475e-14\n",
      "  1.6154310e-17 1.0000000e+00]\n",
      " [2.9512164e-24 2.9573139e-16 1.0000000e+00 ... 9.7756886e-17\n",
      "  3.1438960e-21 1.2690134e-29]]\n"
     ]
    }
   ],
   "source": [
    "print(y_pred)"
   ]
  },
  {
   "cell_type": "code",
   "execution_count": 71,
   "id": "b49668c0",
   "metadata": {},
   "outputs": [],
   "source": [
    "predictions = []\n",
    "for i in range(0, len(y_pred)):\n",
    "    predictions.append(np.argmax(y_pred[i]))"
   ]
  },
  {
   "cell_type": "code",
   "execution_count": 74,
   "id": "cb37a097",
   "metadata": {},
   "outputs": [],
   "source": [
    "submission = pd.read_csv('sample_submission.csv')"
   ]
  },
  {
   "cell_type": "code",
   "execution_count": 80,
   "id": "f2009418",
   "metadata": {},
   "outputs": [],
   "source": [
    "ind = list(range(1,len(predictions)+1))"
   ]
  },
  {
   "cell_type": "code",
   "execution_count": 82,
   "id": "bb6c769f",
   "metadata": {},
   "outputs": [],
   "source": [
    "output = pd.DataFrame({'ImageId': ind,\n",
    "                       'Label': predictions})\n",
    "output.to_csv('submission.csv', index=False)"
   ]
  },
  {
   "cell_type": "markdown",
   "id": "ca307151",
   "metadata": {},
   "source": [
    "#### 7th epoch gave us 99.30% accuracy"
   ]
  },
  {
   "cell_type": "code",
   "execution_count": 9,
   "id": "1d7d410c",
   "metadata": {},
   "outputs": [
    {
     "name": "stdout",
     "output_type": "stream",
     "text": [
      "313/313 [==============================] - 1s 2ms/step - loss: 0.0932 - accuracy: 0.9753\n",
      "0.09323079884052277 0.9753000140190125\n"
     ]
    }
   ],
   "source": [
    "val_loss, val_acc = model.evaluate(x_test, y_test)\n",
    "print(val_loss, val_acc)"
   ]
  },
  {
   "cell_type": "code",
   "execution_count": 10,
   "id": "7cd823be",
   "metadata": {},
   "outputs": [
    {
     "name": "stdout",
     "output_type": "stream",
     "text": [
      "INFO:tensorflow:Assets written to: digit_classifier_model\\assets\n"
     ]
    }
   ],
   "source": [
    "model.save('digit_classifier_model')"
   ]
  },
  {
   "cell_type": "code",
   "execution_count": 11,
   "id": "2501bf91",
   "metadata": {},
   "outputs": [],
   "source": [
    "new_model = tf.keras.models.load_model('digit_classifier_model')"
   ]
  },
  {
   "cell_type": "code",
   "execution_count": 12,
   "id": "2af656d1",
   "metadata": {},
   "outputs": [],
   "source": [
    "predictions = new_model.predict([x_test])"
   ]
  },
  {
   "cell_type": "code",
   "execution_count": 13,
   "id": "9126809d",
   "metadata": {},
   "outputs": [
    {
     "name": "stdout",
     "output_type": "stream",
     "text": [
      "[[5.4611189e-17 4.1443060e-12 5.5952437e-10 ... 1.0000000e+00\n",
      "  9.1002032e-13 2.4822872e-10]\n",
      " [2.1212429e-16 3.4269352e-08 1.0000000e+00 ... 2.5758568e-15\n",
      "  7.4140438e-15 7.5983312e-20]\n",
      " [2.2484816e-11 9.9999046e-01 2.7404175e-07 ... 2.1322658e-07\n",
      "  2.4121587e-07 3.2706812e-10]\n",
      " ...\n",
      " [1.7800141e-12 1.7243796e-09 3.3103870e-11 ... 8.4412056e-07\n",
      "  7.9887877e-07 2.5215452e-06]\n",
      " [5.6848303e-13 2.4833195e-13 2.0594915e-12 ... 2.4031651e-12\n",
      "  1.1633229e-05 1.2179151e-13]\n",
      " [3.7446917e-11 1.9797915e-10 6.6165254e-11 ... 4.1870909e-16\n",
      "  4.0293586e-09 4.7582782e-13]]\n"
     ]
    }
   ],
   "source": [
    "print(predictions)"
   ]
  },
  {
   "cell_type": "code",
   "execution_count": 14,
   "id": "c3c50df3",
   "metadata": {},
   "outputs": [
    {
     "name": "stdout",
     "output_type": "stream",
     "text": [
      "7\n"
     ]
    }
   ],
   "source": []
  },
  {
   "cell_type": "markdown",
   "id": "1b6aaf4b",
   "metadata": {},
   "source": [
    "#### x_test[0] is 7"
   ]
  },
  {
   "cell_type": "code",
   "execution_count": 15,
   "id": "7a8d13c1",
   "metadata": {
    "scrolled": true
   },
   "outputs": [
    {
     "data": {
      "image/png": "[encoded data removed]",
      "text/plain": [
       "<Figure size 432x288 with 1 Axes>"
      ]
     },
     "metadata": {
      "needs_background": "light"
     },
     "output_type": "display_data"
    }
   ],
   "source": [
    "plt.imshow(x_test[0])\n",
    "plt.show()"
   ]
  }
 ],
 "metadata": {
  "kernelspec": {
   "display_name": "Python 3 (ipykernel)",
   "language": "python",
   "name": "python3"
  },
  "language_info": {
   "codemirror_mode": {
    "name": "ipython",
    "version": 3
   },
   "file_extension": ".py",
   "mimetype": "text/x-python",
   "name": "python",
   "nbconvert_exporter": "python",
   "pygments_lexer": "ipython3",
   "version": "3.9.7"
  }
 },
 "nbformat": 4,
 "nbformat_minor": 5
}
