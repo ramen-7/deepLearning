{
 "cells": [
  {
   "cell_type": "code",
   "execution_count": 1,
   "id": "20f2ebfa",
   "metadata": {},
   "outputs": [],
   "source": [
    "import pandas as pd\n",
    "import numpy as np\n",
    "import matplotlib.pyplot as plt\n",
    "\n",
    "from sklearn.preprocessing import LabelEncoder, RobustScaler\n",
    "from sklearn.decomposition import PCA\n",
    "from sklearn.model_selection import train_test_split\n",
    "\n",
    "from sklearn.linear_model import LogisticRegression\n",
    "from sklearn.neural_network import MLPClassifier"
   ]
  },
  {
   "cell_type": "code",
   "execution_count": 17,
   "id": "26f6629f",
   "metadata": {},
   "outputs": [],
   "source": [
    "df = pd.read_csv('csgo_round_snapshots.csv')"
   ]
  },
  {
   "cell_type": "code",
   "execution_count": 18,
   "id": "8717333a",
   "metadata": {
    "scrolled": true
   },
   "outputs": [
    {
     "data": {
      "text/html": [
       "<div>\n",
       "<style scoped>\n",
       "    .dataframe tbody tr th:only-of-type {\n",
       "        vertical-align: middle;\n",
       "    }\n",
       "\n",
       "    .dataframe tbody tr th {\n",
       "        vertical-align: top;\n",
       "    }\n",
       "\n",
       "    .dataframe thead th {\n",
       "        text-align: right;\n",
       "    }\n",
       "</style>\n",
       "<table border=\"1\" class=\"dataframe\">\n",
       "  <thead>\n",
       "    <tr style=\"text-align: right;\">\n",
       "      <th></th>\n",
       "      <th>time_left</th>\n",
       "      <th>ct_score</th>\n",
       "      <th>t_score</th>\n",
       "      <th>map</th>\n",
       "      <th>bomb_planted</th>\n",
       "      <th>ct_health</th>\n",
       "      <th>t_health</th>\n",
       "      <th>ct_armor</th>\n",
       "      <th>t_armor</th>\n",
       "      <th>ct_money</th>\n",
       "      <th>...</th>\n",
       "      <th>t_grenade_flashbang</th>\n",
       "      <th>ct_grenade_smokegrenade</th>\n",
       "      <th>t_grenade_smokegrenade</th>\n",
       "      <th>ct_grenade_incendiarygrenade</th>\n",
       "      <th>t_grenade_incendiarygrenade</th>\n",
       "      <th>ct_grenade_molotovgrenade</th>\n",
       "      <th>t_grenade_molotovgrenade</th>\n",
       "      <th>ct_grenade_decoygrenade</th>\n",
       "      <th>t_grenade_decoygrenade</th>\n",
       "      <th>round_winner</th>\n",
       "    </tr>\n",
       "  </thead>\n",
       "  <tbody>\n",
       "    <tr>\n",
       "      <th>0</th>\n",
       "      <td>175.00</td>\n",
       "      <td>0.0</td>\n",
       "      <td>0.0</td>\n",
       "      <td>de_dust2</td>\n",
       "      <td>False</td>\n",
       "      <td>500.0</td>\n",
       "      <td>500.0</td>\n",
       "      <td>0.0</td>\n",
       "      <td>0.0</td>\n",
       "      <td>4000.0</td>\n",
       "      <td>...</td>\n",
       "      <td>0.0</td>\n",
       "      <td>0.0</td>\n",
       "      <td>0.0</td>\n",
       "      <td>0.0</td>\n",
       "      <td>0.0</td>\n",
       "      <td>0.0</td>\n",
       "      <td>0.0</td>\n",
       "      <td>0.0</td>\n",
       "      <td>0.0</td>\n",
       "      <td>CT</td>\n",
       "    </tr>\n",
       "    <tr>\n",
       "      <th>1</th>\n",
       "      <td>156.03</td>\n",
       "      <td>0.0</td>\n",
       "      <td>0.0</td>\n",
       "      <td>de_dust2</td>\n",
       "      <td>False</td>\n",
       "      <td>500.0</td>\n",
       "      <td>500.0</td>\n",
       "      <td>400.0</td>\n",
       "      <td>300.0</td>\n",
       "      <td>600.0</td>\n",
       "      <td>...</td>\n",
       "      <td>0.0</td>\n",
       "      <td>0.0</td>\n",
       "      <td>2.0</td>\n",
       "      <td>0.0</td>\n",
       "      <td>0.0</td>\n",
       "      <td>0.0</td>\n",
       "      <td>0.0</td>\n",
       "      <td>0.0</td>\n",
       "      <td>0.0</td>\n",
       "      <td>CT</td>\n",
       "    </tr>\n",
       "    <tr>\n",
       "      <th>2</th>\n",
       "      <td>96.03</td>\n",
       "      <td>0.0</td>\n",
       "      <td>0.0</td>\n",
       "      <td>de_dust2</td>\n",
       "      <td>False</td>\n",
       "      <td>391.0</td>\n",
       "      <td>400.0</td>\n",
       "      <td>294.0</td>\n",
       "      <td>200.0</td>\n",
       "      <td>750.0</td>\n",
       "      <td>...</td>\n",
       "      <td>0.0</td>\n",
       "      <td>0.0</td>\n",
       "      <td>2.0</td>\n",
       "      <td>0.0</td>\n",
       "      <td>0.0</td>\n",
       "      <td>0.0</td>\n",
       "      <td>0.0</td>\n",
       "      <td>0.0</td>\n",
       "      <td>0.0</td>\n",
       "      <td>CT</td>\n",
       "    </tr>\n",
       "    <tr>\n",
       "      <th>3</th>\n",
       "      <td>76.03</td>\n",
       "      <td>0.0</td>\n",
       "      <td>0.0</td>\n",
       "      <td>de_dust2</td>\n",
       "      <td>False</td>\n",
       "      <td>391.0</td>\n",
       "      <td>400.0</td>\n",
       "      <td>294.0</td>\n",
       "      <td>200.0</td>\n",
       "      <td>750.0</td>\n",
       "      <td>...</td>\n",
       "      <td>0.0</td>\n",
       "      <td>0.0</td>\n",
       "      <td>0.0</td>\n",
       "      <td>0.0</td>\n",
       "      <td>0.0</td>\n",
       "      <td>0.0</td>\n",
       "      <td>0.0</td>\n",
       "      <td>0.0</td>\n",
       "      <td>0.0</td>\n",
       "      <td>CT</td>\n",
       "    </tr>\n",
       "    <tr>\n",
       "      <th>4</th>\n",
       "      <td>174.97</td>\n",
       "      <td>1.0</td>\n",
       "      <td>0.0</td>\n",
       "      <td>de_dust2</td>\n",
       "      <td>False</td>\n",
       "      <td>500.0</td>\n",
       "      <td>500.0</td>\n",
       "      <td>192.0</td>\n",
       "      <td>0.0</td>\n",
       "      <td>18350.0</td>\n",
       "      <td>...</td>\n",
       "      <td>0.0</td>\n",
       "      <td>0.0</td>\n",
       "      <td>0.0</td>\n",
       "      <td>0.0</td>\n",
       "      <td>0.0</td>\n",
       "      <td>0.0</td>\n",
       "      <td>0.0</td>\n",
       "      <td>0.0</td>\n",
       "      <td>0.0</td>\n",
       "      <td>CT</td>\n",
       "    </tr>\n",
       "    <tr>\n",
       "      <th>...</th>\n",
       "      <td>...</td>\n",
       "      <td>...</td>\n",
       "      <td>...</td>\n",
       "      <td>...</td>\n",
       "      <td>...</td>\n",
       "      <td>...</td>\n",
       "      <td>...</td>\n",
       "      <td>...</td>\n",
       "      <td>...</td>\n",
       "      <td>...</td>\n",
       "      <td>...</td>\n",
       "      <td>...</td>\n",
       "      <td>...</td>\n",
       "      <td>...</td>\n",
       "      <td>...</td>\n",
       "      <td>...</td>\n",
       "      <td>...</td>\n",
       "      <td>...</td>\n",
       "      <td>...</td>\n",
       "      <td>...</td>\n",
       "      <td>...</td>\n",
       "    </tr>\n",
       "    <tr>\n",
       "      <th>122405</th>\n",
       "      <td>15.41</td>\n",
       "      <td>11.0</td>\n",
       "      <td>14.0</td>\n",
       "      <td>de_train</td>\n",
       "      <td>True</td>\n",
       "      <td>200.0</td>\n",
       "      <td>242.0</td>\n",
       "      <td>195.0</td>\n",
       "      <td>359.0</td>\n",
       "      <td>100.0</td>\n",
       "      <td>...</td>\n",
       "      <td>2.0</td>\n",
       "      <td>1.0</td>\n",
       "      <td>1.0</td>\n",
       "      <td>0.0</td>\n",
       "      <td>0.0</td>\n",
       "      <td>0.0</td>\n",
       "      <td>0.0</td>\n",
       "      <td>0.0</td>\n",
       "      <td>0.0</td>\n",
       "      <td>T</td>\n",
       "    </tr>\n",
       "    <tr>\n",
       "      <th>122406</th>\n",
       "      <td>174.93</td>\n",
       "      <td>11.0</td>\n",
       "      <td>15.0</td>\n",
       "      <td>de_train</td>\n",
       "      <td>False</td>\n",
       "      <td>500.0</td>\n",
       "      <td>500.0</td>\n",
       "      <td>95.0</td>\n",
       "      <td>175.0</td>\n",
       "      <td>11500.0</td>\n",
       "      <td>...</td>\n",
       "      <td>2.0</td>\n",
       "      <td>1.0</td>\n",
       "      <td>0.0</td>\n",
       "      <td>0.0</td>\n",
       "      <td>0.0</td>\n",
       "      <td>0.0</td>\n",
       "      <td>0.0</td>\n",
       "      <td>0.0</td>\n",
       "      <td>0.0</td>\n",
       "      <td>T</td>\n",
       "    </tr>\n",
       "    <tr>\n",
       "      <th>122407</th>\n",
       "      <td>114.93</td>\n",
       "      <td>11.0</td>\n",
       "      <td>15.0</td>\n",
       "      <td>de_train</td>\n",
       "      <td>False</td>\n",
       "      <td>500.0</td>\n",
       "      <td>500.0</td>\n",
       "      <td>495.0</td>\n",
       "      <td>475.0</td>\n",
       "      <td>1200.0</td>\n",
       "      <td>...</td>\n",
       "      <td>4.0</td>\n",
       "      <td>3.0</td>\n",
       "      <td>5.0</td>\n",
       "      <td>1.0</td>\n",
       "      <td>0.0</td>\n",
       "      <td>0.0</td>\n",
       "      <td>5.0</td>\n",
       "      <td>0.0</td>\n",
       "      <td>0.0</td>\n",
       "      <td>T</td>\n",
       "    </tr>\n",
       "    <tr>\n",
       "      <th>122408</th>\n",
       "      <td>94.93</td>\n",
       "      <td>11.0</td>\n",
       "      <td>15.0</td>\n",
       "      <td>de_train</td>\n",
       "      <td>False</td>\n",
       "      <td>500.0</td>\n",
       "      <td>500.0</td>\n",
       "      <td>495.0</td>\n",
       "      <td>475.0</td>\n",
       "      <td>1200.0</td>\n",
       "      <td>...</td>\n",
       "      <td>5.0</td>\n",
       "      <td>0.0</td>\n",
       "      <td>3.0</td>\n",
       "      <td>0.0</td>\n",
       "      <td>0.0</td>\n",
       "      <td>0.0</td>\n",
       "      <td>4.0</td>\n",
       "      <td>0.0</td>\n",
       "      <td>0.0</td>\n",
       "      <td>T</td>\n",
       "    </tr>\n",
       "    <tr>\n",
       "      <th>122409</th>\n",
       "      <td>74.93</td>\n",
       "      <td>11.0</td>\n",
       "      <td>15.0</td>\n",
       "      <td>de_train</td>\n",
       "      <td>False</td>\n",
       "      <td>375.0</td>\n",
       "      <td>479.0</td>\n",
       "      <td>395.0</td>\n",
       "      <td>466.0</td>\n",
       "      <td>1100.0</td>\n",
       "      <td>...</td>\n",
       "      <td>3.0</td>\n",
       "      <td>0.0</td>\n",
       "      <td>2.0</td>\n",
       "      <td>0.0</td>\n",
       "      <td>0.0</td>\n",
       "      <td>0.0</td>\n",
       "      <td>3.0</td>\n",
       "      <td>0.0</td>\n",
       "      <td>0.0</td>\n",
       "      <td>T</td>\n",
       "    </tr>\n",
       "  </tbody>\n",
       "</table>\n",
       "<p>122410 rows × 97 columns</p>\n",
       "</div>"
      ],
      "text/plain": [
       "        time_left  ct_score  t_score       map  bomb_planted  ct_health  \\\n",
       "0          175.00       0.0      0.0  de_dust2         False      500.0   \n",
       "1          156.03       0.0      0.0  de_dust2         False      500.0   \n",
       "2           96.03       0.0      0.0  de_dust2         False      391.0   \n",
       "3           76.03       0.0      0.0  de_dust2         False      391.0   \n",
       "4          174.97       1.0      0.0  de_dust2         False      500.0   \n",
       "...           ...       ...      ...       ...           ...        ...   \n",
       "122405      15.41      11.0     14.0  de_train          True      200.0   \n",
       "122406     174.93      11.0     15.0  de_train         False      500.0   \n",
       "122407     114.93      11.0     15.0  de_train         False      500.0   \n",
       "122408      94.93      11.0     15.0  de_train         False      500.0   \n",
       "122409      74.93      11.0     15.0  de_train         False      375.0   \n",
       "\n",
       "        t_health  ct_armor  t_armor  ct_money  ...  t_grenade_flashbang  \\\n",
       "0          500.0       0.0      0.0    4000.0  ...                  0.0   \n",
       "1          500.0     400.0    300.0     600.0  ...                  0.0   \n",
       "2          400.0     294.0    200.0     750.0  ...                  0.0   \n",
       "3          400.0     294.0    200.0     750.0  ...                  0.0   \n",
       "4          500.0     192.0      0.0   18350.0  ...                  0.0   \n",
       "...          ...       ...      ...       ...  ...                  ...   \n",
       "122405     242.0     195.0    359.0     100.0  ...                  2.0   \n",
       "122406     500.0      95.0    175.0   11500.0  ...                  2.0   \n",
       "122407     500.0     495.0    475.0    1200.0  ...                  4.0   \n",
       "122408     500.0     495.0    475.0    1200.0  ...                  5.0   \n",
       "122409     479.0     395.0    466.0    1100.0  ...                  3.0   \n",
       "\n",
       "        ct_grenade_smokegrenade  t_grenade_smokegrenade  \\\n",
       "0                           0.0                     0.0   \n",
       "1                           0.0                     2.0   \n",
       "2                           0.0                     2.0   \n",
       "3                           0.0                     0.0   \n",
       "4                           0.0                     0.0   \n",
       "...                         ...                     ...   \n",
       "122405                      1.0                     1.0   \n",
       "122406                      1.0                     0.0   \n",
       "122407                      3.0                     5.0   \n",
       "122408                      0.0                     3.0   \n",
       "122409                      0.0                     2.0   \n",
       "\n",
       "        ct_grenade_incendiarygrenade  t_grenade_incendiarygrenade  \\\n",
       "0                                0.0                          0.0   \n",
       "1                                0.0                          0.0   \n",
       "2                                0.0                          0.0   \n",
       "3                                0.0                          0.0   \n",
       "4                                0.0                          0.0   \n",
       "...                              ...                          ...   \n",
       "122405                           0.0                          0.0   \n",
       "122406                           0.0                          0.0   \n",
       "122407                           1.0                          0.0   \n",
       "122408                           0.0                          0.0   \n",
       "122409                           0.0                          0.0   \n",
       "\n",
       "        ct_grenade_molotovgrenade  t_grenade_molotovgrenade  \\\n",
       "0                             0.0                       0.0   \n",
       "1                             0.0                       0.0   \n",
       "2                             0.0                       0.0   \n",
       "3                             0.0                       0.0   \n",
       "4                             0.0                       0.0   \n",
       "...                           ...                       ...   \n",
       "122405                        0.0                       0.0   \n",
       "122406                        0.0                       0.0   \n",
       "122407                        0.0                       5.0   \n",
       "122408                        0.0                       4.0   \n",
       "122409                        0.0                       3.0   \n",
       "\n",
       "        ct_grenade_decoygrenade  t_grenade_decoygrenade  round_winner  \n",
       "0                           0.0                     0.0            CT  \n",
       "1                           0.0                     0.0            CT  \n",
       "2                           0.0                     0.0            CT  \n",
       "3                           0.0                     0.0            CT  \n",
       "4                           0.0                     0.0            CT  \n",
       "...                         ...                     ...           ...  \n",
       "122405                      0.0                     0.0             T  \n",
       "122406                      0.0                     0.0             T  \n",
       "122407                      0.0                     0.0             T  \n",
       "122408                      0.0                     0.0             T  \n",
       "122409                      0.0                     0.0             T  \n",
       "\n",
       "[122410 rows x 97 columns]"
      ]
     },
     "execution_count": 18,
     "metadata": {},
     "output_type": "execute_result"
    }
   ],
   "source": [
    "df"
   ]
  },
  {
   "cell_type": "markdown",
   "id": "6f17062c",
   "metadata": {},
   "source": [
    "## Exploratory Data Analysis"
   ]
  },
  {
   "cell_type": "code",
   "execution_count": 19,
   "id": "6dcd9eac",
   "metadata": {},
   "outputs": [
    {
     "data": {
      "text/plain": [
       "time_left                    0\n",
       "ct_score                     0\n",
       "t_score                      0\n",
       "map                          0\n",
       "bomb_planted                 0\n",
       "                            ..\n",
       "ct_grenade_molotovgrenade    0\n",
       "t_grenade_molotovgrenade     0\n",
       "ct_grenade_decoygrenade      0\n",
       "t_grenade_decoygrenade       0\n",
       "round_winner                 0\n",
       "Length: 97, dtype: int64"
      ]
     },
     "execution_count": 19,
     "metadata": {},
     "output_type": "execute_result"
    }
   ],
   "source": [
    "df.isna().sum()"
   ]
  },
  {
   "cell_type": "code",
   "execution_count": 20,
   "id": "f1b5b522",
   "metadata": {
    "scrolled": true
   },
   "outputs": [
    {
     "name": "stdout",
     "output_type": "stream",
     "text": [
      "<class 'pandas.core.frame.DataFrame'>\n",
      "RangeIndex: 122410 entries, 0 to 122409\n",
      "Data columns (total 97 columns):\n",
      " #   Column                        Non-Null Count   Dtype  \n",
      "---  ------                        --------------   -----  \n",
      " 0   time_left                     122410 non-null  float64\n",
      " 1   ct_score                      122410 non-null  float64\n",
      " 2   t_score                       122410 non-null  float64\n",
      " 3   map                           122410 non-null  object \n",
      " 4   bomb_planted                  122410 non-null  bool   \n",
      " 5   ct_health                     122410 non-null  float64\n",
      " 6   t_health                      122410 non-null  float64\n",
      " 7   ct_armor                      122410 non-null  float64\n",
      " 8   t_armor                       122410 non-null  float64\n",
      " 9   ct_money                      122410 non-null  float64\n",
      " 10  t_money                       122410 non-null  float64\n",
      " 11  ct_helmets                    122410 non-null  float64\n",
      " 12  t_helmets                     122410 non-null  float64\n",
      " 13  ct_defuse_kits                122410 non-null  float64\n",
      " 14  ct_players_alive              122410 non-null  float64\n",
      " 15  t_players_alive               122410 non-null  float64\n",
      " 16  ct_weapon_ak47                122410 non-null  float64\n",
      " 17  t_weapon_ak47                 122410 non-null  float64\n",
      " 18  ct_weapon_aug                 122410 non-null  float64\n",
      " 19  t_weapon_aug                  122410 non-null  float64\n",
      " 20  ct_weapon_awp                 122410 non-null  float64\n",
      " 21  t_weapon_awp                  122410 non-null  float64\n",
      " 22  ct_weapon_bizon               122410 non-null  float64\n",
      " 23  t_weapon_bizon                122410 non-null  float64\n",
      " 24  ct_weapon_cz75auto            122410 non-null  float64\n",
      " 25  t_weapon_cz75auto             122410 non-null  float64\n",
      " 26  ct_weapon_elite               122410 non-null  float64\n",
      " 27  t_weapon_elite                122410 non-null  float64\n",
      " 28  ct_weapon_famas               122410 non-null  float64\n",
      " 29  t_weapon_famas                122410 non-null  float64\n",
      " 30  ct_weapon_g3sg1               122410 non-null  float64\n",
      " 31  t_weapon_g3sg1                122410 non-null  float64\n",
      " 32  ct_weapon_galilar             122410 non-null  float64\n",
      " 33  t_weapon_galilar              122410 non-null  float64\n",
      " 34  ct_weapon_glock               122410 non-null  float64\n",
      " 35  t_weapon_glock                122410 non-null  float64\n",
      " 36  ct_weapon_m249                122410 non-null  float64\n",
      " 37  t_weapon_m249                 122410 non-null  float64\n",
      " 38  ct_weapon_m4a1s               122410 non-null  float64\n",
      " 39  t_weapon_m4a1s                122410 non-null  float64\n",
      " 40  ct_weapon_m4a4                122410 non-null  float64\n",
      " 41  t_weapon_m4a4                 122410 non-null  float64\n",
      " 42  ct_weapon_mac10               122410 non-null  float64\n",
      " 43  t_weapon_mac10                122410 non-null  float64\n",
      " 44  ct_weapon_mag7                122410 non-null  float64\n",
      " 45  t_weapon_mag7                 122410 non-null  float64\n",
      " 46  ct_weapon_mp5sd               122410 non-null  float64\n",
      " 47  t_weapon_mp5sd                122410 non-null  float64\n",
      " 48  ct_weapon_mp7                 122410 non-null  float64\n",
      " 49  t_weapon_mp7                  122410 non-null  float64\n",
      " 50  ct_weapon_mp9                 122410 non-null  float64\n",
      " 51  t_weapon_mp9                  122410 non-null  float64\n",
      " 52  ct_weapon_negev               122410 non-null  float64\n",
      " 53  t_weapon_negev                122410 non-null  float64\n",
      " 54  ct_weapon_nova                122410 non-null  float64\n",
      " 55  t_weapon_nova                 122410 non-null  float64\n",
      " 56  ct_weapon_p90                 122410 non-null  float64\n",
      " 57  t_weapon_p90                  122410 non-null  float64\n",
      " 58  ct_weapon_r8revolver          122410 non-null  float64\n",
      " 59  t_weapon_r8revolver           122410 non-null  float64\n",
      " 60  ct_weapon_sawedoff            122410 non-null  float64\n",
      " 61  t_weapon_sawedoff             122410 non-null  float64\n",
      " 62  ct_weapon_scar20              122410 non-null  float64\n",
      " 63  t_weapon_scar20               122410 non-null  float64\n",
      " 64  ct_weapon_sg553               122410 non-null  float64\n",
      " 65  t_weapon_sg553                122410 non-null  float64\n",
      " 66  ct_weapon_ssg08               122410 non-null  float64\n",
      " 67  t_weapon_ssg08                122410 non-null  float64\n",
      " 68  ct_weapon_ump45               122410 non-null  float64\n",
      " 69  t_weapon_ump45                122410 non-null  float64\n",
      " 70  ct_weapon_xm1014              122410 non-null  float64\n",
      " 71  t_weapon_xm1014               122410 non-null  float64\n",
      " 72  ct_weapon_deagle              122410 non-null  float64\n",
      " 73  t_weapon_deagle               122410 non-null  float64\n",
      " 74  ct_weapon_fiveseven           122410 non-null  float64\n",
      " 75  t_weapon_fiveseven            122410 non-null  float64\n",
      " 76  ct_weapon_usps                122410 non-null  float64\n",
      " 77  t_weapon_usps                 122410 non-null  float64\n",
      " 78  ct_weapon_p250                122410 non-null  float64\n",
      " 79  t_weapon_p250                 122410 non-null  float64\n",
      " 80  ct_weapon_p2000               122410 non-null  float64\n",
      " 81  t_weapon_p2000                122410 non-null  float64\n",
      " 82  ct_weapon_tec9                122410 non-null  float64\n",
      " 83  t_weapon_tec9                 122410 non-null  float64\n",
      " 84  ct_grenade_hegrenade          122410 non-null  float64\n",
      " 85  t_grenade_hegrenade           122410 non-null  float64\n",
      " 86  ct_grenade_flashbang          122410 non-null  float64\n",
      " 87  t_grenade_flashbang           122410 non-null  float64\n",
      " 88  ct_grenade_smokegrenade       122410 non-null  float64\n",
      " 89  t_grenade_smokegrenade        122410 non-null  float64\n",
      " 90  ct_grenade_incendiarygrenade  122410 non-null  float64\n",
      " 91  t_grenade_incendiarygrenade   122410 non-null  float64\n",
      " 92  ct_grenade_molotovgrenade     122410 non-null  float64\n",
      " 93  t_grenade_molotovgrenade      122410 non-null  float64\n",
      " 94  ct_grenade_decoygrenade       122410 non-null  float64\n",
      " 95  t_grenade_decoygrenade        122410 non-null  float64\n",
      " 96  round_winner                  122410 non-null  object \n",
      "dtypes: bool(1), float64(94), object(2)\n",
      "memory usage: 89.8+ MB\n"
     ]
    }
   ],
   "source": [
    "df.info()"
   ]
  },
  {
   "cell_type": "code",
   "execution_count": 21,
   "id": "1533384f",
   "metadata": {},
   "outputs": [],
   "source": [
    "df.bomb_planted = df.bomb_planted.astype(np.float64)"
   ]
  },
  {
   "cell_type": "code",
   "execution_count": 22,
   "id": "453ff1eb",
   "metadata": {},
   "outputs": [],
   "source": [
    "le = LabelEncoder()\n",
    "df.map = le.fit_transform(df.map)"
   ]
  },
  {
   "cell_type": "code",
   "execution_count": 30,
   "id": "072b4df4",
   "metadata": {},
   "outputs": [],
   "source": [
    "df.round_winner = le.fit_transform(df.round_winner)"
   ]
  },
  {
   "cell_type": "code",
   "execution_count": 81,
   "id": "b9526260",
   "metadata": {},
   "outputs": [],
   "source": [
    "X = df.drop(['round_winner'], axis=1)"
   ]
  },
  {
   "cell_type": "code",
   "execution_count": 32,
   "id": "c8a8668f",
   "metadata": {},
   "outputs": [],
   "source": [
    "y = df.round_winner"
   ]
  },
  {
   "cell_type": "code",
   "execution_count": 24,
   "id": "05739d3a",
   "metadata": {},
   "outputs": [],
   "source": [
    "import seaborn as sns"
   ]
  },
  {
   "cell_type": "code",
   "execution_count": 33,
   "id": "ae0df121",
   "metadata": {
    "scrolled": false
   },
   "outputs": [
    {
     "data": {
      "text/plain": [
       "<AxesSubplot:>"
      ]
     },
     "execution_count": 33,
     "metadata": {},
     "output_type": "execute_result"
    },
    {
     "data": {
      "image/png": "[encoded data removed]",
      "text/plain": [
       "<Figure size 432x288 with 2 Axes>"
      ]
     },
     "metadata": {
      "needs_background": "light"
     },
     "output_type": "display_data"
    }
   ],
   "source": [
    "sns.heatmap(X.corr())"
   ]
  },
  {
   "cell_type": "code",
   "execution_count": 83,
   "id": "a52fbc55",
   "metadata": {},
   "outputs": [],
   "source": [
    "rs = RobustScaler()\n",
    "X = rs.fit_transform(X)"
   ]
  },
  {
   "cell_type": "code",
   "execution_count": 84,
   "id": "e2792ec0",
   "metadata": {
    "scrolled": true
   },
   "outputs": [
    {
     "data": {
      "text/plain": [
       "PCA(n_components=96)"
      ]
     },
     "execution_count": 84,
     "metadata": {},
     "output_type": "execute_result"
    }
   ],
   "source": [
    "pca = PCA(n_components=96)\n",
    "pca.fit(X)"
   ]
  },
  {
   "cell_type": "code",
   "execution_count": 47,
   "id": "e1526be5",
   "metadata": {},
   "outputs": [
    {
     "data": {
      "text/plain": [
       "array([2.41692537e-01, 1.22452193e-01, 9.70485547e-02, 5.19765524e-02,\n",
       "       4.44841077e-02, 4.02770527e-02, 3.60841630e-02, 3.52728682e-02,\n",
       "       2.67764081e-02, 2.44497169e-02, 2.04646466e-02, 1.79740056e-02,\n",
       "       1.55168485e-02, 1.47917126e-02, 1.42711979e-02, 1.30740553e-02,\n",
       "       1.24574070e-02, 1.19376720e-02, 1.10480127e-02, 1.03287101e-02,\n",
       "       9.88532422e-03, 9.03168607e-03, 8.52502240e-03, 8.47584699e-03,\n",
       "       7.73008304e-03, 6.79341902e-03, 6.60439673e-03, 6.24323964e-03,\n",
       "       5.93567991e-03, 5.73007129e-03, 5.35247264e-03, 4.00462889e-03,\n",
       "       3.89698962e-03, 3.45429363e-03, 3.29063875e-03, 3.14738676e-03,\n",
       "       2.89224630e-03, 2.73424911e-03, 2.67180608e-03, 2.54714631e-03,\n",
       "       2.51231332e-03, 2.37105851e-03, 2.32240981e-03, 2.13782781e-03,\n",
       "       1.92297678e-03, 1.73216950e-03, 1.66688624e-03, 1.31453371e-03,\n",
       "       1.26461871e-03, 1.20488990e-03, 1.17620851e-03, 1.10075710e-03,\n",
       "       1.01026643e-03, 9.12115938e-04, 7.87042171e-04, 5.53660030e-04,\n",
       "       4.78185938e-04, 4.39074387e-04, 3.92838128e-04, 3.84449981e-04,\n",
       "       3.56662768e-04, 3.37386961e-04, 3.06782370e-04, 2.69128809e-04,\n",
       "       2.63902037e-04, 2.16409097e-04, 2.02447336e-04, 1.92058194e-04,\n",
       "       1.29855704e-04, 1.25861934e-04, 9.46600806e-05, 8.89335231e-05,\n",
       "       8.81931384e-05, 6.56215906e-05, 6.21088893e-05, 4.42952052e-05,\n",
       "       3.67802830e-05, 3.25817015e-05, 2.98516322e-05, 1.18797922e-05,\n",
       "       7.42985104e-06, 7.06003845e-06, 6.32315960e-06, 4.82473435e-06,\n",
       "       3.68773612e-06, 2.59394683e-06, 2.23009456e-06, 3.72461493e-07,\n",
       "       3.72366837e-07, 3.72318578e-07, 1.21987224e-33, 1.02905260e-33,\n",
       "       1.02905260e-33, 1.02905260e-33, 1.02905260e-33, 1.02905260e-33])"
      ]
     },
     "execution_count": 47,
     "metadata": {},
     "output_type": "execute_result"
    }
   ],
   "source": [
    "pca.explained_variance_ratio_"
   ]
  },
  {
   "cell_type": "code",
   "execution_count": 48,
   "id": "aac01dd8",
   "metadata": {},
   "outputs": [
    {
     "data": {
      "image/png": "[encoded data removed]",
      "text/plain": [
       "<Figure size 1080x720 with 1 Axes>"
      ]
     },
     "metadata": {
      "needs_background": "light"
     },
     "output_type": "display_data"
    }
   ],
   "source": [
    "plt.figure(figsize=(15, 10))\n",
    "plt.hist(pca.explained_variance_ratio_, bins=96)\n",
    "plt.show()"
   ]
  },
  {
   "cell_type": "code",
   "execution_count": 53,
   "id": "35457f16",
   "metadata": {},
   "outputs": [],
   "source": [
    "def getKComponents(pca, alpha):\n",
    "    total_variance = 0\n",
    "    \n",
    "    for feature, variance in enumerate(pca.explained_variance_ratio_):\n",
    "        total_variance += variance\n",
    "        if(total_variance >= 1 - alpha):\n",
    "            return feature+1\n",
    "    return len(pca.explained_variance_ratio_)"
   ]
  },
  {
   "cell_type": "code",
   "execution_count": 56,
   "id": "ba96b38e",
   "metadata": {},
   "outputs": [],
   "source": [
    "K = getKComponents(pca, 0.1)"
   ]
  },
  {
   "cell_type": "code",
   "execution_count": 58,
   "id": "12678ee4",
   "metadata": {},
   "outputs": [],
   "source": [
    "X = pca.transform(X)[:, 0:K]\n",
    "X_pca = pd.DataFrame(X)"
   ]
  },
  {
   "cell_type": "code",
   "execution_count": 70,
   "id": "4f2d42e8",
   "metadata": {},
   "outputs": [],
   "source": [
    "X_train, X_test, y_train, y_test = train_test_split(X_pca, y, test_size=0.2)"
   ]
  },
  {
   "cell_type": "code",
   "execution_count": 71,
   "id": "20ab7fbb",
   "metadata": {
    "scrolled": true
   },
   "outputs": [
    {
     "name": "stderr",
     "output_type": "stream",
     "text": [
      "[Parallel(n_jobs=1)]: Using backend SequentialBackend with 1 concurrent workers.\n",
      "[Parallel(n_jobs=1)]: Done   1 out of   1 | elapsed:    0.1s finished\n"
     ]
    },
    {
     "name": "stdout",
     "output_type": "stream",
     "text": [
      "Iteration 1, loss = 0.49491566\n",
      "Iteration 2, loss = 0.46618228\n",
      "Iteration 3, loss = 0.46143835\n",
      "Iteration 4, loss = 0.45867083\n",
      "Iteration 5, loss = 0.45649978\n",
      "Iteration 6, loss = 0.45441258\n",
      "Iteration 7, loss = 0.45303737\n",
      "Iteration 8, loss = 0.45146232\n",
      "Iteration 9, loss = 0.45032651\n",
      "Iteration 10, loss = 0.44899014\n",
      "Iteration 11, loss = 0.44808188\n",
      "Iteration 12, loss = 0.44682476\n",
      "Iteration 13, loss = 0.44608698\n",
      "Iteration 14, loss = 0.44486417\n",
      "Iteration 15, loss = 0.44422390\n",
      "Iteration 16, loss = 0.44314945\n",
      "Iteration 17, loss = 0.44241181\n",
      "Iteration 18, loss = 0.44149019\n",
      "Iteration 19, loss = 0.44068118\n",
      "Iteration 20, loss = 0.44010821\n",
      "Iteration 21, loss = 0.43905143\n",
      "Iteration 22, loss = 0.43783266\n",
      "Iteration 23, loss = 0.43727200\n",
      "Iteration 24, loss = 0.43649353\n",
      "Iteration 25, loss = 0.43608721\n",
      "Iteration 26, loss = 0.43503072\n",
      "Iteration 27, loss = 0.43427925\n",
      "Iteration 28, loss = 0.43340811\n",
      "Iteration 29, loss = 0.43309553\n",
      "Iteration 30, loss = 0.43207141\n",
      "Iteration 31, loss = 0.43171575\n",
      "Iteration 32, loss = 0.43096964\n",
      "Iteration 33, loss = 0.43042270\n",
      "Iteration 34, loss = 0.42979477\n",
      "Iteration 35, loss = 0.42906212\n",
      "Iteration 36, loss = 0.42896385\n",
      "Iteration 37, loss = 0.42813910\n",
      "Iteration 38, loss = 0.42733100\n",
      "Iteration 39, loss = 0.42733552\n",
      "Iteration 40, loss = 0.42665596\n",
      "Iteration 41, loss = 0.42612102\n",
      "Iteration 42, loss = 0.42587548\n",
      "Iteration 43, loss = 0.42547363\n",
      "Iteration 44, loss = 0.42518360\n",
      "Iteration 45, loss = 0.42484336\n",
      "Iteration 46, loss = 0.42399175\n",
      "Iteration 47, loss = 0.42402734\n",
      "Iteration 48, loss = 0.42329442\n",
      "Iteration 49, loss = 0.42312806\n",
      "Iteration 50, loss = 0.42318107\n",
      "Iteration 51, loss = 0.42250678\n",
      "Iteration 52, loss = 0.42205357\n",
      "Iteration 53, loss = 0.42164865\n",
      "Iteration 54, loss = 0.42171165\n",
      "Iteration 55, loss = 0.42080485\n",
      "Iteration 56, loss = 0.42096683\n",
      "Iteration 57, loss = 0.42064008\n",
      "Iteration 58, loss = 0.42020194\n",
      "Iteration 59, loss = 0.42003475\n",
      "Iteration 60, loss = 0.41987188\n",
      "Iteration 61, loss = 0.41947043\n",
      "Iteration 62, loss = 0.41929748\n",
      "Iteration 63, loss = 0.41895827\n",
      "Iteration 64, loss = 0.41899935\n",
      "Iteration 65, loss = 0.41845672\n",
      "Iteration 66, loss = 0.41815794\n",
      "Iteration 67, loss = 0.41801412\n",
      "Iteration 68, loss = 0.41781936\n",
      "Iteration 69, loss = 0.41748884\n",
      "Iteration 70, loss = 0.41748855\n",
      "Iteration 71, loss = 0.41719368\n",
      "Iteration 72, loss = 0.41731084\n",
      "Iteration 73, loss = 0.41670410\n",
      "Iteration 74, loss = 0.41672833\n",
      "Iteration 75, loss = 0.41608904\n",
      "Iteration 76, loss = 0.41598844\n",
      "Iteration 77, loss = 0.41575559\n",
      "Iteration 78, loss = 0.41586917\n",
      "Iteration 79, loss = 0.41537360\n",
      "Iteration 80, loss = 0.41540428\n",
      "Iteration 81, loss = 0.41495421\n",
      "Iteration 82, loss = 0.41513890\n",
      "Iteration 83, loss = 0.41499794\n",
      "Iteration 84, loss = 0.41466448\n",
      "Iteration 85, loss = 0.41431945\n",
      "Iteration 86, loss = 0.41422844\n",
      "Iteration 87, loss = 0.41405358\n",
      "Iteration 88, loss = 0.41407736\n",
      "Iteration 89, loss = 0.41332313\n",
      "Iteration 90, loss = 0.41355868\n",
      "Iteration 91, loss = 0.41337500\n",
      "Iteration 92, loss = 0.41347274\n",
      "Iteration 93, loss = 0.41324611\n",
      "Iteration 94, loss = 0.41320153\n",
      "Iteration 95, loss = 0.41281138\n",
      "Iteration 96, loss = 0.41275844\n",
      "Iteration 97, loss = 0.41263853\n",
      "Iteration 98, loss = 0.41296020\n",
      "Iteration 99, loss = 0.41221669\n",
      "Iteration 100, loss = 0.41202344\n",
      "Iteration 101, loss = 0.41221169\n",
      "Iteration 102, loss = 0.41206362\n",
      "Iteration 103, loss = 0.41172251\n",
      "Iteration 104, loss = 0.41163353\n",
      "Iteration 105, loss = 0.41151112\n",
      "Iteration 106, loss = 0.41108078\n",
      "Iteration 107, loss = 0.41131579\n",
      "Iteration 108, loss = 0.41173270\n",
      "Iteration 109, loss = 0.41092310\n",
      "Iteration 110, loss = 0.41112447\n",
      "Iteration 111, loss = 0.41101842\n",
      "Iteration 112, loss = 0.41056319\n",
      "Iteration 113, loss = 0.41066367\n",
      "Iteration 114, loss = 0.41033093\n",
      "Iteration 115, loss = 0.41010043\n",
      "Iteration 116, loss = 0.41050687\n",
      "Iteration 117, loss = 0.41019134\n",
      "Iteration 118, loss = 0.40976739\n",
      "Iteration 119, loss = 0.41000417\n",
      "Iteration 120, loss = 0.40968985\n",
      "Iteration 121, loss = 0.40946080\n",
      "Iteration 122, loss = 0.40954589\n",
      "Iteration 123, loss = 0.40956727\n",
      "Iteration 124, loss = 0.40931386\n",
      "Iteration 125, loss = 0.40947138\n",
      "Iteration 126, loss = 0.40884029\n",
      "Iteration 127, loss = 0.40915563\n",
      "Iteration 128, loss = 0.40864163\n",
      "Iteration 129, loss = 0.40924276\n",
      "Iteration 130, loss = 0.40850881\n",
      "Iteration 131, loss = 0.40876802\n",
      "Iteration 132, loss = 0.40815354\n",
      "Iteration 133, loss = 0.40861064\n",
      "Iteration 134, loss = 0.40853805\n",
      "Iteration 135, loss = 0.40861962\n",
      "Iteration 136, loss = 0.40837293\n",
      "Iteration 137, loss = 0.40816025\n",
      "Iteration 138, loss = 0.40793063\n",
      "Iteration 139, loss = 0.40773862\n",
      "Iteration 140, loss = 0.40792309\n",
      "Iteration 141, loss = 0.40745409\n",
      "Iteration 142, loss = 0.40772686\n",
      "Iteration 143, loss = 0.40796301\n",
      "Iteration 144, loss = 0.40735108\n",
      "Iteration 145, loss = 0.40750227\n",
      "Iteration 146, loss = 0.40717106\n",
      "Iteration 147, loss = 0.40740509\n",
      "Iteration 148, loss = 0.40761716\n",
      "Iteration 149, loss = 0.40719395\n",
      "Iteration 150, loss = 0.40754870\n",
      "Iteration 151, loss = 0.40707407\n",
      "Iteration 152, loss = 0.40704750\n",
      "Iteration 153, loss = 0.40712951\n",
      "Iteration 154, loss = 0.40707495\n",
      "Iteration 155, loss = 0.40666838\n",
      "Iteration 156, loss = 0.40658192\n",
      "Iteration 157, loss = 0.40690003\n",
      "Iteration 158, loss = 0.40653386\n",
      "Iteration 159, loss = 0.40664029\n",
      "Iteration 160, loss = 0.40693487\n",
      "Iteration 161, loss = 0.40665094\n",
      "Iteration 162, loss = 0.40642734\n",
      "Iteration 163, loss = 0.40629930\n",
      "Iteration 164, loss = 0.40646880\n",
      "Iteration 165, loss = 0.40622822\n",
      "Iteration 166, loss = 0.40687230\n",
      "Iteration 167, loss = 0.40610016\n",
      "Iteration 168, loss = 0.40599061\n",
      "Iteration 169, loss = 0.40609504\n",
      "Iteration 170, loss = 0.40588466\n",
      "Iteration 171, loss = 0.40584180\n",
      "Iteration 172, loss = 0.40602976\n",
      "Iteration 173, loss = 0.40560717\n",
      "Iteration 174, loss = 0.40585839\n",
      "Iteration 175, loss = 0.40562436\n",
      "Iteration 176, loss = 0.40598092\n",
      "Iteration 177, loss = 0.40559343\n",
      "Iteration 178, loss = 0.40564202\n",
      "Iteration 179, loss = 0.40568692\n",
      "Iteration 180, loss = 0.40508849\n",
      "Iteration 181, loss = 0.40531770\n",
      "Iteration 182, loss = 0.40540656\n",
      "Iteration 183, loss = 0.40550508\n",
      "Iteration 184, loss = 0.40512159\n",
      "Iteration 185, loss = 0.40473025\n",
      "Iteration 186, loss = 0.40493103\n",
      "Iteration 187, loss = 0.40515322\n",
      "Iteration 188, loss = 0.40531043\n",
      "Iteration 189, loss = 0.40465604\n",
      "Iteration 190, loss = 0.40511301\n",
      "Iteration 191, loss = 0.40484186\n",
      "Iteration 192, loss = 0.40471637\n",
      "Iteration 193, loss = 0.40455977\n",
      "Iteration 194, loss = 0.40432968\n",
      "Iteration 195, loss = 0.40499341\n",
      "Iteration 196, loss = 0.40451482\n",
      "Iteration 197, loss = 0.40481234\n",
      "Iteration 198, loss = 0.40487229\n",
      "Iteration 199, loss = 0.40426835\n",
      "Iteration 200, loss = 0.40410863\n"
     ]
    },
    {
     "name": "stderr",
     "output_type": "stream",
     "text": [
      "C:\\ProgramData\\Anaconda3\\lib\\site-packages\\sklearn\\neural_network\\_multilayer_perceptron.py:614: ConvergenceWarning: Stochastic Optimizer: Maximum iterations (200) reached and the optimization hasn't converged yet.\n",
      "  warnings.warn(\n"
     ]
    },
    {
     "data": {
      "text/plain": [
       "MLPClassifier(verbose=True)"
      ]
     },
     "execution_count": 71,
     "metadata": {},
     "output_type": "execute_result"
    }
   ],
   "source": [
    "LR = LogisticRegression(verbose=True)\n",
    "MLPC = MLPClassifier(verbose=True)\n",
    "\n",
    "LR.fit(X_train, y_train)\n",
    "MLPC.fit(X_train, y_train)"
   ]
  },
  {
   "cell_type": "code",
   "execution_count": 72,
   "id": "4d3206ef",
   "metadata": {
    "scrolled": false
   },
   "outputs": [
    {
     "name": "stdout",
     "output_type": "stream",
     "text": [
      "0.7445061677967486\n",
      "0.7694632791438608\n"
     ]
    }
   ],
   "source": [
    "print(LR.score(X_test, y_test))\n",
    "print(MLPC.score(X_test, y_test))"
   ]
  },
  {
   "cell_type": "markdown",
   "id": "32b84b3f",
   "metadata": {},
   "source": [
    "## Predicting the outcome of a round with ~77% accuracy"
   ]
  },
  {
   "cell_type": "markdown",
   "id": "ac65bb34",
   "metadata": {},
   "source": [
    "## Trying to find the model which gives the best accuracy"
   ]
  },
  {
   "cell_type": "code",
   "execution_count": 68,
   "id": "852e3c41",
   "metadata": {},
   "outputs": [],
   "source": [
    "alphas = np.arange(0.01, 0.21, 0.01)"
   ]
  },
  {
   "cell_type": "code",
   "execution_count": 85,
   "id": "1ab3223d",
   "metadata": {},
   "outputs": [
    {
     "name": "stderr",
     "output_type": "stream",
     "text": [
      "C:\\ProgramData\\Anaconda3\\lib\\site-packages\\sklearn\\neural_network\\_multilayer_perceptron.py:614: ConvergenceWarning: Stochastic Optimizer: Maximum iterations (200) reached and the optimization hasn't converged yet.\n",
      "  warnings.warn(\n"
     ]
    },
    {
     "name": "stdout",
     "output_type": "stream",
     "text": [
      "For alpha = 0.01\n",
      "Logistic Regression Score: 0.7489175720937832\n",
      "MLPC Score: 0.7922555346785394\n",
      "-----------\n"
     ]
    },
    {
     "name": "stderr",
     "output_type": "stream",
     "text": [
      "C:\\ProgramData\\Anaconda3\\lib\\site-packages\\sklearn\\neural_network\\_multilayer_perceptron.py:614: ConvergenceWarning: Stochastic Optimizer: Maximum iterations (200) reached and the optimization hasn't converged yet.\n",
      "  warnings.warn(\n"
     ]
    },
    {
     "name": "stdout",
     "output_type": "stream",
     "text": [
      "For alpha = 0.02\n",
      "Logistic Regression Score: 0.7463034065844294\n",
      "MLPC Score: 0.7871905890041663\n",
      "-----------\n"
     ]
    },
    {
     "name": "stderr",
     "output_type": "stream",
     "text": [
      "C:\\ProgramData\\Anaconda3\\lib\\site-packages\\sklearn\\neural_network\\_multilayer_perceptron.py:614: ConvergenceWarning: Stochastic Optimizer: Maximum iterations (200) reached and the optimization hasn't converged yet.\n",
      "  warnings.warn(\n"
     ]
    },
    {
     "name": "stdout",
     "output_type": "stream",
     "text": [
      "For alpha = 0.03\n",
      "Logistic Regression Score: 0.748345723388612\n",
      "MLPC Score: 0.7836369577648885\n",
      "-----------\n"
     ]
    },
    {
     "name": "stderr",
     "output_type": "stream",
     "text": [
      "C:\\ProgramData\\Anaconda3\\lib\\site-packages\\sklearn\\neural_network\\_multilayer_perceptron.py:614: ConvergenceWarning: Stochastic Optimizer: Maximum iterations (200) reached and the optimization hasn't converged yet.\n",
      "  warnings.warn(\n"
     ]
    },
    {
     "name": "stdout",
     "output_type": "stream",
     "text": [
      "For alpha = 0.04\n",
      "Logistic Regression Score: 0.7485908014051139\n",
      "MLPC Score: 0.7863328159464096\n",
      "-----------\n"
     ]
    },
    {
     "name": "stderr",
     "output_type": "stream",
     "text": [
      "C:\\ProgramData\\Anaconda3\\lib\\site-packages\\sklearn\\neural_network\\_multilayer_perceptron.py:614: ConvergenceWarning: Stochastic Optimizer: Maximum iterations (200) reached and the optimization hasn't converged yet.\n",
      "  warnings.warn(\n"
     ]
    },
    {
     "name": "stdout",
     "output_type": "stream",
     "text": [
      "For alpha = 0.05\n",
      "Logistic Regression Score: 0.7418511559513111\n",
      "MLPC Score: 0.7792255534678539\n",
      "-----------\n"
     ]
    },
    {
     "name": "stderr",
     "output_type": "stream",
     "text": [
      "C:\\ProgramData\\Anaconda3\\lib\\site-packages\\sklearn\\neural_network\\_multilayer_perceptron.py:614: ConvergenceWarning: Stochastic Optimizer: Maximum iterations (200) reached and the optimization hasn't converged yet.\n",
      "  warnings.warn(\n"
     ]
    },
    {
     "name": "stdout",
     "output_type": "stream",
     "text": [
      "For alpha = 0.060000000000000005\n",
      "Logistic Regression Score: 0.7431582387059881\n",
      "MLPC Score: 0.7777550853688424\n",
      "-----------\n"
     ]
    },
    {
     "name": "stderr",
     "output_type": "stream",
     "text": [
      "C:\\ProgramData\\Anaconda3\\lib\\site-packages\\sklearn\\neural_network\\_multilayer_perceptron.py:614: ConvergenceWarning: Stochastic Optimizer: Maximum iterations (200) reached and the optimization hasn't converged yet.\n",
      "  warnings.warn(\n"
     ]
    },
    {
     "name": "stdout",
     "output_type": "stream",
     "text": [
      "For alpha = 0.06999999999999999\n",
      "Logistic Regression Score: 0.7449554774936689\n",
      "MLPC Score: 0.7745690711543175\n",
      "-----------\n"
     ]
    },
    {
     "name": "stderr",
     "output_type": "stream",
     "text": [
      "C:\\ProgramData\\Anaconda3\\lib\\site-packages\\sklearn\\neural_network\\_multilayer_perceptron.py:614: ConvergenceWarning: Stochastic Optimizer: Maximum iterations (200) reached and the optimization hasn't converged yet.\n",
      "  warnings.warn(\n"
     ]
    },
    {
     "name": "stdout",
     "output_type": "stream",
     "text": [
      "For alpha = 0.08\n",
      "Logistic Regression Score: 0.7432807777142391\n",
      "MLPC Score: 0.7759986929172453\n",
      "-----------\n",
      "For alpha = 0.09\n",
      "Logistic Regression Score: 0.7488767257576995\n",
      "MLPC Score: 0.7695041254799444\n",
      "-----------\n"
     ]
    },
    {
     "name": "stderr",
     "output_type": "stream",
     "text": [
      "C:\\ProgramData\\Anaconda3\\lib\\site-packages\\sklearn\\neural_network\\_multilayer_perceptron.py:614: ConvergenceWarning: Stochastic Optimizer: Maximum iterations (200) reached and the optimization hasn't converged yet.\n",
      "  warnings.warn(\n"
     ]
    },
    {
     "name": "stdout",
     "output_type": "stream",
     "text": [
      "For alpha = 0.09999999999999999\n",
      "Logistic Regression Score: 0.7463850992565967\n",
      "MLPC Score: 0.7707703618985376\n",
      "-----------\n"
     ]
    },
    {
     "name": "stderr",
     "output_type": "stream",
     "text": [
      "C:\\ProgramData\\Anaconda3\\lib\\site-packages\\sklearn\\neural_network\\_multilayer_perceptron.py:614: ConvergenceWarning: Stochastic Optimizer: Maximum iterations (200) reached and the optimization hasn't converged yet.\n",
      "  warnings.warn(\n"
     ]
    },
    {
     "name": "stdout",
     "output_type": "stream",
     "text": [
      "For alpha = 0.11\n",
      "Logistic Regression Score: 0.7447103994771669\n",
      "MLPC Score: 0.771791520300629\n",
      "-----------\n"
     ]
    },
    {
     "name": "stderr",
     "output_type": "stream",
     "text": [
      "C:\\ProgramData\\Anaconda3\\lib\\site-packages\\sklearn\\neural_network\\_multilayer_perceptron.py:614: ConvergenceWarning: Stochastic Optimizer: Maximum iterations (200) reached and the optimization hasn't converged yet.\n",
      "  warnings.warn(\n"
     ]
    },
    {
     "name": "stdout",
     "output_type": "stream",
     "text": [
      "For alpha = 0.12\n",
      "Logistic Regression Score: 0.7448329384854179\n",
      "MLPC Score: 0.7658688015684993\n",
      "-----------\n",
      "For alpha = 0.13\n",
      "Logistic Regression Score: 0.7442610897802467\n",
      "MLPC Score: 0.7681970427252676\n",
      "-----------\n",
      "For alpha = 0.14\n",
      "Logistic Regression Score: 0.7475696430030226\n",
      "MLPC Score: 0.7668082672984233\n",
      "-----------\n"
     ]
    },
    {
     "name": "stderr",
     "output_type": "stream",
     "text": [
      "C:\\ProgramData\\Anaconda3\\lib\\site-packages\\sklearn\\neural_network\\_multilayer_perceptron.py:614: ConvergenceWarning: Stochastic Optimizer: Maximum iterations (200) reached and the optimization hasn't converged yet.\n",
      "  warnings.warn(\n"
     ]
    },
    {
     "name": "stdout",
     "output_type": "stream",
     "text": [
      "For alpha = 0.15000000000000002\n",
      "Logistic Regression Score: 0.7468752552896005\n",
      "MLPC Score: 0.7616207826157994\n",
      "-----------\n",
      "For alpha = 0.16\n",
      "Logistic Regression Score: 0.7485499550690303\n",
      "MLPC Score: 0.7658688015684993\n",
      "-----------\n"
     ]
    },
    {
     "name": "stderr",
     "output_type": "stream",
     "text": [
      "C:\\ProgramData\\Anaconda3\\lib\\site-packages\\sklearn\\neural_network\\_multilayer_perceptron.py:614: ConvergenceWarning: Stochastic Optimizer: Maximum iterations (200) reached and the optimization hasn't converged yet.\n",
      "  warnings.warn(\n"
     ]
    },
    {
     "name": "stdout",
     "output_type": "stream",
     "text": [
      "For alpha = 0.17\n",
      "Logistic Regression Score: 0.7444244751245813\n",
      "MLPC Score: 0.7640715627808186\n",
      "-----------\n",
      "For alpha = 0.18000000000000002\n",
      "Logistic Regression Score: 0.7449963238297524\n",
      "MLPC Score: 0.7594559268033657\n",
      "-----------\n"
     ]
    },
    {
     "name": "stderr",
     "output_type": "stream",
     "text": [
      "C:\\ProgramData\\Anaconda3\\lib\\site-packages\\sklearn\\neural_network\\_multilayer_perceptron.py:614: ConvergenceWarning: Stochastic Optimizer: Maximum iterations (200) reached and the optimization hasn't converged yet.\n",
      "  warnings.warn(\n"
     ]
    },
    {
     "name": "stdout",
     "output_type": "stream",
     "text": [
      "For alpha = 0.19\n",
      "Logistic Regression Score: 0.7455681725349236\n",
      "MLPC Score: 0.7579446123682706\n",
      "-----------\n",
      "For alpha = 0.2\n",
      "Logistic Regression Score: 0.7513683522588024\n",
      "MLPC Score: 0.7637039457560657\n",
      "-----------\n"
     ]
    }
   ],
   "source": [
    "lr_score = []\n",
    "mlpc_score = []\n",
    "def bestResults():\n",
    "    for alpha in alphas:\n",
    "        K = getKComponents(pca, alpha)\n",
    "        X_t = pca.transform(X)[:, 0:K]\n",
    "        X_pca = pd.DataFrame(X_t)\n",
    "        LR = LogisticRegression()\n",
    "        MLPC = MLPClassifier()\n",
    "        X_train, X_test, y_train, y_test = train_test_split(X_pca, y, test_size=0.2)\n",
    "        LR.fit(X_train, y_train)\n",
    "        MLPC.fit(X_train, y_train)\n",
    "        print(f\"For alpha = {alpha}\")\n",
    "        ls = LR.score(X_test, y_test)\n",
    "        mls = MLPC.score(X_test, y_test)\n",
    "        print(f\"Logistic Regression Score: {ls}\")\n",
    "        print(f\"MLPC Score: {mls}\")\n",
    "        print('-----------')\n",
    "        lr_score.append(ls)\n",
    "        mlpc_score.append(mls)\n",
    "bestResults()"
   ]
  },
  {
   "cell_type": "code",
   "execution_count": 86,
   "id": "573eff2a",
   "metadata": {},
   "outputs": [
    {
     "data": {
      "text/plain": [
       "[0.7489175720937832,\n",
       " 0.7463034065844294,\n",
       " 0.748345723388612,\n",
       " 0.7485908014051139,\n",
       " 0.7418511559513111,\n",
       " 0.7431582387059881,\n",
       " 0.7449554774936689,\n",
       " 0.7432807777142391,\n",
       " 0.7488767257576995,\n",
       " 0.7463850992565967,\n",
       " 0.7447103994771669,\n",
       " 0.7448329384854179,\n",
       " 0.7442610897802467,\n",
       " 0.7475696430030226,\n",
       " 0.7468752552896005,\n",
       " 0.7485499550690303,\n",
       " 0.7444244751245813,\n",
       " 0.7449963238297524,\n",
       " 0.7455681725349236,\n",
       " 0.7513683522588024]"
      ]
     },
     "execution_count": 86,
     "metadata": {},
     "output_type": "execute_result"
    }
   ],
   "source": [
    "lr_score"
   ]
  },
  {
   "cell_type": "code",
   "execution_count": 87,
   "id": "cdb7047e",
   "metadata": {
    "scrolled": true
   },
   "outputs": [
    {
     "data": {
      "text/plain": [
       "[0.7922555346785394,\n",
       " 0.7871905890041663,\n",
       " 0.7836369577648885,\n",
       " 0.7863328159464096,\n",
       " 0.7792255534678539,\n",
       " 0.7777550853688424,\n",
       " 0.7745690711543175,\n",
       " 0.7759986929172453,\n",
       " 0.7695041254799444,\n",
       " 0.7707703618985376,\n",
       " 0.771791520300629,\n",
       " 0.7658688015684993,\n",
       " 0.7681970427252676,\n",
       " 0.7668082672984233,\n",
       " 0.7616207826157994,\n",
       " 0.7658688015684993,\n",
       " 0.7640715627808186,\n",
       " 0.7594559268033657,\n",
       " 0.7579446123682706,\n",
       " 0.7637039457560657]"
      ]
     },
     "execution_count": 87,
     "metadata": {},
     "output_type": "execute_result"
    }
   ],
   "source": [
    "mlpc_score"
   ]
  },
  {
   "cell_type": "markdown",
   "id": "75a19022",
   "metadata": {},
   "source": [
    "## Best Accuracy for MLPC Classifier is 79%"
   ]
  }
 ],
 "metadata": {
  "kernelspec": {
   "display_name": "Python 3 (ipykernel)",
   "language": "python",
   "name": "python3"
  },
  "language_info": {
   "codemirror_mode": {
    "name": "ipython",
    "version": 3
   },
   "file_extension": ".py",
   "mimetype": "text/x-python",
   "name": "python",
   "nbconvert_exporter": "python",
   "pygments_lexer": "ipython3",
   "version": "3.9.7"
  }
 },
 "nbformat": 4,
 "nbformat_minor": 5
}
