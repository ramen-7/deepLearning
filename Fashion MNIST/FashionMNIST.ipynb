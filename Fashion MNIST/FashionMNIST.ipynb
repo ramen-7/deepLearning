{
 "cells": [
  {
   "cell_type": "code",
   "execution_count": 68,
   "id": "9429a0ca",
   "metadata": {},
   "outputs": [],
   "source": [
    "#import pandas\n",
    "import pandas as pd\n",
    "#importing numpy\n",
    "import numpy as np\n",
    "#importing tensorflow\n",
    "import tensorflow as tf\n",
    "#importing keras from tensorflow\n",
    "from tensorflow import keras\n",
    "# importing Sequential from keras\n",
    "from tensorflow.keras.models import Sequential\n",
    "#importing Dense and Conv2D layers from keras\n",
    "from tensorflow.keras.layers import Dense,Conv2D"
   ]
  },
  {
   "cell_type": "code",
   "execution_count": 73,
   "id": "e491335d",
   "metadata": {},
   "outputs": [],
   "source": [
    "df = tf.keras.datasets.fashion_mnist\n",
    "(train_df,train_labl),(test_df,test_labl) = df.load_data()"
   ]
  },
  {
   "cell_type": "markdown",
   "id": "b9e2100c",
   "metadata": {},
   "source": [
    "Normalizing values"
   ]
  },
  {
   "cell_type": "code",
   "execution_count": 74,
   "id": "c38bcc7d",
   "metadata": {},
   "outputs": [],
   "source": [
    "train_df=train_df/255.0\n",
    "#scaling test data\n",
    "test_df = test_df/255.0"
   ]
  },
  {
   "cell_type": "code",
   "execution_count": 75,
   "id": "21575112",
   "metadata": {},
   "outputs": [],
   "source": [
    "train_df = train_df.reshape(len(train_df),28,28,1)\n",
    "test_df = test_df.reshape(len(test_df),28,28,1)"
   ]
  },
  {
   "cell_type": "markdown",
   "id": "19a99b98",
   "metadata": {},
   "source": [
    "We are using categorical cross-entropy, so we need to convert our output to one-hot-encoded"
   ]
  },
  {
   "cell_type": "code",
   "execution_count": 5,
   "id": "f7617c4e",
   "metadata": {},
   "outputs": [],
   "source": [
    "from tensorflow.keras.utils import to_categorical"
   ]
  },
  {
   "cell_type": "code",
   "execution_count": 6,
   "id": "b6ebc856",
   "metadata": {},
   "outputs": [],
   "source": [
    "y_train = to_categorical(y_train, 10)\n",
    "y_val = to_categorical(y_val, 10)\n",
    "y_test = to_categorical(y_test, 10)"
   ]
  },
  {
   "cell_type": "code",
   "execution_count": 70,
   "id": "8b77421f",
   "metadata": {},
   "outputs": [],
   "source": [
    "def build_model(hp):\n",
    "    model = keras.Sequential([keras.layers.Conv2D(filters=hp.Int('conv_1_filter', min_value=32, max_value=128, step=16),\n",
    "kernel_size=hp.Choice('conv_1_kernel', values = [3,5]),\n",
    "        #activation function\n",
    "        activation='relu',\n",
    "        input_shape=(28,28,1)),\n",
    "    # adding second convolutional layer \n",
    "    keras.layers.Conv2D(\n",
    "        #adding filter \n",
    "        filters=hp.Int('conv_2_filter', min_value=32, max_value=64, step=16),\n",
    "        #adding filter size or kernel size\n",
    "        kernel_size=hp.Choice('conv_2_kernel', values = [3,5]),\n",
    "        #activation function\n",
    "        activation='relu'\n",
    "    ),\n",
    "    # adding flatten layer    \n",
    "    keras.layers.Flatten(),\n",
    "    # adding dense layer    \n",
    "    keras.layers.Dense(\n",
    "        units=hp.Int('dense_1_units', min_value=32, max_value=128, step=16),\n",
    "        activation='relu'\n",
    "    ),\n",
    "    # output layer    \n",
    "    keras.layers.Dense(10, activation='softmax')\n",
    "    ])\n",
    "    #compilation of model\n",
    "    model.compile(optimizer=keras.optimizers.Adam(hp.Choice('learning_rate', values=[1e-2, 1e-3])),\n",
    "              loss='sparse_categorical_crossentropy',\n",
    "              metrics=['accuracy'])\n",
    "    return model"
   ]
  },
  {
   "cell_type": "code",
   "execution_count": null,
   "id": "ec4f19bb",
   "metadata": {},
   "outputs": [
    {
     "name": "stdout",
     "output_type": "stream",
     "text": [
      "Trial 3 Complete [00h 10m 17s]\n",
      "val_accuracy: 0.8961166739463806\n",
      "\n",
      "Best val_accuracy So Far: 0.8961166739463806\n",
      "Total elapsed time: 00h 19m 41s\n",
      "\n",
      "Search: Running Trial #4\n",
      "\n",
      "Value             |Best Value So Far |Hyperparameter\n",
      "48                |96                |conv_1_filter\n",
      "5                 |3                 |conv_1_kernel\n",
      "32                |48                |conv_2_filter\n",
      "3                 |5                 |conv_2_kernel\n",
      "32                |96                |dense_1_units\n",
      "0.001             |0.01              |learning_rate\n",
      "\n",
      "Epoch 1/3\n",
      "1674/1875 [=========================>....] - ETA: 6s - loss: 0.4304 - accuracy: 0.8449"
     ]
    }
   ],
   "source": [
    "#importing random search\n",
    "from kerastuner import RandomSearch\n",
    "#creating randomsearch object\n",
    "tuner = RandomSearch(build_model,\n",
    "                    objective='val_accuracy',\n",
    "                    max_trials = 5)\n",
    "# search best parameter\n",
    "tuner.search(train_df,train_labl,epochs=3,validation_data=(train_df,train_labl))"
   ]
  }
 ],
 "metadata": {
  "kernelspec": {
   "display_name": "Python 3 (ipykernel)",
   "language": "python",
   "name": "python3"
  },
  "language_info": {
   "codemirror_mode": {
    "name": "ipython",
    "version": 3
   },
   "file_extension": ".py",
   "mimetype": "text/x-python",
   "name": "python",
   "nbconvert_exporter": "python",
   "pygments_lexer": "ipython3",
   "version": "3.9.7"
  }
 },
 "nbformat": 4,
 "nbformat_minor": 5
}
