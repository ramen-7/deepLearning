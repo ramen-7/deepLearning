{
 "cells": [
  {
   "cell_type": "code",
   "execution_count": 35,
   "id": "6c1c247d",
   "metadata": {},
   "outputs": [],
   "source": [
    "import pandas as pd\n",
    "import numpy as np\n",
    "import tensorflow as tf"
   ]
  },
  {
   "cell_type": "markdown",
   "id": "32b5de4c",
   "metadata": {},
   "source": [
    "### Importing Dataset"
   ]
  },
  {
   "cell_type": "code",
   "execution_count": 36,
   "id": "1d750479",
   "metadata": {},
   "outputs": [],
   "source": [
    "df = pd.read_csv('Churn_Modelling.csv')"
   ]
  },
  {
   "cell_type": "code",
   "execution_count": 37,
   "id": "9d7ce6e0",
   "metadata": {},
   "outputs": [
    {
     "data": {
      "text/html": [
       "<div>\n",
       "<style scoped>\n",
       "    .dataframe tbody tr th:only-of-type {\n",
       "        vertical-align: middle;\n",
       "    }\n",
       "\n",
       "    .dataframe tbody tr th {\n",
       "        vertical-align: top;\n",
       "    }\n",
       "\n",
       "    .dataframe thead th {\n",
       "        text-align: right;\n",
       "    }\n",
       "</style>\n",
       "<table border=\"1\" class=\"dataframe\">\n",
       "  <thead>\n",
       "    <tr style=\"text-align: right;\">\n",
       "      <th></th>\n",
       "      <th>RowNumber</th>\n",
       "      <th>CustomerId</th>\n",
       "      <th>Surname</th>\n",
       "      <th>CreditScore</th>\n",
       "      <th>Geography</th>\n",
       "      <th>Gender</th>\n",
       "      <th>Age</th>\n",
       "      <th>Tenure</th>\n",
       "      <th>Balance</th>\n",
       "      <th>NumOfProducts</th>\n",
       "      <th>HasCrCard</th>\n",
       "      <th>IsActiveMember</th>\n",
       "      <th>EstimatedSalary</th>\n",
       "      <th>Exited</th>\n",
       "    </tr>\n",
       "  </thead>\n",
       "  <tbody>\n",
       "    <tr>\n",
       "      <th>0</th>\n",
       "      <td>1</td>\n",
       "      <td>15634602</td>\n",
       "      <td>Hargrave</td>\n",
       "      <td>619</td>\n",
       "      <td>France</td>\n",
       "      <td>Female</td>\n",
       "      <td>42</td>\n",
       "      <td>2</td>\n",
       "      <td>0.00</td>\n",
       "      <td>1</td>\n",
       "      <td>1</td>\n",
       "      <td>1</td>\n",
       "      <td>101348.88</td>\n",
       "      <td>1</td>\n",
       "    </tr>\n",
       "    <tr>\n",
       "      <th>1</th>\n",
       "      <td>2</td>\n",
       "      <td>15647311</td>\n",
       "      <td>Hill</td>\n",
       "      <td>608</td>\n",
       "      <td>Spain</td>\n",
       "      <td>Female</td>\n",
       "      <td>41</td>\n",
       "      <td>1</td>\n",
       "      <td>83807.86</td>\n",
       "      <td>1</td>\n",
       "      <td>0</td>\n",
       "      <td>1</td>\n",
       "      <td>112542.58</td>\n",
       "      <td>0</td>\n",
       "    </tr>\n",
       "    <tr>\n",
       "      <th>2</th>\n",
       "      <td>3</td>\n",
       "      <td>15619304</td>\n",
       "      <td>Onio</td>\n",
       "      <td>502</td>\n",
       "      <td>France</td>\n",
       "      <td>Female</td>\n",
       "      <td>42</td>\n",
       "      <td>8</td>\n",
       "      <td>159660.80</td>\n",
       "      <td>3</td>\n",
       "      <td>1</td>\n",
       "      <td>0</td>\n",
       "      <td>113931.57</td>\n",
       "      <td>1</td>\n",
       "    </tr>\n",
       "    <tr>\n",
       "      <th>3</th>\n",
       "      <td>4</td>\n",
       "      <td>15701354</td>\n",
       "      <td>Boni</td>\n",
       "      <td>699</td>\n",
       "      <td>France</td>\n",
       "      <td>Female</td>\n",
       "      <td>39</td>\n",
       "      <td>1</td>\n",
       "      <td>0.00</td>\n",
       "      <td>2</td>\n",
       "      <td>0</td>\n",
       "      <td>0</td>\n",
       "      <td>93826.63</td>\n",
       "      <td>0</td>\n",
       "    </tr>\n",
       "    <tr>\n",
       "      <th>4</th>\n",
       "      <td>5</td>\n",
       "      <td>15737888</td>\n",
       "      <td>Mitchell</td>\n",
       "      <td>850</td>\n",
       "      <td>Spain</td>\n",
       "      <td>Female</td>\n",
       "      <td>43</td>\n",
       "      <td>2</td>\n",
       "      <td>125510.82</td>\n",
       "      <td>1</td>\n",
       "      <td>1</td>\n",
       "      <td>1</td>\n",
       "      <td>79084.10</td>\n",
       "      <td>0</td>\n",
       "    </tr>\n",
       "  </tbody>\n",
       "</table>\n",
       "</div>"
      ],
      "text/plain": [
       "   RowNumber  CustomerId   Surname  CreditScore Geography  Gender  Age  \\\n",
       "0          1    15634602  Hargrave          619    France  Female   42   \n",
       "1          2    15647311      Hill          608     Spain  Female   41   \n",
       "2          3    15619304      Onio          502    France  Female   42   \n",
       "3          4    15701354      Boni          699    France  Female   39   \n",
       "4          5    15737888  Mitchell          850     Spain  Female   43   \n",
       "\n",
       "   Tenure    Balance  NumOfProducts  HasCrCard  IsActiveMember  \\\n",
       "0       2       0.00              1          1               1   \n",
       "1       1   83807.86              1          0               1   \n",
       "2       8  159660.80              3          1               0   \n",
       "3       1       0.00              2          0               0   \n",
       "4       2  125510.82              1          1               1   \n",
       "\n",
       "   EstimatedSalary  Exited  \n",
       "0        101348.88       1  \n",
       "1        112542.58       0  \n",
       "2        113931.57       1  \n",
       "3         93826.63       0  \n",
       "4         79084.10       0  "
      ]
     },
     "execution_count": 37,
     "metadata": {},
     "output_type": "execute_result"
    }
   ],
   "source": [
    "df.head()"
   ]
  },
  {
   "cell_type": "code",
   "execution_count": 38,
   "id": "b0142d64",
   "metadata": {},
   "outputs": [],
   "source": [
    "X = df.drop(['RowNumber','CustomerId','Surname','Exited'],axis=1)\n",
    "y = df.Exited"
   ]
  },
  {
   "cell_type": "code",
   "execution_count": 39,
   "id": "a76d9d8e",
   "metadata": {},
   "outputs": [
    {
     "name": "stdout",
     "output_type": "stream",
     "text": [
      "      CreditScore Geography  Gender  Age  Tenure    Balance  NumOfProducts  \\\n",
      "0             619    France  Female   42       2       0.00              1   \n",
      "1             608     Spain  Female   41       1   83807.86              1   \n",
      "2             502    France  Female   42       8  159660.80              3   \n",
      "3             699    France  Female   39       1       0.00              2   \n",
      "4             850     Spain  Female   43       2  125510.82              1   \n",
      "...           ...       ...     ...  ...     ...        ...            ...   \n",
      "9995          771    France    Male   39       5       0.00              2   \n",
      "9996          516    France    Male   35      10   57369.61              1   \n",
      "9997          709    France  Female   36       7       0.00              1   \n",
      "9998          772   Germany    Male   42       3   75075.31              2   \n",
      "9999          792    France  Female   28       4  130142.79              1   \n",
      "\n",
      "      HasCrCard  IsActiveMember  EstimatedSalary  \n",
      "0             1               1        101348.88  \n",
      "1             0               1        112542.58  \n",
      "2             1               0        113931.57  \n",
      "3             0               0         93826.63  \n",
      "4             1               1         79084.10  \n",
      "...         ...             ...              ...  \n",
      "9995          1               0         96270.64  \n",
      "9996          1               1        101699.77  \n",
      "9997          0               1         42085.58  \n",
      "9998          1               0         92888.52  \n",
      "9999          1               0         38190.78  \n",
      "\n",
      "[10000 rows x 10 columns]\n"
     ]
    }
   ],
   "source": [
    "print(X)"
   ]
  },
  {
   "cell_type": "code",
   "execution_count": 40,
   "id": "0903e2fb",
   "metadata": {},
   "outputs": [
    {
     "name": "stdout",
     "output_type": "stream",
     "text": [
      "0       1\n",
      "1       0\n",
      "2       1\n",
      "3       0\n",
      "4       0\n",
      "       ..\n",
      "9995    0\n",
      "9996    0\n",
      "9997    1\n",
      "9998    1\n",
      "9999    0\n",
      "Name: Exited, Length: 10000, dtype: int64\n"
     ]
    }
   ],
   "source": [
    "print(y)"
   ]
  },
  {
   "cell_type": "markdown",
   "id": "404fd48f",
   "metadata": {},
   "source": [
    "### Encoding Categorical Data"
   ]
  },
  {
   "cell_type": "code",
   "execution_count": 41,
   "id": "ced85f6e",
   "metadata": {},
   "outputs": [
    {
     "name": "stdout",
     "output_type": "stream",
     "text": [
      "['Geography', 'Gender']\n"
     ]
    }
   ],
   "source": [
    "categorical_cols = [col for col in X.columns if X[col].dtype == 'object']\n",
    "print(categorical_cols)"
   ]
  },
  {
   "cell_type": "markdown",
   "id": "079ae621",
   "metadata": {},
   "source": [
    "#### Label Encoding 'Gender' Column"
   ]
  },
  {
   "cell_type": "code",
   "execution_count": 42,
   "id": "a7544473",
   "metadata": {},
   "outputs": [],
   "source": [
    "from sklearn.preprocessing import LabelEncoder\n",
    "le = LabelEncoder()\n",
    "X['Gender'] = le.fit_transform(X['Gender'])"
   ]
  },
  {
   "cell_type": "code",
   "execution_count": 43,
   "id": "74c81360",
   "metadata": {},
   "outputs": [
    {
     "name": "stdout",
     "output_type": "stream",
     "text": [
      "      CreditScore Geography  Gender  Age  Tenure    Balance  NumOfProducts  \\\n",
      "0             619    France       0   42       2       0.00              1   \n",
      "1             608     Spain       0   41       1   83807.86              1   \n",
      "2             502    France       0   42       8  159660.80              3   \n",
      "3             699    France       0   39       1       0.00              2   \n",
      "4             850     Spain       0   43       2  125510.82              1   \n",
      "...           ...       ...     ...  ...     ...        ...            ...   \n",
      "9995          771    France       1   39       5       0.00              2   \n",
      "9996          516    France       1   35      10   57369.61              1   \n",
      "9997          709    France       0   36       7       0.00              1   \n",
      "9998          772   Germany       1   42       3   75075.31              2   \n",
      "9999          792    France       0   28       4  130142.79              1   \n",
      "\n",
      "      HasCrCard  IsActiveMember  EstimatedSalary  \n",
      "0             1               1        101348.88  \n",
      "1             0               1        112542.58  \n",
      "2             1               0        113931.57  \n",
      "3             0               0         93826.63  \n",
      "4             1               1         79084.10  \n",
      "...         ...             ...              ...  \n",
      "9995          1               0         96270.64  \n",
      "9996          1               1        101699.77  \n",
      "9997          0               1         42085.58  \n",
      "9998          1               0         92888.52  \n",
      "9999          1               0         38190.78  \n",
      "\n",
      "[10000 rows x 10 columns]\n"
     ]
    }
   ],
   "source": [
    "print(X)"
   ]
  },
  {
   "cell_type": "markdown",
   "id": "357e9452",
   "metadata": {},
   "source": [
    "#### One Hot Encoding 'Geography' Column"
   ]
  },
  {
   "cell_type": "code",
   "execution_count": 44,
   "id": "9865da14",
   "metadata": {},
   "outputs": [],
   "source": [
    "from sklearn.compose import ColumnTransformer\n",
    "from sklearn.preprocessing import OneHotEncoder\n",
    "\n",
    "ct = ColumnTransformer(transformers=[('encoder', OneHotEncoder(), ['Geography'])], remainder='passthrough')\n",
    "X = np.array(ct.fit_transform(X))"
   ]
  },
  {
   "cell_type": "code",
   "execution_count": 47,
   "id": "63eb3665",
   "metadata": {
    "scrolled": false
   },
   "outputs": [
    {
     "name": "stdout",
     "output_type": "stream",
     "text": [
      "[1.0000000e+00 0.0000000e+00 0.0000000e+00 6.1900000e+02 0.0000000e+00\n",
      " 4.2000000e+01 2.0000000e+00 0.0000000e+00 1.0000000e+00 1.0000000e+00\n",
      " 1.0000000e+00 1.0134888e+05]\n",
      "[0.0000000e+00 0.0000000e+00 1.0000000e+00 6.0800000e+02 0.0000000e+00\n",
      " 4.1000000e+01 1.0000000e+00 8.3807860e+04 1.0000000e+00 0.0000000e+00\n",
      " 1.0000000e+00 1.1254258e+05]\n"
     ]
    }
   ],
   "source": [
    "print(X[0])\n",
    "print(X[1])"
   ]
  },
  {
   "cell_type": "code",
   "execution_count": 51,
   "id": "32b3dade",
   "metadata": {},
   "outputs": [
    {
     "data": {
      "text/plain": [
       "(10000, 12)"
      ]
     },
     "execution_count": 51,
     "metadata": {},
     "output_type": "execute_result"
    }
   ],
   "source": [
    "X.shape"
   ]
  },
  {
   "cell_type": "markdown",
   "id": "2e2560e7",
   "metadata": {},
   "source": [
    "#### Test Train Splittig of Data"
   ]
  },
  {
   "cell_type": "code",
   "execution_count": 48,
   "id": "b595247f",
   "metadata": {},
   "outputs": [],
   "source": [
    "from sklearn.model_selection import train_test_split\n",
    "X_train, X_test, y_train, y_test = train_test_split(X, y, test_size=0.2, random_state=7)"
   ]
  },
  {
   "cell_type": "markdown",
   "id": "9e208655",
   "metadata": {},
   "source": [
    "#### Feature Scaling"
   ]
  },
  {
   "cell_type": "code",
   "execution_count": 49,
   "id": "886a5126",
   "metadata": {},
   "outputs": [],
   "source": [
    "from sklearn.preprocessing import StandardScaler\n",
    "sc = StandardScaler()\n",
    "\n",
    "X_train = sc.fit_transform(X_train)\n",
    "X_test = sc.transform(X_test)"
   ]
  },
  {
   "cell_type": "markdown",
   "id": "de306b7a",
   "metadata": {},
   "source": [
    "#### Making the ANN model"
   ]
  },
  {
   "cell_type": "code",
   "execution_count": 50,
   "id": "17118143",
   "metadata": {},
   "outputs": [],
   "source": [
    "ann = tf.keras.models.Sequential()"
   ]
  },
  {
   "cell_type": "code",
   "execution_count": 52,
   "id": "361ec4c7",
   "metadata": {},
   "outputs": [],
   "source": [
    "ann.add(tf.keras.layers.Dense(units=12, activation='relu'))\n",
    "ann.add(tf.keras.layers.Dense(units=12, activation='relu'))\n",
    "ann.add(tf.keras.layers.Dense(units=1, activation='sigmoid')) # for more than bianry classification, softmax is used"
   ]
  },
  {
   "cell_type": "code",
   "execution_count": 56,
   "id": "46c93aa9",
   "metadata": {},
   "outputs": [],
   "source": [
    "ann.compile(optimizer='adam', loss='binary_crossentropy', metrics=['accuracy']) \n",
    "# for other than binary classification, it should be categorical_crossentropy"
   ]
  },
  {
   "cell_type": "code",
   "execution_count": null,
   "id": "4395c65f",
   "metadata": {
    "scrolled": false
   },
   "outputs": [
    {
     "name": "stdout",
     "output_type": "stream",
     "text": [
      "Epoch 1/200\n",
      "250/250 [==============================] - 0s 2ms/step - loss: 0.3025 - accuracy: 0.8756\n",
      "Epoch 2/200\n",
      "250/250 [==============================] - 1s 2ms/step - loss: 0.3028 - accuracy: 0.8744\n",
      "Epoch 3/200\n",
      "250/250 [==============================] - 1s 2ms/step - loss: 0.3022 - accuracy: 0.8741\n",
      "Epoch 4/200\n",
      "250/250 [==============================] - 0s 2ms/step - loss: 0.3025 - accuracy: 0.8746\n",
      "Epoch 5/200\n",
      "250/250 [==============================] - 0s 1ms/step - loss: 0.3033 - accuracy: 0.8739\n",
      "Epoch 6/200\n",
      "250/250 [==============================] - 0s 1ms/step - loss: 0.3029 - accuracy: 0.8761\n",
      "Epoch 7/200\n",
      "250/250 [==============================] - 0s 1ms/step - loss: 0.3030 - accuracy: 0.8725\n",
      "Epoch 8/200\n",
      "250/250 [==============================] - 0s 2ms/step - loss: 0.3031 - accuracy: 0.8754\n",
      "Epoch 9/200\n",
      "250/250 [==============================] - 0s 2ms/step - loss: 0.3028 - accuracy: 0.8744\n",
      "Epoch 10/200\n",
      "250/250 [==============================] - 0s 1ms/step - loss: 0.3030 - accuracy: 0.8751\n",
      "Epoch 11/200\n",
      "250/250 [==============================] - 0s 1ms/step - loss: 0.3035 - accuracy: 0.8766\n",
      "Epoch 12/200\n",
      "250/250 [==============================] - 0s 1ms/step - loss: 0.3025 - accuracy: 0.8759\n",
      "Epoch 13/200\n",
      "250/250 [==============================] - 0s 1ms/step - loss: 0.3031 - accuracy: 0.8760\n",
      "Epoch 14/200\n",
      "250/250 [==============================] - 0s 1ms/step - loss: 0.3019 - accuracy: 0.8758\n",
      "Epoch 15/200\n",
      "250/250 [==============================] - 0s 1ms/step - loss: 0.3030 - accuracy: 0.8748\n",
      "Epoch 16/200\n",
      "250/250 [==============================] - 0s 1ms/step - loss: 0.3021 - accuracy: 0.8741\n",
      "Epoch 17/200\n",
      "250/250 [==============================] - 0s 1ms/step - loss: 0.3029 - accuracy: 0.8744\n",
      "Epoch 18/200\n",
      "250/250 [==============================] - 0s 1ms/step - loss: 0.3022 - accuracy: 0.8759\n",
      "Epoch 19/200\n",
      "250/250 [==============================] - 0s 1ms/step - loss: 0.3020 - accuracy: 0.8773\n",
      "Epoch 20/200\n",
      "250/250 [==============================] - 0s 1ms/step - loss: 0.3024 - accuracy: 0.8759\n",
      "Epoch 21/200\n",
      "250/250 [==============================] - 0s 2ms/step - loss: 0.3024 - accuracy: 0.8754\n",
      "Epoch 22/200\n",
      "250/250 [==============================] - 0s 1ms/step - loss: 0.3026 - accuracy: 0.8745\n",
      "Epoch 23/200\n",
      "250/250 [==============================] - 0s 1ms/step - loss: 0.3031 - accuracy: 0.8759\n",
      "Epoch 24/200\n",
      "250/250 [==============================] - 0s 1ms/step - loss: 0.3025 - accuracy: 0.8736\n",
      "Epoch 25/200\n",
      "250/250 [==============================] - 0s 1ms/step - loss: 0.3022 - accuracy: 0.8748\n",
      "Epoch 26/200\n",
      "250/250 [==============================] - 0s 1ms/step - loss: 0.3028 - accuracy: 0.8748\n",
      "Epoch 27/200\n",
      "250/250 [==============================] - 0s 1ms/step - loss: 0.3025 - accuracy: 0.8751\n",
      "Epoch 28/200\n",
      "250/250 [==============================] - 0s 1ms/step - loss: 0.3027 - accuracy: 0.8740\n",
      "Epoch 29/200\n",
      "250/250 [==============================] - 0s 1ms/step - loss: 0.3022 - accuracy: 0.8751\n",
      "Epoch 30/200\n",
      "250/250 [==============================] - 0s 1ms/step - loss: 0.3023 - accuracy: 0.8750\n",
      "Epoch 31/200\n",
      "250/250 [==============================] - 0s 1ms/step - loss: 0.3026 - accuracy: 0.8748\n",
      "Epoch 32/200\n",
      "250/250 [==============================] - 0s 2ms/step - loss: 0.3021 - accuracy: 0.8735\n",
      "Epoch 33/200\n",
      "250/250 [==============================] - 0s 1ms/step - loss: 0.3021 - accuracy: 0.8748\n",
      "Epoch 34/200\n",
      "250/250 [==============================] - 0s 1ms/step - loss: 0.3024 - accuracy: 0.8749\n",
      "Epoch 35/200\n",
      "250/250 [==============================] - 0s 2ms/step - loss: 0.3026 - accuracy: 0.8742\n",
      "Epoch 36/200\n",
      "250/250 [==============================] - 0s 2ms/step - loss: 0.3025 - accuracy: 0.8763\n",
      "Epoch 37/200\n",
      "250/250 [==============================] - 0s 1ms/step - loss: 0.3025 - accuracy: 0.8749\n",
      "Epoch 38/200\n",
      "250/250 [==============================] - 0s 1ms/step - loss: 0.3024 - accuracy: 0.8766\n",
      "Epoch 39/200\n",
      "250/250 [==============================] - 0s 1ms/step - loss: 0.3030 - accuracy: 0.8742\n",
      "Epoch 40/200\n",
      "250/250 [==============================] - 0s 1ms/step - loss: 0.3017 - accuracy: 0.8761\n",
      "Epoch 41/200\n",
      "250/250 [==============================] - 0s 2ms/step - loss: 0.3023 - accuracy: 0.8749\n",
      "Epoch 42/200\n",
      "250/250 [==============================] - 0s 1ms/step - loss: 0.3022 - accuracy: 0.8745\n",
      "Epoch 43/200\n",
      "250/250 [==============================] - 0s 1ms/step - loss: 0.3022 - accuracy: 0.8752\n",
      "Epoch 44/200\n",
      "250/250 [==============================] - 0s 1ms/step - loss: 0.3023 - accuracy: 0.8758\n",
      "Epoch 45/200\n",
      "250/250 [==============================] - 0s 1ms/step - loss: 0.3025 - accuracy: 0.8756\n",
      "Epoch 46/200\n",
      "250/250 [==============================] - 0s 1ms/step - loss: 0.3019 - accuracy: 0.8780\n",
      "Epoch 47/200\n",
      "250/250 [==============================] - 0s 1ms/step - loss: 0.3025 - accuracy: 0.8777\n",
      "Epoch 48/200\n",
      "250/250 [==============================] - 0s 1ms/step - loss: 0.3019 - accuracy: 0.8760\n",
      "Epoch 49/200\n",
      "250/250 [==============================] - 0s 1ms/step - loss: 0.3020 - accuracy: 0.8750\n",
      "Epoch 50/200\n",
      "250/250 [==============================] - 0s 1ms/step - loss: 0.3023 - accuracy: 0.8744\n",
      "Epoch 51/200\n",
      "250/250 [==============================] - 0s 1ms/step - loss: 0.3020 - accuracy: 0.8742\n",
      "Epoch 52/200\n",
      "250/250 [==============================] - 0s 1ms/step - loss: 0.3025 - accuracy: 0.8774\n",
      "Epoch 53/200\n",
      "250/250 [==============================] - 0s 1ms/step - loss: 0.3020 - accuracy: 0.8758\n",
      "Epoch 54/200\n",
      "250/250 [==============================] - 0s 1ms/step - loss: 0.3029 - accuracy: 0.8770\n",
      "Epoch 55/200\n",
      "250/250 [==============================] - 0s 1ms/step - loss: 0.3030 - accuracy: 0.8744\n",
      "Epoch 56/200\n",
      "250/250 [==============================] - 0s 1ms/step - loss: 0.3026 - accuracy: 0.8746\n",
      "Epoch 57/200\n",
      "250/250 [==============================] - 0s 1ms/step - loss: 0.3021 - accuracy: 0.8764\n",
      "Epoch 58/200\n",
      "250/250 [==============================] - 0s 1ms/step - loss: 0.3018 - accuracy: 0.8763\n",
      "Epoch 59/200\n",
      "250/250 [==============================] - 0s 1ms/step - loss: 0.3023 - accuracy: 0.8733\n",
      "Epoch 60/200\n",
      "250/250 [==============================] - 0s 1ms/step - loss: 0.3027 - accuracy: 0.8761\n",
      "Epoch 61/200\n",
      "250/250 [==============================] - 0s 1ms/step - loss: 0.3020 - accuracy: 0.8742\n",
      "Epoch 62/200\n",
      "  1/250 [..............................] - ETA: 0s - loss: 0.3401 - accuracy: 0.8125"
     ]
    }
   ],
   "source": [
    "ann.fit(X_train, y_train, batch_size=32, epochs=200)"
   ]
  },
  {
   "cell_type": "markdown",
   "id": "8681dfd6",
   "metadata": {},
   "source": [
    "#### Predicting values"
   ]
  },
  {
   "cell_type": "code",
   "execution_count": 58,
   "id": "6837e530",
   "metadata": {
    "scrolled": true
   },
   "outputs": [
    {
     "data": {
      "text/plain": [
       "array([[0.01288351]], dtype=float32)"
      ]
     },
     "execution_count": 58,
     "metadata": {},
     "output_type": "execute_result"
    }
   ],
   "source": [
    "ann.predict(sc.transform([[1, 0, 0, 600, 1, 40, 3, 60000, 2, 1, 1, 50000]]))"
   ]
  },
  {
   "cell_type": "code",
   "execution_count": 62,
   "id": "4065b61b",
   "metadata": {},
   "outputs": [
    {
     "name": "stdout",
     "output_type": "stream",
     "text": [
      "[[ True]\n",
      " [False]\n",
      " [False]\n",
      " ...\n",
      " [False]\n",
      " [False]\n",
      " [False]]\n"
     ]
    }
   ],
   "source": [
    "y_pred = ann.predict(X_test)\n",
    "y_pred = (y_pred>0.4)\n",
    "print(y_pred)"
   ]
  },
  {
   "cell_type": "code",
   "execution_count": 66,
   "id": "927a0b4b",
   "metadata": {},
   "outputs": [
    {
     "name": "stdout",
     "output_type": "stream",
     "text": [
      "[[1433  156]\n",
      " [ 162  249]]\n",
      "0.841\n"
     ]
    }
   ],
   "source": [
    "from sklearn.metrics import confusion_matrix, accuracy_score\n",
    "cm = confusion_matrix(y_test, y_pred)\n",
    "print(cm)\n",
    "print(accuracy_score(y_test, y_pred))"
   ]
  }
 ],
 "metadata": {
  "kernelspec": {
   "display_name": "Python 3 (ipykernel)",
   "language": "python",
   "name": "python3"
  },
  "language_info": {
   "codemirror_mode": {
    "name": "ipython",
    "version": 3
   },
   "file_extension": ".py",
   "mimetype": "text/x-python",
   "name": "python",
   "nbconvert_exporter": "python",
   "pygments_lexer": "ipython3",
   "version": "3.9.7"
  }
 },
 "nbformat": 4,
 "nbformat_minor": 5
}
