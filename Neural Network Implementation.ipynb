{
 "cells": [
  {
   "cell_type": "code",
   "execution_count": 7,
   "id": "4d2deb19",
   "metadata": {},
   "outputs": [],
   "source": [
    "import numpy as np\n",
    "import pandas as pd\n",
    "import matplotlib.pyplot as plt"
   ]
  },
  {
   "cell_type": "code",
   "execution_count": 11,
   "id": "3e88c0d7",
   "metadata": {},
   "outputs": [],
   "source": [
    "X = np.vstack([(np.random.rand(10, 2)*5), (np.random.rand(10, 2)*10)])\n",
    "Y = np.hstack([[0]*10, [1]*10])\n",
    "df = pd.DataFrame(X, columns={\"X1\", \"X2\"})\n",
    "df[\"Y\"] = Y"
   ]
  },
  {
   "cell_type": "code",
   "execution_count": 12,
   "id": "e1966065",
   "metadata": {},
   "outputs": [
    {
     "data": {
      "text/html": [
       "<div>\n",
       "<style scoped>\n",
       "    .dataframe tbody tr th:only-of-type {\n",
       "        vertical-align: middle;\n",
       "    }\n",
       "\n",
       "    .dataframe tbody tr th {\n",
       "        vertical-align: top;\n",
       "    }\n",
       "\n",
       "    .dataframe thead th {\n",
       "        text-align: right;\n",
       "    }\n",
       "</style>\n",
       "<table border=\"1\" class=\"dataframe\">\n",
       "  <thead>\n",
       "    <tr style=\"text-align: right;\">\n",
       "      <th></th>\n",
       "      <th>X1</th>\n",
       "      <th>X2</th>\n",
       "      <th>Y</th>\n",
       "    </tr>\n",
       "  </thead>\n",
       "  <tbody>\n",
       "    <tr>\n",
       "      <th>0</th>\n",
       "      <td>2.113504</td>\n",
       "      <td>2.184921</td>\n",
       "      <td>0</td>\n",
       "    </tr>\n",
       "    <tr>\n",
       "      <th>1</th>\n",
       "      <td>1.797302</td>\n",
       "      <td>1.056425</td>\n",
       "      <td>0</td>\n",
       "    </tr>\n",
       "    <tr>\n",
       "      <th>2</th>\n",
       "      <td>4.800700</td>\n",
       "      <td>0.081964</td>\n",
       "      <td>0</td>\n",
       "    </tr>\n",
       "    <tr>\n",
       "      <th>3</th>\n",
       "      <td>3.631863</td>\n",
       "      <td>3.607469</td>\n",
       "      <td>0</td>\n",
       "    </tr>\n",
       "    <tr>\n",
       "      <th>4</th>\n",
       "      <td>3.732544</td>\n",
       "      <td>4.013074</td>\n",
       "      <td>0</td>\n",
       "    </tr>\n",
       "    <tr>\n",
       "      <th>5</th>\n",
       "      <td>4.952091</td>\n",
       "      <td>0.521308</td>\n",
       "      <td>0</td>\n",
       "    </tr>\n",
       "    <tr>\n",
       "      <th>6</th>\n",
       "      <td>3.565606</td>\n",
       "      <td>3.518831</td>\n",
       "      <td>0</td>\n",
       "    </tr>\n",
       "    <tr>\n",
       "      <th>7</th>\n",
       "      <td>4.342235</td>\n",
       "      <td>2.501519</td>\n",
       "      <td>0</td>\n",
       "    </tr>\n",
       "    <tr>\n",
       "      <th>8</th>\n",
       "      <td>0.587853</td>\n",
       "      <td>0.532752</td>\n",
       "      <td>0</td>\n",
       "    </tr>\n",
       "    <tr>\n",
       "      <th>9</th>\n",
       "      <td>0.880891</td>\n",
       "      <td>3.927227</td>\n",
       "      <td>0</td>\n",
       "    </tr>\n",
       "    <tr>\n",
       "      <th>10</th>\n",
       "      <td>3.699712</td>\n",
       "      <td>6.825324</td>\n",
       "      <td>1</td>\n",
       "    </tr>\n",
       "    <tr>\n",
       "      <th>11</th>\n",
       "      <td>5.839255</td>\n",
       "      <td>1.075999</td>\n",
       "      <td>1</td>\n",
       "    </tr>\n",
       "    <tr>\n",
       "      <th>12</th>\n",
       "      <td>7.014203</td>\n",
       "      <td>4.714524</td>\n",
       "      <td>1</td>\n",
       "    </tr>\n",
       "    <tr>\n",
       "      <th>13</th>\n",
       "      <td>0.053370</td>\n",
       "      <td>8.850959</td>\n",
       "      <td>1</td>\n",
       "    </tr>\n",
       "    <tr>\n",
       "      <th>14</th>\n",
       "      <td>3.630141</td>\n",
       "      <td>8.711286</td>\n",
       "      <td>1</td>\n",
       "    </tr>\n",
       "    <tr>\n",
       "      <th>15</th>\n",
       "      <td>6.809818</td>\n",
       "      <td>8.997723</td>\n",
       "      <td>1</td>\n",
       "    </tr>\n",
       "    <tr>\n",
       "      <th>16</th>\n",
       "      <td>4.924180</td>\n",
       "      <td>6.314352</td>\n",
       "      <td>1</td>\n",
       "    </tr>\n",
       "    <tr>\n",
       "      <th>17</th>\n",
       "      <td>9.294719</td>\n",
       "      <td>3.269216</td>\n",
       "      <td>1</td>\n",
       "    </tr>\n",
       "    <tr>\n",
       "      <th>18</th>\n",
       "      <td>1.332875</td>\n",
       "      <td>3.490330</td>\n",
       "      <td>1</td>\n",
       "    </tr>\n",
       "    <tr>\n",
       "      <th>19</th>\n",
       "      <td>6.410919</td>\n",
       "      <td>7.833153</td>\n",
       "      <td>1</td>\n",
       "    </tr>\n",
       "  </tbody>\n",
       "</table>\n",
       "</div>"
      ],
      "text/plain": [
       "          X1        X2  Y\n",
       "0   2.113504  2.184921  0\n",
       "1   1.797302  1.056425  0\n",
       "2   4.800700  0.081964  0\n",
       "3   3.631863  3.607469  0\n",
       "4   3.732544  4.013074  0\n",
       "5   4.952091  0.521308  0\n",
       "6   3.565606  3.518831  0\n",
       "7   4.342235  2.501519  0\n",
       "8   0.587853  0.532752  0\n",
       "9   0.880891  3.927227  0\n",
       "10  3.699712  6.825324  1\n",
       "11  5.839255  1.075999  1\n",
       "12  7.014203  4.714524  1\n",
       "13  0.053370  8.850959  1\n",
       "14  3.630141  8.711286  1\n",
       "15  6.809818  8.997723  1\n",
       "16  4.924180  6.314352  1\n",
       "17  9.294719  3.269216  1\n",
       "18  1.332875  3.490330  1\n",
       "19  6.410919  7.833153  1"
      ]
     },
     "execution_count": 12,
     "metadata": {},
     "output_type": "execute_result"
    }
   ],
   "source": [
    "df"
   ]
  },
  {
   "cell_type": "code",
   "execution_count": 13,
   "id": "d43c91e3",
   "metadata": {},
   "outputs": [],
   "source": [
    "Z = np.zeros((20, 2))\n",
    "for i in range(20):\n",
    "    Z[i, Y[i]] = 1"
   ]
  },
  {
   "cell_type": "code",
   "execution_count": 14,
   "id": "04cc12ec",
   "metadata": {},
   "outputs": [
    {
     "data": {
      "text/plain": [
       "(20, 2)"
      ]
     },
     "execution_count": 14,
     "metadata": {},
     "output_type": "execute_result"
    }
   ],
   "source": [
    "X.shape"
   ]
  },
  {
   "cell_type": "code",
   "execution_count": 15,
   "id": "e3af8320",
   "metadata": {},
   "outputs": [],
   "source": [
    "Wi_1 = np.random.randn(3, 2)\n",
    "Bi_1 = np.random.randn(3)\n",
    "Wi_2 = np.random.randn(3, 2)\n",
    "Bi_2 = np.random.randn(2)"
   ]
  },
  {
   "cell_type": "code",
   "execution_count": 18,
   "id": "905ae7f0",
   "metadata": {},
   "outputs": [
    {
     "name": "stdout",
     "output_type": "stream",
     "text": [
      "[[-0.85315766 -1.21346041]\n",
      " [ 2.32628583 -0.73595807]\n",
      " [-0.60724462 -0.21752671]]\n",
      "---\n",
      "[[-0.77809779 -0.23264868]\n",
      " [ 2.23246867  0.61945548]\n",
      " [-0.20748072 -1.48405893]]\n",
      "---\n",
      "[ 0.59600879 -0.68271908  0.25547627]\n",
      "---\n",
      "[0.79136625 0.5297001 ]\n",
      "---\n"
     ]
    }
   ],
   "source": [
    "print(Wi_1)\n",
    "print(\"---\")\n",
    "print(Wi_2)\n",
    "print(\"---\")\n",
    "print(Bi_1)\n",
    "print(\"---\")\n",
    "print(Bi_2)\n",
    "print(\"---\")"
   ]
  },
  {
   "cell_type": "code",
   "execution_count": 19,
   "id": "68f65339",
   "metadata": {},
   "outputs": [
    {
     "name": "stdout",
     "output_type": "stream",
     "text": [
      "[[-0.85315766  2.32628583 -0.60724462]\n",
      " [-1.21346041 -0.73595807 -0.21752671]]\n"
     ]
    }
   ],
   "source": [
    "print(Wi_1.T) #transpose of matrix"
   ]
  },
  {
   "cell_type": "markdown",
   "id": "11d209e4",
   "metadata": {},
   "source": [
    "## Forward Propagation"
   ]
  },
  {
   "cell_type": "code",
   "execution_count": 21,
   "id": "17548f18",
   "metadata": {},
   "outputs": [],
   "source": [
    "def forward_prop(X, Wi_1, Bi_1, Wi_2, Bi_2):\n",
    "    # first layer\n",
    "    M = 1 / (1 + np.exp(-(X.dot(Wi_1.T) + Bi_1)))\n",
    "    # second layer\n",
    "    A = M.dot(Wi_2) + Bi_2\n",
    "    expA = np.exp(A)\n",
    "    Y = expA / expA.sum(axis=1, keepdims=True) # softmax, generates forward propagation\n",
    "    return Y, M"
   ]
  },
  {
   "cell_type": "code",
   "execution_count": 22,
   "id": "2af7aa2e",
   "metadata": {},
   "outputs": [
    {
     "data": {
      "text/plain": [
       "(array([[0.87940554, 0.12059446],\n",
       "        [0.88581393, 0.11418607],\n",
       "        [0.87459484, 0.12540516],\n",
       "        [0.87460126, 0.12539874],\n",
       "        [0.87343216, 0.12656784],\n",
       "        [0.87389734, 0.12610266],\n",
       "        [0.87498152, 0.12501848],\n",
       "        [0.87409651, 0.12590349],\n",
       "        [0.82567084, 0.17432916],\n",
       "        [0.70205616, 0.29794384],\n",
       "        [0.8616316 , 0.1383684 ],\n",
       "        [0.87094923, 0.12905077],\n",
       "        [0.86795084, 0.13204916],\n",
       "        [0.61297248, 0.38702752],\n",
       "        [0.82772657, 0.17227343],\n",
       "        [0.86739006, 0.13260994],\n",
       "        [0.86896014, 0.13103986],\n",
       "        [0.86732714, 0.13267286],\n",
       "        [0.78134161, 0.21865839],\n",
       "        [0.86765981, 0.13234019]]),\n",
       " array([[2.06644576e-02, 9.32509095e-01, 1.81946261e-01],\n",
       "        [9.80303691e-02, 9.38244975e-01, 2.56216607e-01],\n",
       "        [2.66175633e-02, 9.99970313e-01, 6.43109914e-02],\n",
       "        [1.02702330e-03, 9.94006603e-01, 6.09580926e-02],\n",
       "        [5.76391542e-04, 9.93611146e-01, 5.29480878e-02],\n",
       "        [1.39051530e-02, 9.99971157e-01, 5.39084006e-02],\n",
       "        [1.20993565e-03, 9.93453045e-01, 6.44552159e-02],\n",
       "        [2.14151987e-03, 9.99488447e-01, 5.09087872e-02],\n",
       "        [3.65401546e-01, 5.72659938e-01, 4.45867503e-01],\n",
       "        [7.23858346e-03, 1.78904036e-01, 2.43475856e-01],\n",
       "        [1.95466095e-05, 9.47881792e-01, 3.00074126e-02],\n",
       "        [3.36325136e-03, 9.99994491e-01, 2.86248286e-02],\n",
       "        [1.49751998e-05, 9.99994788e-01, 6.50023436e-03],\n",
       "        [3.75494910e-05, 8.47391955e-04, 1.54171298e-01],\n",
       "        [2.10356602e-06, 7.94274293e-01, 2.09622992e-02],\n",
       "        [9.85975376e-08, 9.99803945e-01, 2.90911273e-03],\n",
       "        [1.27839162e-05, 9.97817791e-01, 1.61707875e-02],\n",
       "        [1.23614444e-05, 9.99999991e-01, 2.23822052e-03],\n",
       "        [8.35486921e-03, 4.62369368e-01, 2.11961085e-01],\n",
       "        [5.69368819e-07, 9.99789547e-01, 4.76614523e-03]]))"
      ]
     },
     "execution_count": 22,
     "metadata": {},
     "output_type": "execute_result"
    }
   ],
   "source": [
    "forward_prop(X, Wi_1, Bi_1, Wi_2, Bi_2)"
   ]
  },
  {
   "cell_type": "markdown",
   "id": "840fae29",
   "metadata": {},
   "source": [
    "# Backpropagation with Gradient Descent"
   ]
  },
  {
   "cell_type": "code",
   "execution_count": 24,
   "id": "c874d002",
   "metadata": {},
   "outputs": [],
   "source": [
    "# actual minus predicted value\n",
    "def diffWi_2(H, Z, Y):\n",
    "    return H.T.dot(Z - Y)"
   ]
  },
  {
   "cell_type": "code",
   "execution_count": 25,
   "id": "18486568",
   "metadata": {},
   "outputs": [],
   "source": [
    "def diffWi_1(X, H, Z, output, Wi_2):\n",
    "    dZ = (Z - output).dot(Wi_2.T) * H * (1-H)\n",
    "    return X.T.dot(dZ)"
   ]
  },
  {
   "cell_type": "code",
   "execution_count": 26,
   "id": "58e87c22",
   "metadata": {},
   "outputs": [],
   "source": [
    "def diffB2(Z, Y):\n",
    "    return (Z-Y).sum(axis=0)\n",
    "\n",
    "def diffB1(Z, Y, Wi_2, H):\n",
    "    return ((Z-Y).dot(Wi_2.T) * H * (1-H)).sum(axis=0)"
   ]
  },
  {
   "cell_type": "code",
   "execution_count": 27,
   "id": "40141163",
   "metadata": {},
   "outputs": [],
   "source": [
    "learning_rate = 1e-3\n",
    "for epoch in range(10000):\n",
    "    output, hidden = forward_prop(X, Wi_1, Bi_1, Wi_2, Bi_2)\n",
    "    Wi_2 += learning_rate * diffWi_2(hidden, Z, output)\n",
    "    Bi_2 += learning_rate * diffB2(Z, output)\n",
    "    Wi_1 += learning_rate * diffWi_1(X, hidden, Z, output, Wi_2).T\n",
    "    Bi_1 += learning_rate * diffB1(Z, output, Wi_2, hidden)"
   ]
  },
  {
   "cell_type": "markdown",
   "id": "d55e89ee",
   "metadata": {},
   "source": [
    "# Generating Predictions"
   ]
  },
  {
   "cell_type": "code",
   "execution_count": 32,
   "id": "1a1fb93f",
   "metadata": {},
   "outputs": [
    {
     "name": "stdout",
     "output_type": "stream",
     "text": [
      "prob of 0: 0.6125144665206897\n",
      "prob of 1: 0.3874855334793103\n"
     ]
    }
   ],
   "source": [
    "X_test = np.array([1,3])\n",
    "\n",
    "hidden_output = 1 / (1 + np.exp(-X_test.dot(Wi_1.T)-Bi_1))\n",
    "outer_layer_output = hidden_output.dot(Wi_2) + Bi_2\n",
    "expA = np.exp(outer_layer_output)\n",
    "Y = expA / expA.sum()\n",
    "print(f\"prob of 0: {Y[0]}\")\n",
    "print(f\"prob of 1: {Y[1]}\")"
   ]
  }
 ],
 "metadata": {
  "kernelspec": {
   "display_name": "Python 3 (ipykernel)",
   "language": "python",
   "name": "python3"
  },
  "language_info": {
   "codemirror_mode": {
    "name": "ipython",
    "version": 3
   },
   "file_extension": ".py",
   "mimetype": "text/x-python",
   "name": "python",
   "nbconvert_exporter": "python",
   "pygments_lexer": "ipython3",
   "version": "3.9.7"
  }
 },
 "nbformat": 4,
 "nbformat_minor": 5
}
